{
 "cells": [
  {
   "cell_type": "markdown",
   "id": "add7c007",
   "metadata": {},
   "source": [
    "# Mobile Price Classification"
   ]
  },
  {
   "cell_type": "code",
   "execution_count": 67,
   "id": "63ef1ec3",
   "metadata": {},
   "outputs": [],
   "source": [
    "import pandas as pd\n",
    "import numpy as np\n",
    "import matplotlib.pyplot as plt\n",
    "import seaborn as sns\n",
    "import warnings\n",
    "warnings.filterwarnings(\"ignore\")"
   ]
  },
  {
   "cell_type": "markdown",
   "id": "91c97089",
   "metadata": {},
   "source": [
    "## Importin Data"
   ]
  },
  {
   "cell_type": "code",
   "execution_count": 68,
   "id": "cf9f791b",
   "metadata": {},
   "outputs": [],
   "source": [
    "df_raw=pd.read_csv('train.csv')"
   ]
  },
  {
   "cell_type": "code",
   "execution_count": 69,
   "id": "c3012ad6",
   "metadata": {},
   "outputs": [],
   "source": [
    "df=df_raw.copy()"
   ]
  },
  {
   "cell_type": "code",
   "execution_count": 70,
   "id": "6668df43",
   "metadata": {},
   "outputs": [
    {
     "data": {
      "text/html": [
       "<div>\n",
       "<style scoped>\n",
       "    .dataframe tbody tr th:only-of-type {\n",
       "        vertical-align: middle;\n",
       "    }\n",
       "\n",
       "    .dataframe tbody tr th {\n",
       "        vertical-align: top;\n",
       "    }\n",
       "\n",
       "    .dataframe thead th {\n",
       "        text-align: right;\n",
       "    }\n",
       "</style>\n",
       "<table border=\"1\" class=\"dataframe\">\n",
       "  <thead>\n",
       "    <tr style=\"text-align: right;\">\n",
       "      <th></th>\n",
       "      <th>battery_power</th>\n",
       "      <th>blue</th>\n",
       "      <th>clock_speed</th>\n",
       "      <th>dual_sim</th>\n",
       "      <th>fc</th>\n",
       "      <th>four_g</th>\n",
       "      <th>int_memory</th>\n",
       "      <th>m_dep</th>\n",
       "      <th>mobile_wt</th>\n",
       "      <th>n_cores</th>\n",
       "      <th>pc</th>\n",
       "      <th>px_height</th>\n",
       "      <th>px_width</th>\n",
       "      <th>ram</th>\n",
       "      <th>sc_h</th>\n",
       "      <th>sc_w</th>\n",
       "      <th>talk_time</th>\n",
       "      <th>three_g</th>\n",
       "      <th>touch_screen</th>\n",
       "      <th>wifi</th>\n",
       "      <th>price_range</th>\n",
       "    </tr>\n",
       "  </thead>\n",
       "  <tbody>\n",
       "    <tr>\n",
       "      <th>0</th>\n",
       "      <td>842</td>\n",
       "      <td>0</td>\n",
       "      <td>2.2</td>\n",
       "      <td>0</td>\n",
       "      <td>1</td>\n",
       "      <td>0</td>\n",
       "      <td>7</td>\n",
       "      <td>0.6</td>\n",
       "      <td>188</td>\n",
       "      <td>2</td>\n",
       "      <td>2</td>\n",
       "      <td>20</td>\n",
       "      <td>756</td>\n",
       "      <td>2549</td>\n",
       "      <td>9</td>\n",
       "      <td>7</td>\n",
       "      <td>19</td>\n",
       "      <td>0</td>\n",
       "      <td>0</td>\n",
       "      <td>1</td>\n",
       "      <td>1</td>\n",
       "    </tr>\n",
       "    <tr>\n",
       "      <th>1</th>\n",
       "      <td>1021</td>\n",
       "      <td>1</td>\n",
       "      <td>0.5</td>\n",
       "      <td>1</td>\n",
       "      <td>0</td>\n",
       "      <td>1</td>\n",
       "      <td>53</td>\n",
       "      <td>0.7</td>\n",
       "      <td>136</td>\n",
       "      <td>3</td>\n",
       "      <td>6</td>\n",
       "      <td>905</td>\n",
       "      <td>1988</td>\n",
       "      <td>2631</td>\n",
       "      <td>17</td>\n",
       "      <td>3</td>\n",
       "      <td>7</td>\n",
       "      <td>1</td>\n",
       "      <td>1</td>\n",
       "      <td>0</td>\n",
       "      <td>2</td>\n",
       "    </tr>\n",
       "    <tr>\n",
       "      <th>2</th>\n",
       "      <td>563</td>\n",
       "      <td>1</td>\n",
       "      <td>0.5</td>\n",
       "      <td>1</td>\n",
       "      <td>2</td>\n",
       "      <td>1</td>\n",
       "      <td>41</td>\n",
       "      <td>0.9</td>\n",
       "      <td>145</td>\n",
       "      <td>5</td>\n",
       "      <td>6</td>\n",
       "      <td>1263</td>\n",
       "      <td>1716</td>\n",
       "      <td>2603</td>\n",
       "      <td>11</td>\n",
       "      <td>2</td>\n",
       "      <td>9</td>\n",
       "      <td>1</td>\n",
       "      <td>1</td>\n",
       "      <td>0</td>\n",
       "      <td>2</td>\n",
       "    </tr>\n",
       "    <tr>\n",
       "      <th>3</th>\n",
       "      <td>615</td>\n",
       "      <td>1</td>\n",
       "      <td>2.5</td>\n",
       "      <td>0</td>\n",
       "      <td>0</td>\n",
       "      <td>0</td>\n",
       "      <td>10</td>\n",
       "      <td>0.8</td>\n",
       "      <td>131</td>\n",
       "      <td>6</td>\n",
       "      <td>9</td>\n",
       "      <td>1216</td>\n",
       "      <td>1786</td>\n",
       "      <td>2769</td>\n",
       "      <td>16</td>\n",
       "      <td>8</td>\n",
       "      <td>11</td>\n",
       "      <td>1</td>\n",
       "      <td>0</td>\n",
       "      <td>0</td>\n",
       "      <td>2</td>\n",
       "    </tr>\n",
       "    <tr>\n",
       "      <th>4</th>\n",
       "      <td>1821</td>\n",
       "      <td>1</td>\n",
       "      <td>1.2</td>\n",
       "      <td>0</td>\n",
       "      <td>13</td>\n",
       "      <td>1</td>\n",
       "      <td>44</td>\n",
       "      <td>0.6</td>\n",
       "      <td>141</td>\n",
       "      <td>2</td>\n",
       "      <td>14</td>\n",
       "      <td>1208</td>\n",
       "      <td>1212</td>\n",
       "      <td>1411</td>\n",
       "      <td>8</td>\n",
       "      <td>2</td>\n",
       "      <td>15</td>\n",
       "      <td>1</td>\n",
       "      <td>1</td>\n",
       "      <td>0</td>\n",
       "      <td>1</td>\n",
       "    </tr>\n",
       "  </tbody>\n",
       "</table>\n",
       "</div>"
      ],
      "text/plain": [
       "   battery_power  blue  clock_speed  dual_sim  fc  four_g  int_memory  m_dep  \\\n",
       "0            842     0          2.2         0   1       0           7    0.6   \n",
       "1           1021     1          0.5         1   0       1          53    0.7   \n",
       "2            563     1          0.5         1   2       1          41    0.9   \n",
       "3            615     1          2.5         0   0       0          10    0.8   \n",
       "4           1821     1          1.2         0  13       1          44    0.6   \n",
       "\n",
       "   mobile_wt  n_cores  pc  px_height  px_width   ram  sc_h  sc_w  talk_time  \\\n",
       "0        188        2   2         20       756  2549     9     7         19   \n",
       "1        136        3   6        905      1988  2631    17     3          7   \n",
       "2        145        5   6       1263      1716  2603    11     2          9   \n",
       "3        131        6   9       1216      1786  2769    16     8         11   \n",
       "4        141        2  14       1208      1212  1411     8     2         15   \n",
       "\n",
       "   three_g  touch_screen  wifi  price_range  \n",
       "0        0             0     1            1  \n",
       "1        1             1     0            2  \n",
       "2        1             1     0            2  \n",
       "3        1             0     0            2  \n",
       "4        1             1     0            1  "
      ]
     },
     "execution_count": 70,
     "metadata": {},
     "output_type": "execute_result"
    }
   ],
   "source": [
    "pd.set_option('display.max_columns', None)\n",
    "df.head()"
   ]
  },
  {
   "cell_type": "code",
   "execution_count": 71,
   "id": "69303b24",
   "metadata": {},
   "outputs": [
    {
     "data": {
      "text/plain": [
       "array([1, 2, 3, 0], dtype=int64)"
      ]
     },
     "execution_count": 71,
     "metadata": {},
     "output_type": "execute_result"
    }
   ],
   "source": [
    "df['price_range'].unique()"
   ]
  },
  {
   "cell_type": "code",
   "execution_count": 72,
   "id": "9fa69d8b",
   "metadata": {},
   "outputs": [
    {
     "data": {
      "text/plain": [
       "price_range\n",
       "0    500\n",
       "1    500\n",
       "2    500\n",
       "3    500\n",
       "dtype: int64"
      ]
     },
     "execution_count": 72,
     "metadata": {},
     "output_type": "execute_result"
    }
   ],
   "source": [
    "df.groupby('price_range').size()"
   ]
  },
  {
   "cell_type": "markdown",
   "id": "03a41ff5",
   "metadata": {},
   "source": [
    "## Data_Processing"
   ]
  },
  {
   "cell_type": "code",
   "execution_count": 73,
   "id": "65c4b9b2",
   "metadata": {},
   "outputs": [
    {
     "name": "stdout",
     "output_type": "stream",
     "text": [
      "<class 'pandas.core.frame.DataFrame'>\n",
      "RangeIndex: 2000 entries, 0 to 1999\n",
      "Data columns (total 21 columns):\n",
      " #   Column         Non-Null Count  Dtype  \n",
      "---  ------         --------------  -----  \n",
      " 0   battery_power  2000 non-null   int64  \n",
      " 1   blue           2000 non-null   int64  \n",
      " 2   clock_speed    2000 non-null   float64\n",
      " 3   dual_sim       2000 non-null   int64  \n",
      " 4   fc             2000 non-null   int64  \n",
      " 5   four_g         2000 non-null   int64  \n",
      " 6   int_memory     2000 non-null   int64  \n",
      " 7   m_dep          2000 non-null   float64\n",
      " 8   mobile_wt      2000 non-null   int64  \n",
      " 9   n_cores        2000 non-null   int64  \n",
      " 10  pc             2000 non-null   int64  \n",
      " 11  px_height      2000 non-null   int64  \n",
      " 12  px_width       2000 non-null   int64  \n",
      " 13  ram            2000 non-null   int64  \n",
      " 14  sc_h           2000 non-null   int64  \n",
      " 15  sc_w           2000 non-null   int64  \n",
      " 16  talk_time      2000 non-null   int64  \n",
      " 17  three_g        2000 non-null   int64  \n",
      " 18  touch_screen   2000 non-null   int64  \n",
      " 19  wifi           2000 non-null   int64  \n",
      " 20  price_range    2000 non-null   int64  \n",
      "dtypes: float64(2), int64(19)\n",
      "memory usage: 328.2 KB\n"
     ]
    }
   ],
   "source": [
    "df.info()"
   ]
  },
  {
   "cell_type": "code",
   "execution_count": 74,
   "id": "1a41c761",
   "metadata": {},
   "outputs": [
    {
     "data": {
      "text/plain": [
       "battery_power    0\n",
       "blue             0\n",
       "clock_speed      0\n",
       "dual_sim         0\n",
       "fc               0\n",
       "four_g           0\n",
       "int_memory       0\n",
       "m_dep            0\n",
       "mobile_wt        0\n",
       "n_cores          0\n",
       "pc               0\n",
       "px_height        0\n",
       "px_width         0\n",
       "ram              0\n",
       "sc_h             0\n",
       "sc_w             0\n",
       "talk_time        0\n",
       "three_g          0\n",
       "touch_screen     0\n",
       "wifi             0\n",
       "price_range      0\n",
       "dtype: int64"
      ]
     },
     "execution_count": 74,
     "metadata": {},
     "output_type": "execute_result"
    }
   ],
   "source": [
    "df.isna().sum()"
   ]
  },
  {
   "cell_type": "markdown",
   "id": "3d300ab6",
   "metadata": {},
   "source": [
    "## EDA"
   ]
  },
  {
   "cell_type": "code",
   "execution_count": 75,
   "id": "b323d2d1",
   "metadata": {
    "scrolled": false
   },
   "outputs": [
    {
     "data": {
      "image/png": "[encoded data removed]",
      "text/plain": [
       "<Figure size 432x288 with 1 Axes>"
      ]
     },
     "metadata": {
      "needs_background": "light"
     },
     "output_type": "display_data"
    },
    {
     "data": {
      "image/png": "[encoded data removed]",
      "text/plain": [
       "<Figure size 432x288 with 1 Axes>"
      ]
     },
     "metadata": {
      "needs_background": "light"
     },
     "output_type": "display_data"
    },
    {
     "data": {
      "image/png": "[encoded data removed]",
      "text/plain": [
       "<Figure size 432x288 with 1 Axes>"
      ]
     },
     "metadata": {
      "needs_background": "light"
     },
     "output_type": "display_data"
    },
    {
     "data": {
      "image/png": "[encoded data removed]",
      "text/plain": [
       "<Figure size 432x288 with 1 Axes>"
      ]
     },
     "metadata": {
      "needs_background": "light"
     },
     "output_type": "display_data"
    },
    {
     "data": {
      "image/png": "[encoded data removed]",
      "text/plain": [
       "<Figure size 432x288 with 1 Axes>"
      ]
     },
     "metadata": {
      "needs_background": "light"
     },
     "output_type": "display_data"
    },
    {
     "data": {
      "image/png": "[encoded data removed]",
      "text/plain": [
       "<Figure size 432x288 with 1 Axes>"
      ]
     },
     "metadata": {
      "needs_background": "light"
     },
     "output_type": "display_data"
    },
    {
     "data": {
      "image/png": "[encoded data removed]",
      "text/plain": [
       "<Figure size 432x288 with 1 Axes>"
      ]
     },
     "metadata": {
      "needs_background": "light"
     },
     "output_type": "display_data"
    },
    {
     "data": {
      "image/png": "[encoded data removed]",
      "text/plain": [
       "<Figure size 432x288 with 1 Axes>"
      ]
     },
     "metadata": {
      "needs_background": "light"
     },
     "output_type": "display_data"
    },
    {
     "data": {
      "image/png": "[encoded data removed]",
      "text/plain": [
       "<Figure size 432x288 with 1 Axes>"
      ]
     },
     "metadata": {
      "needs_background": "light"
     },
     "output_type": "display_data"
    },
    {
     "data": {
      "image/png": "[encoded data removed]",
      "text/plain": [
       "<Figure size 432x288 with 1 Axes>"
      ]
     },
     "metadata": {
      "needs_background": "light"
     },
     "output_type": "display_data"
    },
    {
     "data": {
      "image/png": "[encoded data removed]",
      "text/plain": [
       "<Figure size 432x288 with 1 Axes>"
      ]
     },
     "metadata": {
      "needs_background": "light"
     },
     "output_type": "display_data"
    },
    {
     "data": {
      "image/png": "[encoded data removed]",
      "text/plain": [
       "<Figure size 432x288 with 1 Axes>"
      ]
     },
     "metadata": {
      "needs_background": "light"
     },
     "output_type": "display_data"
    },
    {
     "data": {
      "image/png": "[encoded data removed]",
      "text/plain": [
       "<Figure size 432x288 with 1 Axes>"
      ]
     },
     "metadata": {
      "needs_background": "light"
     },
     "output_type": "display_data"
    },
    {
     "data": {
      "image/png": "[encoded data removed]",
      "text/plain": [
       "<Figure size 432x288 with 1 Axes>"
      ]
     },
     "metadata": {
      "needs_background": "light"
     },
     "output_type": "display_data"
    },
    {
     "data": {
      "image/png": "[encoded data removed]",
      "text/plain": [
       "<Figure size 432x288 with 1 Axes>"
      ]
     },
     "metadata": {
      "needs_background": "light"
     },
     "output_type": "display_data"
    },
    {
     "data": {
      "image/png": "[encoded data removed]",
      "text/plain": [
       "<Figure size 432x288 with 1 Axes>"
      ]
     },
     "metadata": {
      "needs_background": "light"
     },
     "output_type": "display_data"
    },
    {
     "data": {
      "image/png": "[encoded data removed]",
      "text/plain": [
       "<Figure size 432x288 with 1 Axes>"
      ]
     },
     "metadata": {
      "needs_background": "light"
     },
     "output_type": "display_data"
    },
    {
     "data": {
      "image/png": "[encoded data removed]",
      "text/plain": [
       "<Figure size 432x288 with 1 Axes>"
      ]
     },
     "metadata": {
      "needs_background": "light"
     },
     "output_type": "display_data"
    },
    {
     "data": {
      "image/png": "[encoded data removed]",
      "text/plain": [
       "<Figure size 432x288 with 1 Axes>"
      ]
     },
     "metadata": {
      "needs_background": "light"
     },
     "output_type": "display_data"
    },
    {
     "data": {
      "image/png": "[encoded data removed]",
      "text/plain": [
       "<Figure size 432x288 with 1 Axes>"
      ]
     },
     "metadata": {
      "needs_background": "light"
     },
     "output_type": "display_data"
    },
    {
     "data": {
      "image/png": "[encoded data removed]",
      "text/plain": [
       "<Figure size 432x288 with 1 Axes>"
      ]
     },
     "metadata": {
      "needs_background": "light"
     },
     "output_type": "display_data"
    }
   ],
   "source": [
    "for i in df.columns:\n",
    "    sns.distplot(df[i],kde=False)\n",
    "    plt.show()"
   ]
  },
  {
   "cell_type": "code",
   "execution_count": 78,
   "id": "a57c291a",
   "metadata": {
    "scrolled": false
   },
   "outputs": [
    {
     "data": {
      "image/png": "[encoded data removed]",
      "text/plain": [
       "<Figure size 432x288 with 1 Axes>"
      ]
     },
     "metadata": {
      "needs_background": "light"
     },
     "output_type": "display_data"
    },
    {
     "data": {
      "image/png": "[encoded data removed]",
      "text/plain": [
       "<Figure size 432x288 with 1 Axes>"
      ]
     },
     "metadata": {
      "needs_background": "light"
     },
     "output_type": "display_data"
    },
    {
     "data": {
      "image/png": "[encoded data removed]",
      "text/plain": [
       "<Figure size 432x288 with 1 Axes>"
      ]
     },
     "metadata": {
      "needs_background": "light"
     },
     "output_type": "display_data"
    },
    {
     "data": {
      "image/png": "[encoded data removed]",
      "text/plain": [
       "<Figure size 432x288 with 1 Axes>"
      ]
     },
     "metadata": {
      "needs_background": "light"
     },
     "output_type": "display_data"
    },
    {
     "data": {
      "image/png": "[encoded data removed]",
      "text/plain": [
       "<Figure size 432x288 with 1 Axes>"
      ]
     },
     "metadata": {
      "needs_background": "light"
     },
     "output_type": "display_data"
    },
    {
     "data": {
      "image/png": "[encoded data removed]",
      "text/plain": [
       "<Figure size 432x288 with 1 Axes>"
      ]
     },
     "metadata": {
      "needs_background": "light"
     },
     "output_type": "display_data"
    },
    {
     "data": {
      "image/png": "[encoded data removed]",
      "text/plain": [
       "<Figure size 432x288 with 1 Axes>"
      ]
     },
     "metadata": {
      "needs_background": "light"
     },
     "output_type": "display_data"
    },
    {
     "data": {
      "image/png": "[encoded data removed]",
      "text/plain": [
       "<Figure size 432x288 with 1 Axes>"
      ]
     },
     "metadata": {
      "needs_background": "light"
     },
     "output_type": "display_data"
    },
    {
     "data": {
      "image/png": "[encoded data removed]",
      "text/plain": [
       "<Figure size 432x288 with 1 Axes>"
      ]
     },
     "metadata": {
      "needs_background": "light"
     },
     "output_type": "display_data"
    },
    {
     "data": {
      "image/png": "[encoded data removed]",
      "text/plain": [
       "<Figure size 432x288 with 1 Axes>"
      ]
     },
     "metadata": {
      "needs_background": "light"
     },
     "output_type": "display_data"
    },
    {
     "data": {
      "image/png": "[encoded data removed]",
      "text/plain": [
       "<Figure size 432x288 with 1 Axes>"
      ]
     },
     "metadata": {
      "needs_background": "light"
     },
     "output_type": "display_data"
    },
    {
     "data": {
      "image/png": "[encoded data removed]",
      "text/plain": [
       "<Figure size 432x288 with 1 Axes>"
      ]
     },
     "metadata": {
      "needs_background": "light"
     },
     "output_type": "display_data"
    },
    {
     "data": {
      "image/png": "[encoded data removed]",
      "text/plain": [
       "<Figure size 432x288 with 1 Axes>"
      ]
     },
     "metadata": {
      "needs_background": "light"
     },
     "output_type": "display_data"
    },
    {
     "data": {
      "image/png": "[encoded data removed]",
      "text/plain": [
       "<Figure size 432x288 with 1 Axes>"
      ]
     },
     "metadata": {
      "needs_background": "light"
     },
     "output_type": "display_data"
    },
    {
     "data": {
      "image/png": "[encoded data removed]",
      "text/plain": [
       "<Figure size 432x288 with 1 Axes>"
      ]
     },
     "metadata": {
      "needs_background": "light"
     },
     "output_type": "display_data"
    },
    {
     "data": {
      "image/png": "[encoded data removed]",
      "text/plain": [
       "<Figure size 432x288 with 1 Axes>"
      ]
     },
     "metadata": {
      "needs_background": "light"
     },
     "output_type": "display_data"
    },
    {
     "data": {
      "image/png": "[encoded data removed]",
      "text/plain": [
       "<Figure size 432x288 with 1 Axes>"
      ]
     },
     "metadata": {
      "needs_background": "light"
     },
     "output_type": "display_data"
    },
    {
     "data": {
      "image/png": "[encoded data removed]",
      "text/plain": [
       "<Figure size 432x288 with 1 Axes>"
      ]
     },
     "metadata": {
      "needs_background": "light"
     },
     "output_type": "display_data"
    },
    {
     "data": {
      "image/png": "[encoded data removed]",
      "text/plain": [
       "<Figure size 432x288 with 1 Axes>"
      ]
     },
     "metadata": {
      "needs_background": "light"
     },
     "output_type": "display_data"
    },
    {
     "data": {
      "image/png": "[encoded data removed]",
      "text/plain": [
       "<Figure size 432x288 with 1 Axes>"
      ]
     },
     "metadata": {
      "needs_background": "light"
     },
     "output_type": "display_data"
    },
    {
     "data": {
      "image/png": "[encoded data removed]",
      "text/plain": [
       "<Figure size 432x288 with 1 Axes>"
      ]
     },
     "metadata": {
      "needs_background": "light"
     },
     "output_type": "display_data"
    }
   ],
   "source": [
    "for i in df.columns:\n",
    "    sns.countplot(df[i])\n",
    "    plt.show()"
   ]
  },
  {
   "cell_type": "code",
   "execution_count": 80,
   "id": "66eae1c9",
   "metadata": {
    "scrolled": false
   },
   "outputs": [
    {
     "data": {
      "image/png": "[encoded data removed]",
      "text/plain": [
       "<Figure size 432x288 with 1 Axes>"
      ]
     },
     "metadata": {
      "needs_background": "light"
     },
     "output_type": "display_data"
    },
    {
     "data": {
      "image/png": "[encoded data removed]",
      "text/plain": [
       "<Figure size 432x288 with 1 Axes>"
      ]
     },
     "metadata": {
      "needs_background": "light"
     },
     "output_type": "display_data"
    },
    {
     "data": {
      "image/png": "[encoded data removed]",
      "text/plain": [
       "<Figure size 432x288 with 1 Axes>"
      ]
     },
     "metadata": {
      "needs_background": "light"
     },
     "output_type": "display_data"
    },
    {
     "data": {
      "image/png": "[encoded data removed]",
      "text/plain": [
       "<Figure size 432x288 with 1 Axes>"
      ]
     },
     "metadata": {
      "needs_background": "light"
     },
     "output_type": "display_data"
    },
    {
     "data": {
      "image/png": "[encoded data removed]",
      "text/plain": [
       "<Figure size 432x288 with 1 Axes>"
      ]
     },
     "metadata": {
      "needs_background": "light"
     },
     "output_type": "display_data"
    },
    {
     "data": {
      "image/png": "[encoded data removed]",
      "text/plain": [
       "<Figure size 432x288 with 1 Axes>"
      ]
     },
     "metadata": {
      "needs_background": "light"
     },
     "output_type": "display_data"
    },
    {
     "data": {
      "image/png": "[encoded data removed]",
      "text/plain": [
       "<Figure size 432x288 with 1 Axes>"
      ]
     },
     "metadata": {
      "needs_background": "light"
     },
     "output_type": "display_data"
    },
    {
     "data": {
      "image/png": "[encoded data removed]",
      "text/plain": [
       "<Figure size 432x288 with 1 Axes>"
      ]
     },
     "metadata": {
      "needs_background": "light"
     },
     "output_type": "display_data"
    },
    {
     "data": {
      "image/png": "[encoded data removed]",
      "text/plain": [
       "<Figure size 432x288 with 1 Axes>"
      ]
     },
     "metadata": {
      "needs_background": "light"
     },
     "output_type": "display_data"
    },
    {
     "data": {
      "image/png": "[encoded data removed]",
      "text/plain": [
       "<Figure size 432x288 with 1 Axes>"
      ]
     },
     "metadata": {
      "needs_background": "light"
     },
     "output_type": "display_data"
    },
    {
     "data": {
      "image/png": "[encoded data removed]",
      "text/plain": [
       "<Figure size 432x288 with 1 Axes>"
      ]
     },
     "metadata": {
      "needs_background": "light"
     },
     "output_type": "display_data"
    },
    {
     "data": {
      "image/png": "[encoded data removed]",
      "text/plain": [
       "<Figure size 432x288 with 1 Axes>"
      ]
     },
     "metadata": {
      "needs_background": "light"
     },
     "output_type": "display_data"
    },
    {
     "data": {
      "image/png": "[encoded data removed]",
      "text/plain": [
       "<Figure size 432x288 with 1 Axes>"
      ]
     },
     "metadata": {
      "needs_background": "light"
     },
     "output_type": "display_data"
    },
    {
     "data": {
      "image/png": "[encoded data removed]",
      "text/plain": [
       "<Figure size 432x288 with 1 Axes>"
      ]
     },
     "metadata": {
      "needs_background": "light"
     },
     "output_type": "display_data"
    },
    {
     "data": {
      "image/png": "[encoded data removed]",
      "text/plain": [
       "<Figure size 432x288 with 1 Axes>"
      ]
     },
     "metadata": {
      "needs_background": "light"
     },
     "output_type": "display_data"
    },
    {
     "data": {
      "image/png": "[encoded data removed]",
      "text/plain": [
       "<Figure size 432x288 with 1 Axes>"
      ]
     },
     "metadata": {
      "needs_background": "light"
     },
     "output_type": "display_data"
    },
    {
     "data": {
      "image/png": "[encoded data removed]",
      "text/plain": [
       "<Figure size 432x288 with 1 Axes>"
      ]
     },
     "metadata": {
      "needs_background": "light"
     },
     "output_type": "display_data"
    },
    {
     "data": {
      "image/png": "[encoded data removed]",
      "text/plain": [
       "<Figure size 432x288 with 1 Axes>"
      ]
     },
     "metadata": {
      "needs_background": "light"
     },
     "output_type": "display_data"
    },
    {
     "data": {
      "image/png": "[encoded data removed]",
      "text/plain": [
       "<Figure size 432x288 with 1 Axes>"
      ]
     },
     "metadata": {
      "needs_background": "light"
     },
     "output_type": "display_data"
    },
    {
     "data": {
      "image/png": "[encoded data removed]",
      "text/plain": [
       "<Figure size 432x288 with 1 Axes>"
      ]
     },
     "metadata": {
      "needs_background": "light"
     },
     "output_type": "display_data"
    },
    {
     "data": {
      "image/png": "[encoded data removed]",
      "text/plain": [
       "<Figure size 432x288 with 1 Axes>"
      ]
     },
     "metadata": {
      "needs_background": "light"
     },
     "output_type": "display_data"
    }
   ],
   "source": [
    "for i in df.columns:\n",
    "    sns.boxplot(df[i])\n",
    "    plt.show()"
   ]
  },
  {
   "cell_type": "markdown",
   "id": "37dde1d0",
   "metadata": {},
   "source": [
    "## Split Data"
   ]
  },
  {
   "cell_type": "code",
   "execution_count": 12,
   "id": "9e8da6b7",
   "metadata": {},
   "outputs": [],
   "source": [
    "from sklearn.model_selection import train_test_split"
   ]
  },
  {
   "cell_type": "code",
   "execution_count": 13,
   "id": "d3145e20",
   "metadata": {},
   "outputs": [],
   "source": [
    "X=df.drop('price_range',axis=1)\n",
    "y=df['price_range']"
   ]
  },
  {
   "cell_type": "code",
   "execution_count": 14,
   "id": "ff6fd9fa",
   "metadata": {},
   "outputs": [],
   "source": [
    "X_train, X_test, y_train, y_test = train_test_split(X, y, test_size=0.3, random_state=42)"
   ]
  },
  {
   "cell_type": "markdown",
   "id": "6da56d2f",
   "metadata": {},
   "source": [
    "## Standerdization"
   ]
  },
  {
   "cell_type": "code",
   "execution_count": 15,
   "id": "059ab38c",
   "metadata": {},
   "outputs": [],
   "source": [
    "from sklearn.preprocessing import StandardScaler\n",
    "sc=StandardScaler()"
   ]
  },
  {
   "cell_type": "code",
   "execution_count": 16,
   "id": "978fded3",
   "metadata": {},
   "outputs": [],
   "source": [
    "X_train=sc.fit_transform(X_train)\n",
    "X_test=sc.transform(X_test)"
   ]
  },
  {
   "cell_type": "markdown",
   "id": "da24c7fa",
   "metadata": {},
   "source": [
    "## Models"
   ]
  },
  {
   "cell_type": "markdown",
   "id": "984ffeca",
   "metadata": {},
   "source": [
    "### Random Forest"
   ]
  },
  {
   "cell_type": "code",
   "execution_count": 17,
   "id": "bbdfeb5b",
   "metadata": {},
   "outputs": [],
   "source": [
    "from sklearn.ensemble import RandomForestClassifier\n",
    "from sklearn.metrics import confusion_matrix,classification_report,roc_auc_score,accuracy_score"
   ]
  },
  {
   "cell_type": "code",
   "execution_count": 19,
   "id": "c9b971c5",
   "metadata": {},
   "outputs": [
    {
     "name": "stdout",
     "output_type": "stream",
     "text": [
      "classification Report:               precision    recall  f1-score   support\n",
      "\n",
      "           0       0.94      0.94      0.94       151\n",
      "           1       0.83      0.87      0.85       146\n",
      "           2       0.82      0.79      0.81       148\n",
      "           3       0.91      0.90      0.91       155\n",
      "\n",
      "    accuracy                           0.88       600\n",
      "   macro avg       0.88      0.88      0.88       600\n",
      "weighted avg       0.88      0.88      0.88       600\n",
      "\n",
      "\n",
      "\n",
      "Confusion Matrix: [[142   9   0   0]\n",
      " [  9 127  10   0]\n",
      " [  0  17 117  14]\n",
      " [  0   0  15 140]]\n",
      "\n",
      "\n",
      "ACCURACY: 0.8766666666666667\n",
      "\n",
      "\n",
      "Roc Value: 0.9807818339646385\n"
     ]
    }
   ],
   "source": [
    "M1=RandomForestClassifier()\n",
    "M1.fit(X_train,y_train)\n",
    "P1=M1.predict(X_test)\n",
    "print('classification Report:',classification_report(y_test,P1))\n",
    "print('\\n')\n",
    "print('Confusion Matrix:', confusion_matrix(y_test,P1))\n",
    "print('\\n')\n",
    "print('ACCURACY:',accuracy_score(y_test,P1))\n",
    "print('\\n')\n",
    "print('Roc Value:',roc_auc_score(y_test,M1.predict_proba(X_test),multi_class='ovr'))"
   ]
  },
  {
   "cell_type": "markdown",
   "id": "7cfcc5c6",
   "metadata": {},
   "source": [
    "### Decision Tree"
   ]
  },
  {
   "cell_type": "code",
   "execution_count": 23,
   "id": "1b382607",
   "metadata": {},
   "outputs": [],
   "source": [
    "from sklearn.tree import DecisionTreeClassifier"
   ]
  },
  {
   "cell_type": "code",
   "execution_count": 25,
   "id": "296de585",
   "metadata": {},
   "outputs": [
    {
     "name": "stdout",
     "output_type": "stream",
     "text": [
      "classification Report: \n",
      "               precision    recall  f1-score   support\n",
      "\n",
      "           0       0.92      0.87      0.89       151\n",
      "           1       0.75      0.81      0.78       146\n",
      "           2       0.74      0.74      0.74       148\n",
      "           3       0.86      0.86      0.86       155\n",
      "\n",
      "    accuracy                           0.82       600\n",
      "   macro avg       0.82      0.82      0.82       600\n",
      "weighted avg       0.82      0.82      0.82       600\n",
      "\n",
      "\n",
      "\n",
      "Confusion Matrix: \n",
      " [[131  20   0   0]\n",
      " [ 11 118  16   1]\n",
      " [  0  19 109  20]\n",
      " [  0   0  22 133]]\n",
      "\n",
      "\n",
      "ACCURACY: 0.8183333333333334\n",
      "\n",
      "\n",
      "Roc Value: 0.878582008970132\n"
     ]
    }
   ],
   "source": [
    "M2=DecisionTreeClassifier()\n",
    "M2.fit(X_train,y_train)\n",
    "P2=M2.predict(X_test)\n",
    "print('classification Report:','\\n',classification_report(y_test,P2))\n",
    "print('\\n')\n",
    "print('Confusion Matrix:','\\n',confusion_matrix(y_test,P2))\n",
    "print('\\n')\n",
    "print('ACCURACY:',accuracy_score(y_test,P2))\n",
    "print('\\n')\n",
    "print('Roc Value:',roc_auc_score(y_test,M2.predict_proba(X_test),multi_class='ovr'))"
   ]
  },
  {
   "cell_type": "markdown",
   "id": "27a708b5",
   "metadata": {},
   "source": [
    "## Knn"
   ]
  },
  {
   "cell_type": "code",
   "execution_count": 26,
   "id": "59fb7255",
   "metadata": {},
   "outputs": [],
   "source": [
    "from sklearn.neighbors import KNeighborsClassifier"
   ]
  },
  {
   "cell_type": "code",
   "execution_count": 32,
   "id": "773028b4",
   "metadata": {},
   "outputs": [
    {
     "data": {
      "text/plain": [
       "Text(0, 0.5, 'Error Rate')"
      ]
     },
     "execution_count": 32,
     "metadata": {},
     "output_type": "execute_result"
    },
    {
     "data": {
      "image/png": "[encoded data removed]",
      "text/plain": [
       "<Figure size 720x720 with 1 Axes>"
      ]
     },
     "metadata": {
      "needs_background": "light"
     },
     "output_type": "display_data"
    }
   ],
   "source": [
    "error_Mat=[]\n",
    "for i in range (1,50):\n",
    "    knn=KNeighborsClassifier(n_neighbors=i)\n",
    "    knn.fit(X_train,y_train)\n",
    "    predict_i=knn.predict(X_test)\n",
    "    error_Mat.append(np.mean(predict_i != y_test))\n",
    "plt.figure(figsize=(10,10))\n",
    "plt.plot(range(1,50),error_Mat,color='blue', linestyle='dashed', marker='o',\n",
    "         markerfacecolor='red', markersize=10)\n",
    "plt.title('Error Rate vs. K Value')\n",
    "plt.xlabel('K')\n",
    "plt.ylabel('Error Rate')"
   ]
  },
  {
   "cell_type": "code",
   "execution_count": 36,
   "id": "4f91e1aa",
   "metadata": {},
   "outputs": [
    {
     "name": "stdout",
     "output_type": "stream",
     "text": [
      "classification Report: \n",
      "               precision    recall  f1-score   support\n",
      "\n",
      "           0       0.72      0.70      0.71       151\n",
      "           1       0.47      0.57      0.51       146\n",
      "           2       0.51      0.54      0.52       148\n",
      "           3       0.85      0.64      0.73       155\n",
      "\n",
      "    accuracy                           0.61       600\n",
      "   macro avg       0.64      0.61      0.62       600\n",
      "weighted avg       0.64      0.61      0.62       600\n",
      "\n",
      "\n",
      "\n",
      "Confusion Matrix: \n",
      " [[106  40   5   0]\n",
      " [ 39  83  23   1]\n",
      " [  3  49  80  16]\n",
      " [  0   6  50  99]]\n",
      "\n",
      "\n",
      "ACCURACY: 0.6133333333333333\n",
      "\n",
      "\n",
      "Roc Value: 0.8283270903936181\n"
     ]
    }
   ],
   "source": [
    "M3=KNeighborsClassifier(n_neighbors=44)\n",
    "M3.fit(X_train,y_train)\n",
    "P3=M3.predict(X_test)\n",
    "print('classification Report:','\\n',classification_report(y_test,P3))\n",
    "print('\\n')\n",
    "print('Confusion Matrix:','\\n',confusion_matrix(y_test,P3))\n",
    "print('\\n')\n",
    "print('ACCURACY:',accuracy_score(y_test,P3))\n",
    "print('\\n')\n",
    "print('Roc Value:',roc_auc_score(y_test,M3.predict_proba(X_test),multi_class='ovr'))"
   ]
  },
  {
   "cell_type": "markdown",
   "id": "55400340",
   "metadata": {},
   "source": [
    "### NB"
   ]
  },
  {
   "cell_type": "code",
   "execution_count": 37,
   "id": "cbbeda6e",
   "metadata": {},
   "outputs": [],
   "source": [
    "from sklearn.naive_bayes import GaussianNB"
   ]
  },
  {
   "cell_type": "code",
   "execution_count": 38,
   "id": "2a6b107c",
   "metadata": {
    "scrolled": false
   },
   "outputs": [
    {
     "name": "stdout",
     "output_type": "stream",
     "text": [
      "classification Report: \n",
      "               precision    recall  f1-score   support\n",
      "\n",
      "           0       0.91      0.91      0.91       151\n",
      "           1       0.74      0.73      0.74       146\n",
      "           2       0.67      0.72      0.70       148\n",
      "           3       0.88      0.83      0.86       155\n",
      "\n",
      "    accuracy                           0.80       600\n",
      "   macro avg       0.80      0.80      0.80       600\n",
      "weighted avg       0.80      0.80      0.80       600\n",
      "\n",
      "\n",
      "\n",
      "Confusion Matrix: \n",
      " [[137  14   0   0]\n",
      " [ 13 107  26   0]\n",
      " [  0  24 107  17]\n",
      " [  0   0  26 129]]\n",
      "\n",
      "\n",
      "ACCURACY: 0.8\n",
      "\n",
      "\n",
      "Roc Value: 0.9509270991722998\n"
     ]
    }
   ],
   "source": [
    "M4=GaussianNB()\n",
    "M4.fit(X_train,y_train)\n",
    "P4=M4.predict(X_test)\n",
    "print('classification Report:','\\n',classification_report(y_test,P4))\n",
    "print('\\n')\n",
    "print('Confusion Matrix:','\\n',confusion_matrix(y_test,P4))\n",
    "print('\\n')\n",
    "print('ACCURACY:',accuracy_score(y_test,P4))\n",
    "print('\\n')\n",
    "print('Roc Value:',roc_auc_score(y_test,M4.predict_proba(X_test),multi_class='ovr'))"
   ]
  },
  {
   "cell_type": "markdown",
   "id": "a766f863",
   "metadata": {},
   "source": [
    "### GB Boosting"
   ]
  },
  {
   "cell_type": "code",
   "execution_count": 39,
   "id": "5daf43d8",
   "metadata": {},
   "outputs": [],
   "source": [
    "from sklearn.ensemble import GradientBoostingClassifier"
   ]
  },
  {
   "cell_type": "code",
   "execution_count": 40,
   "id": "9f6c1025",
   "metadata": {},
   "outputs": [
    {
     "name": "stdout",
     "output_type": "stream",
     "text": [
      "classification Report: \n",
      "               precision    recall  f1-score   support\n",
      "\n",
      "           0       0.95      0.93      0.94       151\n",
      "           1       0.85      0.88      0.87       146\n",
      "           2       0.83      0.82      0.83       148\n",
      "           3       0.92      0.90      0.91       155\n",
      "\n",
      "    accuracy                           0.89       600\n",
      "   macro avg       0.89      0.89      0.89       600\n",
      "weighted avg       0.89      0.89      0.89       600\n",
      "\n",
      "\n",
      "\n",
      "Confusion Matrix: \n",
      " [[141  10   0   0]\n",
      " [  7 129  10   0]\n",
      " [  0  13 122  13]\n",
      " [  0   0  15 140]]\n",
      "\n",
      "\n",
      "ACCURACY: 0.8866666666666667\n",
      "\n",
      "\n",
      "Roc Value: 0.9820674684794696\n"
     ]
    }
   ],
   "source": [
    "M5=GradientBoostingClassifier()\n",
    "M5.fit(X_train,y_train)\n",
    "P5=M5.predict(X_test)\n",
    "print('classification Report:','\\n',classification_report(y_test,P5))\n",
    "print('\\n')\n",
    "print('Confusion Matrix:','\\n',confusion_matrix(y_test,P5))\n",
    "print('\\n')\n",
    "print('ACCURACY:',accuracy_score(y_test,P5))\n",
    "print('\\n')\n",
    "print('Roc Value:',roc_auc_score(y_test,M5.predict_proba(X_test),multi_class='ovr'))"
   ]
  },
  {
   "cell_type": "markdown",
   "id": "b19622e4",
   "metadata": {},
   "source": [
    "### Hist Boosing"
   ]
  },
  {
   "cell_type": "code",
   "execution_count": 41,
   "id": "e53d0719",
   "metadata": {},
   "outputs": [],
   "source": [
    "from sklearn.ensemble import HistGradientBoostingClassifier"
   ]
  },
  {
   "cell_type": "code",
   "execution_count": 42,
   "id": "4bf68cf7",
   "metadata": {},
   "outputs": [
    {
     "name": "stdout",
     "output_type": "stream",
     "text": [
      "classification Report: \n",
      "               precision    recall  f1-score   support\n",
      "\n",
      "           0       0.93      0.95      0.94       151\n",
      "           1       0.84      0.89      0.87       146\n",
      "           2       0.86      0.82      0.84       148\n",
      "           3       0.93      0.92      0.92       155\n",
      "\n",
      "    accuracy                           0.89       600\n",
      "   macro avg       0.89      0.89      0.89       600\n",
      "weighted avg       0.89      0.89      0.89       600\n",
      "\n",
      "\n",
      "\n",
      "Confusion Matrix: \n",
      " [[143   8   0   0]\n",
      " [ 10 130   6   0]\n",
      " [  0  16 121  11]\n",
      " [  0   0  13 142]]\n",
      "\n",
      "\n",
      "ACCURACY: 0.8933333333333333\n",
      "\n",
      "\n",
      "Roc Value: 0.9873582137614854\n"
     ]
    }
   ],
   "source": [
    "M6=HistGradientBoostingClassifier()\n",
    "M6.fit(X_train,y_train)\n",
    "P6=M6.predict(X_test)\n",
    "print('classification Report:','\\n',classification_report(y_test,P6))\n",
    "print('\\n')\n",
    "print('Confusion Matrix:','\\n',confusion_matrix(y_test,P6))\n",
    "print('\\n')\n",
    "print('ACCURACY:',accuracy_score(y_test,P6))\n",
    "print('\\n')\n",
    "print('Roc Value:',roc_auc_score(y_test,M6.predict_proba(X_test),multi_class='ovr'))"
   ]
  },
  {
   "cell_type": "markdown",
   "id": "1cdcb7e6",
   "metadata": {},
   "source": [
    "### Neural Network"
   ]
  },
  {
   "cell_type": "code",
   "execution_count": 43,
   "id": "420706f2",
   "metadata": {},
   "outputs": [],
   "source": [
    "from sklearn.neural_network import MLPClassifier"
   ]
  },
  {
   "cell_type": "code",
   "execution_count": 51,
   "id": "dfec8ad4",
   "metadata": {},
   "outputs": [
    {
     "name": "stdout",
     "output_type": "stream",
     "text": [
      "classification Report: \n",
      "               precision    recall  f1-score   support\n",
      "\n",
      "           0       0.93      0.93      0.93       151\n",
      "           1       0.88      0.91      0.89       146\n",
      "           2       0.91      0.90      0.90       148\n",
      "           3       0.95      0.94      0.94       155\n",
      "\n",
      "    accuracy                           0.92       600\n",
      "   macro avg       0.92      0.92      0.92       600\n",
      "weighted avg       0.92      0.92      0.92       600\n",
      "\n",
      "\n",
      "\n",
      "Confusion Matrix: \n",
      " [[140  11   0   0]\n",
      " [ 10 133   3   0]\n",
      " [  0   8 133   7]\n",
      " [  0   0  10 145]]\n",
      "\n",
      "\n",
      "ACCURACY: 0.9183333333333333\n",
      "\n",
      "\n",
      "Roc Value: 0.9930901757281345\n"
     ]
    }
   ],
   "source": [
    "M7=MLPClassifier(hidden_layer_sizes=(50,))\n",
    "M7.fit(X_train,y_train)\n",
    "P7=M7.predict(X_test)\n",
    "print('classification Report:','\\n',classification_report(y_test,P7))\n",
    "print('\\n')\n",
    "print('Confusion Matrix:','\\n',confusion_matrix(y_test,P7))\n",
    "print('\\n')\n",
    "print('ACCURACY:',accuracy_score(y_test,P7))\n",
    "print('\\n')\n",
    "print('Roc Value:',roc_auc_score(y_test,M7.predict_proba(X_test),multi_class='ovr'))"
   ]
  },
  {
   "cell_type": "markdown",
   "id": "a04c1445",
   "metadata": {},
   "source": [
    "### XG Boost"
   ]
  },
  {
   "cell_type": "code",
   "execution_count": 52,
   "id": "8d458ae5",
   "metadata": {},
   "outputs": [],
   "source": [
    "from xgboost import XGBClassifier"
   ]
  },
  {
   "cell_type": "code",
   "execution_count": 54,
   "id": "16d9e745",
   "metadata": {},
   "outputs": [
    {
     "name": "stdout",
     "output_type": "stream",
     "text": [
      "classification Report: \n",
      "               precision    recall  f1-score   support\n",
      "\n",
      "           0       0.95      0.93      0.94       151\n",
      "           1       0.84      0.92      0.88       146\n",
      "           2       0.88      0.82      0.85       148\n",
      "           3       0.92      0.93      0.93       155\n",
      "\n",
      "    accuracy                           0.90       600\n",
      "   macro avg       0.90      0.90      0.90       600\n",
      "weighted avg       0.90      0.90      0.90       600\n",
      "\n",
      "\n",
      "\n",
      "Confusion Matrix: \n",
      " [[141  10   0   0]\n",
      " [  7 134   5   0]\n",
      " [  0  15 121  12]\n",
      " [  0   0  11 144]]\n",
      "\n",
      "\n",
      "ACCURACY: 0.9\n",
      "\n",
      "\n",
      "Roc Value: 0.9885221236074389\n"
     ]
    }
   ],
   "source": [
    "M8=XGBClassifier()\n",
    "M8.fit(X_train,y_train)\n",
    "P8=M8.predict(X_test)\n",
    "print('classification Report:','\\n',classification_report(y_test,P8))\n",
    "print('\\n')\n",
    "print('Confusion Matrix:','\\n',confusion_matrix(y_test,P8))\n",
    "print('\\n')\n",
    "print('ACCURACY:',accuracy_score(y_test,P8))\n",
    "print('\\n')\n",
    "print('Roc Value:',roc_auc_score(y_test,M8.predict_proba(X_test),multi_class='ovr'))"
   ]
  },
  {
   "cell_type": "markdown",
   "id": "f87fa525",
   "metadata": {},
   "source": [
    "### Cat Boost"
   ]
  },
  {
   "cell_type": "code",
   "execution_count": 55,
   "id": "7a85c1ba",
   "metadata": {},
   "outputs": [],
   "source": [
    "from catboost import CatBoostClassifier"
   ]
  },
  {
   "cell_type": "code",
   "execution_count": 57,
   "id": "6d5e204b",
   "metadata": {
    "collapsed": true
   },
   "outputs": [
    {
     "name": "stdout",
     "output_type": "stream",
     "text": [
      "Learning rate set to 0.080496\n",
      "0:\tlearn: 1.2687358\ttotal: 27.9ms\tremaining: 27.8s\n",
      "1:\tlearn: 1.1782528\ttotal: 42.7ms\tremaining: 21.3s\n",
      "2:\tlearn: 1.1082493\ttotal: 52.9ms\tremaining: 17.6s\n",
      "3:\tlearn: 1.0461180\ttotal: 61.5ms\tremaining: 15.3s\n",
      "4:\tlearn: 0.9885161\ttotal: 70.7ms\tremaining: 14.1s\n",
      "5:\tlearn: 0.9280125\ttotal: 79.7ms\tremaining: 13.2s\n",
      "6:\tlearn: 0.8879560\ttotal: 88.8ms\tremaining: 12.6s\n",
      "7:\tlearn: 0.8475734\ttotal: 97.9ms\tremaining: 12.1s\n",
      "8:\tlearn: 0.8062035\ttotal: 107ms\tremaining: 11.7s\n",
      "9:\tlearn: 0.7767707\ttotal: 116ms\tremaining: 11.5s\n",
      "10:\tlearn: 0.7429684\ttotal: 125ms\tremaining: 11.2s\n",
      "11:\tlearn: 0.7160753\ttotal: 134ms\tremaining: 11s\n",
      "12:\tlearn: 0.6880342\ttotal: 143ms\tremaining: 10.8s\n",
      "13:\tlearn: 0.6566234\ttotal: 152ms\tremaining: 10.7s\n",
      "14:\tlearn: 0.6311161\ttotal: 160ms\tremaining: 10.5s\n",
      "15:\tlearn: 0.6078354\ttotal: 169ms\tremaining: 10.4s\n",
      "16:\tlearn: 0.5895613\ttotal: 182ms\tremaining: 10.5s\n",
      "17:\tlearn: 0.5716345\ttotal: 193ms\tremaining: 10.5s\n",
      "18:\tlearn: 0.5555930\ttotal: 204ms\tremaining: 10.5s\n",
      "19:\tlearn: 0.5413950\ttotal: 212ms\tremaining: 10.4s\n",
      "20:\tlearn: 0.5256944\ttotal: 222ms\tremaining: 10.4s\n",
      "21:\tlearn: 0.5131561\ttotal: 231ms\tremaining: 10.3s\n",
      "22:\tlearn: 0.4980344\ttotal: 240ms\tremaining: 10.2s\n",
      "23:\tlearn: 0.4832384\ttotal: 249ms\tremaining: 10.1s\n",
      "24:\tlearn: 0.4729563\ttotal: 258ms\tremaining: 10.1s\n",
      "25:\tlearn: 0.4629865\ttotal: 267ms\tremaining: 9.99s\n",
      "26:\tlearn: 0.4504366\ttotal: 276ms\tremaining: 9.93s\n",
      "27:\tlearn: 0.4442920\ttotal: 285ms\tremaining: 9.88s\n",
      "28:\tlearn: 0.4375210\ttotal: 293ms\tremaining: 9.81s\n",
      "29:\tlearn: 0.4305164\ttotal: 302ms\tremaining: 9.76s\n",
      "30:\tlearn: 0.4212010\ttotal: 311ms\tremaining: 9.71s\n",
      "31:\tlearn: 0.4129932\ttotal: 320ms\tremaining: 9.67s\n",
      "32:\tlearn: 0.4041987\ttotal: 328ms\tremaining: 9.61s\n",
      "33:\tlearn: 0.3986308\ttotal: 337ms\tremaining: 9.58s\n",
      "34:\tlearn: 0.3925007\ttotal: 347ms\tremaining: 9.55s\n",
      "35:\tlearn: 0.3824371\ttotal: 355ms\tremaining: 9.52s\n",
      "36:\tlearn: 0.3750425\ttotal: 364ms\tremaining: 9.48s\n",
      "37:\tlearn: 0.3674168\ttotal: 373ms\tremaining: 9.44s\n",
      "38:\tlearn: 0.3627665\ttotal: 385ms\tremaining: 9.48s\n",
      "39:\tlearn: 0.3571027\ttotal: 397ms\tremaining: 9.52s\n",
      "40:\tlearn: 0.3525102\ttotal: 406ms\tremaining: 9.49s\n",
      "41:\tlearn: 0.3469309\ttotal: 416ms\tremaining: 9.48s\n",
      "42:\tlearn: 0.3402603\ttotal: 425ms\tremaining: 9.45s\n",
      "43:\tlearn: 0.3366143\ttotal: 434ms\tremaining: 9.43s\n",
      "44:\tlearn: 0.3334485\ttotal: 443ms\tremaining: 9.41s\n",
      "45:\tlearn: 0.3295156\ttotal: 452ms\tremaining: 9.38s\n",
      "46:\tlearn: 0.3232919\ttotal: 461ms\tremaining: 9.36s\n",
      "47:\tlearn: 0.3182733\ttotal: 470ms\tremaining: 9.33s\n",
      "48:\tlearn: 0.3142068\ttotal: 479ms\tremaining: 9.29s\n",
      "49:\tlearn: 0.3093041\ttotal: 488ms\tremaining: 9.27s\n",
      "50:\tlearn: 0.3042148\ttotal: 496ms\tremaining: 9.24s\n",
      "51:\tlearn: 0.3001861\ttotal: 505ms\tremaining: 9.21s\n",
      "52:\tlearn: 0.2977847\ttotal: 514ms\tremaining: 9.19s\n",
      "53:\tlearn: 0.2941342\ttotal: 524ms\tremaining: 9.17s\n",
      "54:\tlearn: 0.2915463\ttotal: 532ms\tremaining: 9.15s\n",
      "55:\tlearn: 0.2877077\ttotal: 542ms\tremaining: 9.14s\n",
      "56:\tlearn: 0.2845792\ttotal: 552ms\tremaining: 9.13s\n",
      "57:\tlearn: 0.2800931\ttotal: 561ms\tremaining: 9.11s\n",
      "58:\tlearn: 0.2763139\ttotal: 570ms\tremaining: 9.1s\n",
      "59:\tlearn: 0.2739432\ttotal: 582ms\tremaining: 9.11s\n",
      "60:\tlearn: 0.2714756\ttotal: 594ms\tremaining: 9.15s\n",
      "61:\tlearn: 0.2687898\ttotal: 604ms\tremaining: 9.13s\n",
      "62:\tlearn: 0.2663662\ttotal: 613ms\tremaining: 9.12s\n",
      "63:\tlearn: 0.2633496\ttotal: 623ms\tremaining: 9.11s\n",
      "64:\tlearn: 0.2610566\ttotal: 632ms\tremaining: 9.1s\n",
      "65:\tlearn: 0.2585414\ttotal: 642ms\tremaining: 9.08s\n",
      "66:\tlearn: 0.2565832\ttotal: 651ms\tremaining: 9.06s\n",
      "67:\tlearn: 0.2551289\ttotal: 660ms\tremaining: 9.05s\n",
      "68:\tlearn: 0.2507755\ttotal: 669ms\tremaining: 9.03s\n",
      "69:\tlearn: 0.2481581\ttotal: 678ms\tremaining: 9s\n",
      "70:\tlearn: 0.2465471\ttotal: 686ms\tremaining: 8.98s\n",
      "71:\tlearn: 0.2446203\ttotal: 695ms\tremaining: 8.96s\n",
      "72:\tlearn: 0.2433544\ttotal: 704ms\tremaining: 8.94s\n",
      "73:\tlearn: 0.2417223\ttotal: 713ms\tremaining: 8.92s\n",
      "74:\tlearn: 0.2403020\ttotal: 723ms\tremaining: 8.92s\n",
      "75:\tlearn: 0.2376773\ttotal: 733ms\tremaining: 8.91s\n",
      "76:\tlearn: 0.2357073\ttotal: 743ms\tremaining: 8.9s\n",
      "77:\tlearn: 0.2342426\ttotal: 753ms\tremaining: 8.89s\n",
      "78:\tlearn: 0.2328234\ttotal: 764ms\tremaining: 8.91s\n",
      "79:\tlearn: 0.2314856\ttotal: 778ms\tremaining: 8.94s\n",
      "80:\tlearn: 0.2304906\ttotal: 788ms\tremaining: 8.94s\n",
      "81:\tlearn: 0.2290637\ttotal: 801ms\tremaining: 8.97s\n",
      "82:\tlearn: 0.2269441\ttotal: 810ms\tremaining: 8.95s\n",
      "83:\tlearn: 0.2258437\ttotal: 820ms\tremaining: 8.94s\n",
      "84:\tlearn: 0.2239932\ttotal: 830ms\tremaining: 8.93s\n",
      "85:\tlearn: 0.2218611\ttotal: 840ms\tremaining: 8.93s\n",
      "86:\tlearn: 0.2205217\ttotal: 850ms\tremaining: 8.92s\n",
      "87:\tlearn: 0.2190299\ttotal: 860ms\tremaining: 8.91s\n",
      "88:\tlearn: 0.2172785\ttotal: 871ms\tremaining: 8.91s\n",
      "89:\tlearn: 0.2155172\ttotal: 880ms\tremaining: 8.9s\n",
      "90:\tlearn: 0.2134321\ttotal: 890ms\tremaining: 8.89s\n",
      "91:\tlearn: 0.2102354\ttotal: 900ms\tremaining: 8.88s\n",
      "92:\tlearn: 0.2086986\ttotal: 908ms\tremaining: 8.86s\n",
      "93:\tlearn: 0.2065640\ttotal: 918ms\tremaining: 8.85s\n",
      "94:\tlearn: 0.2058165\ttotal: 928ms\tremaining: 8.84s\n",
      "95:\tlearn: 0.2043261\ttotal: 936ms\tremaining: 8.82s\n",
      "96:\tlearn: 0.2033556\ttotal: 946ms\tremaining: 8.81s\n",
      "97:\tlearn: 0.2021362\ttotal: 956ms\tremaining: 8.8s\n",
      "98:\tlearn: 0.2007455\ttotal: 972ms\tremaining: 8.85s\n",
      "99:\tlearn: 0.1988421\ttotal: 985ms\tremaining: 8.87s\n",
      "100:\tlearn: 0.1975726\ttotal: 997ms\tremaining: 8.87s\n",
      "101:\tlearn: 0.1955307\ttotal: 1s\tremaining: 8.86s\n",
      "102:\tlearn: 0.1947761\ttotal: 1.01s\tremaining: 8.84s\n",
      "103:\tlearn: 0.1928725\ttotal: 1.02s\tremaining: 8.83s\n",
      "104:\tlearn: 0.1912437\ttotal: 1.03s\tremaining: 8.82s\n",
      "105:\tlearn: 0.1900985\ttotal: 1.04s\tremaining: 8.81s\n",
      "106:\tlearn: 0.1882955\ttotal: 1.05s\tremaining: 8.79s\n",
      "107:\tlearn: 0.1862423\ttotal: 1.06s\tremaining: 8.8s\n",
      "108:\tlearn: 0.1853052\ttotal: 1.07s\tremaining: 8.79s\n",
      "109:\tlearn: 0.1828929\ttotal: 1.08s\tremaining: 8.78s\n",
      "110:\tlearn: 0.1812540\ttotal: 1.09s\tremaining: 8.76s\n",
      "111:\tlearn: 0.1789160\ttotal: 1.1s\tremaining: 8.75s\n",
      "112:\tlearn: 0.1776598\ttotal: 1.11s\tremaining: 8.73s\n",
      "113:\tlearn: 0.1757525\ttotal: 1.12s\tremaining: 8.72s\n",
      "114:\tlearn: 0.1755428\ttotal: 1.13s\tremaining: 8.7s\n",
      "115:\tlearn: 0.1739785\ttotal: 1.14s\tremaining: 8.69s\n",
      "116:\tlearn: 0.1733388\ttotal: 1.15s\tremaining: 8.67s\n",
      "117:\tlearn: 0.1717015\ttotal: 1.16s\tremaining: 8.65s\n",
      "118:\tlearn: 0.1704010\ttotal: 1.17s\tremaining: 8.66s\n",
      "119:\tlearn: 0.1692501\ttotal: 1.18s\tremaining: 8.68s\n",
      "120:\tlearn: 0.1679684\ttotal: 1.2s\tremaining: 8.68s\n",
      "121:\tlearn: 0.1672043\ttotal: 1.21s\tremaining: 8.73s\n",
      "122:\tlearn: 0.1657507\ttotal: 1.22s\tremaining: 8.73s\n",
      "123:\tlearn: 0.1653216\ttotal: 1.23s\tremaining: 8.71s\n",
      "124:\tlearn: 0.1642906\ttotal: 1.24s\tremaining: 8.69s\n",
      "125:\tlearn: 0.1638020\ttotal: 1.25s\tremaining: 8.67s\n",
      "126:\tlearn: 0.1633454\ttotal: 1.26s\tremaining: 8.65s\n",
      "127:\tlearn: 0.1618495\ttotal: 1.27s\tremaining: 8.64s\n",
      "128:\tlearn: 0.1606268\ttotal: 1.28s\tremaining: 8.62s\n",
      "129:\tlearn: 0.1596819\ttotal: 1.29s\tremaining: 8.61s\n",
      "130:\tlearn: 0.1584251\ttotal: 1.3s\tremaining: 8.6s\n",
      "131:\tlearn: 0.1569873\ttotal: 1.31s\tremaining: 8.6s\n",
      "132:\tlearn: 0.1565435\ttotal: 1.32s\tremaining: 8.63s\n",
      "133:\tlearn: 0.1556669\ttotal: 1.34s\tremaining: 8.68s\n",
      "134:\tlearn: 0.1550244\ttotal: 1.36s\tremaining: 8.7s\n",
      "135:\tlearn: 0.1539665\ttotal: 1.38s\tremaining: 8.76s\n",
      "136:\tlearn: 0.1534198\ttotal: 1.4s\tremaining: 8.8s\n",
      "137:\tlearn: 0.1523789\ttotal: 1.42s\tremaining: 8.84s\n",
      "138:\tlearn: 0.1517703\ttotal: 1.43s\tremaining: 8.88s\n",
      "139:\tlearn: 0.1511751\ttotal: 1.45s\tremaining: 8.91s\n",
      "140:\tlearn: 0.1499424\ttotal: 1.46s\tremaining: 8.92s\n",
      "141:\tlearn: 0.1492588\ttotal: 1.48s\tremaining: 8.92s\n",
      "142:\tlearn: 0.1488709\ttotal: 1.49s\tremaining: 8.91s\n",
      "143:\tlearn: 0.1481381\ttotal: 1.5s\tremaining: 8.9s\n",
      "144:\tlearn: 0.1472086\ttotal: 1.51s\tremaining: 8.89s\n",
      "145:\tlearn: 0.1464783\ttotal: 1.52s\tremaining: 8.87s\n",
      "146:\tlearn: 0.1456642\ttotal: 1.53s\tremaining: 8.86s\n",
      "147:\tlearn: 0.1442254\ttotal: 1.54s\tremaining: 8.86s\n",
      "148:\tlearn: 0.1433902\ttotal: 1.55s\tremaining: 8.85s\n",
      "149:\tlearn: 0.1422900\ttotal: 1.56s\tremaining: 8.85s\n",
      "150:\tlearn: 0.1410720\ttotal: 1.57s\tremaining: 8.84s\n",
      "151:\tlearn: 0.1403133\ttotal: 1.58s\tremaining: 8.82s\n",
      "152:\tlearn: 0.1396892\ttotal: 1.59s\tremaining: 8.8s\n",
      "153:\tlearn: 0.1390422\ttotal: 1.6s\tremaining: 8.79s\n",
      "154:\tlearn: 0.1385712\ttotal: 1.61s\tremaining: 8.77s\n",
      "155:\tlearn: 0.1382056\ttotal: 1.62s\tremaining: 8.75s\n",
      "156:\tlearn: 0.1378693\ttotal: 1.63s\tremaining: 8.74s\n",
      "157:\tlearn: 0.1364192\ttotal: 1.64s\tremaining: 8.72s\n",
      "158:\tlearn: 0.1357064\ttotal: 1.65s\tremaining: 8.71s\n",
      "159:\tlearn: 0.1349489\ttotal: 1.66s\tremaining: 8.69s\n",
      "160:\tlearn: 0.1338516\ttotal: 1.67s\tremaining: 8.68s\n",
      "161:\tlearn: 0.1323583\ttotal: 1.68s\tremaining: 8.68s\n",
      "162:\tlearn: 0.1312280\ttotal: 1.69s\tremaining: 8.67s\n",
      "163:\tlearn: 0.1301835\ttotal: 1.7s\tremaining: 8.66s\n",
      "164:\tlearn: 0.1293114\ttotal: 1.71s\tremaining: 8.64s\n",
      "165:\tlearn: 0.1280178\ttotal: 1.72s\tremaining: 8.63s\n",
      "166:\tlearn: 0.1274231\ttotal: 1.73s\tremaining: 8.62s\n",
      "167:\tlearn: 0.1268928\ttotal: 1.74s\tremaining: 8.62s\n",
      "168:\tlearn: 0.1261336\ttotal: 1.75s\tremaining: 8.62s\n",
      "169:\tlearn: 0.1255219\ttotal: 1.76s\tremaining: 8.62s\n",
      "170:\tlearn: 0.1249770\ttotal: 1.77s\tremaining: 8.6s\n",
      "171:\tlearn: 0.1243764\ttotal: 1.78s\tremaining: 8.59s\n",
      "172:\tlearn: 0.1238435\ttotal: 1.79s\tremaining: 8.57s\n",
      "173:\tlearn: 0.1232321\ttotal: 1.8s\tremaining: 8.56s\n",
      "174:\tlearn: 0.1227476\ttotal: 1.81s\tremaining: 8.55s\n",
      "175:\tlearn: 0.1224459\ttotal: 1.82s\tremaining: 8.53s\n",
      "176:\tlearn: 0.1220542\ttotal: 1.83s\tremaining: 8.52s\n",
      "177:\tlearn: 0.1214395\ttotal: 1.84s\tremaining: 8.5s\n",
      "178:\tlearn: 0.1207470\ttotal: 1.85s\tremaining: 8.49s\n",
      "179:\tlearn: 0.1204843\ttotal: 1.86s\tremaining: 8.47s\n",
      "180:\tlearn: 0.1199204\ttotal: 1.87s\tremaining: 8.45s\n",
      "181:\tlearn: 0.1193016\ttotal: 1.88s\tremaining: 8.44s\n",
      "182:\tlearn: 0.1188022\ttotal: 1.89s\tremaining: 8.42s\n",
      "183:\tlearn: 0.1183504\ttotal: 1.9s\tremaining: 8.4s\n",
      "184:\tlearn: 0.1178247\ttotal: 1.9s\tremaining: 8.39s\n",
      "185:\tlearn: 0.1167531\ttotal: 1.92s\tremaining: 8.4s\n",
      "186:\tlearn: 0.1159406\ttotal: 1.93s\tremaining: 8.39s\n",
      "187:\tlearn: 0.1148955\ttotal: 1.94s\tremaining: 8.37s\n",
      "188:\tlearn: 0.1140508\ttotal: 1.95s\tremaining: 8.36s\n",
      "189:\tlearn: 0.1135080\ttotal: 1.96s\tremaining: 8.35s\n",
      "190:\tlearn: 0.1128984\ttotal: 1.97s\tremaining: 8.33s\n",
      "191:\tlearn: 0.1121335\ttotal: 1.98s\tremaining: 8.31s\n",
      "192:\tlearn: 0.1117104\ttotal: 1.98s\tremaining: 8.29s\n",
      "193:\tlearn: 0.1111619\ttotal: 1.99s\tremaining: 8.28s\n",
      "194:\tlearn: 0.1106207\ttotal: 2s\tremaining: 8.26s\n",
      "195:\tlearn: 0.1103041\ttotal: 2.01s\tremaining: 8.25s\n",
      "196:\tlearn: 0.1096579\ttotal: 2.02s\tremaining: 8.23s\n",
      "197:\tlearn: 0.1094586\ttotal: 2.03s\tremaining: 8.21s\n",
      "198:\tlearn: 0.1091514\ttotal: 2.04s\tremaining: 8.2s\n",
      "199:\tlearn: 0.1090293\ttotal: 2.04s\tremaining: 8.18s\n",
      "200:\tlearn: 0.1085053\ttotal: 2.05s\tremaining: 8.16s\n",
      "201:\tlearn: 0.1079068\ttotal: 2.06s\tremaining: 8.15s\n",
      "202:\tlearn: 0.1078338\ttotal: 2.07s\tremaining: 8.13s\n",
      "203:\tlearn: 0.1069355\ttotal: 2.08s\tremaining: 8.12s\n",
      "204:\tlearn: 0.1066359\ttotal: 2.09s\tremaining: 8.11s\n",
      "205:\tlearn: 0.1061097\ttotal: 2.1s\tremaining: 8.09s\n",
      "206:\tlearn: 0.1056351\ttotal: 2.11s\tremaining: 8.1s\n",
      "207:\tlearn: 0.1047502\ttotal: 2.13s\tremaining: 8.1s\n",
      "208:\tlearn: 0.1044284\ttotal: 2.14s\tremaining: 8.11s\n",
      "209:\tlearn: 0.1042376\ttotal: 2.15s\tremaining: 8.1s\n",
      "210:\tlearn: 0.1037634\ttotal: 2.17s\tremaining: 8.1s\n",
      "211:\tlearn: 0.1034449\ttotal: 2.18s\tremaining: 8.1s\n",
      "212:\tlearn: 0.1030679\ttotal: 2.19s\tremaining: 8.09s\n",
      "213:\tlearn: 0.1026899\ttotal: 2.2s\tremaining: 8.09s\n",
      "214:\tlearn: 0.1022752\ttotal: 2.21s\tremaining: 8.08s\n",
      "215:\tlearn: 0.1017806\ttotal: 2.23s\tremaining: 8.08s\n",
      "216:\tlearn: 0.1014727\ttotal: 2.24s\tremaining: 8.08s\n",
      "217:\tlearn: 0.1008916\ttotal: 2.25s\tremaining: 8.07s\n",
      "218:\tlearn: 0.1005754\ttotal: 2.26s\tremaining: 8.07s\n",
      "219:\tlearn: 0.1002680\ttotal: 2.27s\tremaining: 8.06s\n",
      "220:\tlearn: 0.0998712\ttotal: 2.29s\tremaining: 8.06s\n",
      "221:\tlearn: 0.0995130\ttotal: 2.3s\tremaining: 8.06s\n",
      "222:\tlearn: 0.0989469\ttotal: 2.31s\tremaining: 8.06s\n",
      "223:\tlearn: 0.0985430\ttotal: 2.32s\tremaining: 8.05s\n",
      "224:\tlearn: 0.0982039\ttotal: 2.34s\tremaining: 8.06s\n",
      "225:\tlearn: 0.0977904\ttotal: 2.36s\tremaining: 8.07s\n",
      "226:\tlearn: 0.0972957\ttotal: 2.37s\tremaining: 8.07s\n",
      "227:\tlearn: 0.0969805\ttotal: 2.38s\tremaining: 8.06s\n",
      "228:\tlearn: 0.0962118\ttotal: 2.4s\tremaining: 8.06s\n",
      "229:\tlearn: 0.0958728\ttotal: 2.41s\tremaining: 8.06s\n",
      "230:\tlearn: 0.0950443\ttotal: 2.42s\tremaining: 8.06s\n",
      "231:\tlearn: 0.0945934\ttotal: 2.43s\tremaining: 8.05s\n",
      "232:\tlearn: 0.0940636\ttotal: 2.44s\tremaining: 8.04s\n",
      "233:\tlearn: 0.0937471\ttotal: 2.45s\tremaining: 8.03s\n",
      "234:\tlearn: 0.0935118\ttotal: 2.46s\tremaining: 8.02s\n",
      "235:\tlearn: 0.0933437\ttotal: 2.47s\tremaining: 8.01s\n",
      "236:\tlearn: 0.0931461\ttotal: 2.48s\tremaining: 7.99s\n",
      "237:\tlearn: 0.0927866\ttotal: 2.49s\tremaining: 7.98s\n",
      "238:\tlearn: 0.0923696\ttotal: 2.5s\tremaining: 7.96s\n",
      "239:\tlearn: 0.0921127\ttotal: 2.51s\tremaining: 7.95s\n",
      "240:\tlearn: 0.0918255\ttotal: 2.52s\tremaining: 7.94s\n",
      "241:\tlearn: 0.0912439\ttotal: 2.53s\tremaining: 7.93s\n",
      "242:\tlearn: 0.0908663\ttotal: 2.54s\tremaining: 7.92s\n",
      "243:\tlearn: 0.0907220\ttotal: 2.55s\tremaining: 7.91s\n",
      "244:\tlearn: 0.0905311\ttotal: 2.56s\tremaining: 7.9s\n",
      "245:\tlearn: 0.0903151\ttotal: 2.57s\tremaining: 7.89s\n",
      "246:\tlearn: 0.0900190\ttotal: 2.58s\tremaining: 7.87s\n",
      "247:\tlearn: 0.0898258\ttotal: 2.59s\tremaining: 7.86s\n",
      "248:\tlearn: 0.0895212\ttotal: 2.6s\tremaining: 7.85s\n",
      "249:\tlearn: 0.0891048\ttotal: 2.61s\tremaining: 7.83s\n",
      "250:\tlearn: 0.0887522\ttotal: 2.62s\tremaining: 7.82s\n",
      "251:\tlearn: 0.0883660\ttotal: 2.63s\tremaining: 7.8s\n",
      "252:\tlearn: 0.0880156\ttotal: 2.64s\tremaining: 7.79s\n",
      "253:\tlearn: 0.0878088\ttotal: 2.65s\tremaining: 7.78s\n",
      "254:\tlearn: 0.0875044\ttotal: 2.66s\tremaining: 7.76s\n",
      "255:\tlearn: 0.0870683\ttotal: 2.67s\tremaining: 7.75s\n",
      "256:\tlearn: 0.0868062\ttotal: 2.68s\tremaining: 7.74s\n",
      "257:\tlearn: 0.0865642\ttotal: 2.69s\tremaining: 7.72s\n",
      "258:\tlearn: 0.0863610\ttotal: 2.69s\tremaining: 7.71s\n",
      "259:\tlearn: 0.0861217\ttotal: 2.71s\tremaining: 7.7s\n",
      "260:\tlearn: 0.0856565\ttotal: 2.71s\tremaining: 7.69s\n",
      "261:\tlearn: 0.0852736\ttotal: 2.73s\tremaining: 7.68s\n",
      "262:\tlearn: 0.0846997\ttotal: 2.74s\tremaining: 7.67s\n",
      "263:\tlearn: 0.0845057\ttotal: 2.75s\tremaining: 7.66s\n",
      "264:\tlearn: 0.0843215\ttotal: 2.76s\tremaining: 7.65s\n",
      "265:\tlearn: 0.0840714\ttotal: 2.77s\tremaining: 7.64s\n",
      "266:\tlearn: 0.0838709\ttotal: 2.78s\tremaining: 7.63s\n",
      "267:\tlearn: 0.0835426\ttotal: 2.79s\tremaining: 7.61s\n",
      "268:\tlearn: 0.0833251\ttotal: 2.79s\tremaining: 7.59s\n",
      "269:\tlearn: 0.0830105\ttotal: 2.8s\tremaining: 7.58s\n",
      "270:\tlearn: 0.0826504\ttotal: 2.81s\tremaining: 7.57s\n",
      "271:\tlearn: 0.0822926\ttotal: 2.82s\tremaining: 7.55s\n",
      "272:\tlearn: 0.0820999\ttotal: 2.83s\tremaining: 7.54s\n",
      "273:\tlearn: 0.0818487\ttotal: 2.84s\tremaining: 7.53s\n",
      "274:\tlearn: 0.0815859\ttotal: 2.85s\tremaining: 7.51s\n",
      "275:\tlearn: 0.0814391\ttotal: 2.86s\tremaining: 7.5s\n",
      "276:\tlearn: 0.0812827\ttotal: 2.87s\tremaining: 7.48s\n",
      "277:\tlearn: 0.0811114\ttotal: 2.88s\tremaining: 7.47s\n",
      "278:\tlearn: 0.0808493\ttotal: 2.88s\tremaining: 7.46s\n",
      "279:\tlearn: 0.0805232\ttotal: 2.9s\tremaining: 7.44s\n",
      "280:\tlearn: 0.0802378\ttotal: 2.91s\tremaining: 7.44s\n",
      "281:\tlearn: 0.0799109\ttotal: 2.92s\tremaining: 7.43s\n",
      "282:\tlearn: 0.0795633\ttotal: 2.93s\tremaining: 7.42s\n",
      "283:\tlearn: 0.0793844\ttotal: 2.94s\tremaining: 7.4s\n",
      "284:\tlearn: 0.0789695\ttotal: 2.95s\tremaining: 7.39s\n",
      "285:\tlearn: 0.0788256\ttotal: 2.96s\tremaining: 7.38s\n",
      "286:\tlearn: 0.0786276\ttotal: 2.96s\tremaining: 7.36s\n",
      "287:\tlearn: 0.0782908\ttotal: 2.97s\tremaining: 7.35s\n",
      "288:\tlearn: 0.0780798\ttotal: 2.98s\tremaining: 7.34s\n",
      "289:\tlearn: 0.0778356\ttotal: 2.99s\tremaining: 7.33s\n",
      "290:\tlearn: 0.0777283\ttotal: 3s\tremaining: 7.31s\n",
      "291:\tlearn: 0.0775107\ttotal: 3.01s\tremaining: 7.3s\n",
      "292:\tlearn: 0.0773821\ttotal: 3.02s\tremaining: 7.29s\n",
      "293:\tlearn: 0.0771151\ttotal: 3.03s\tremaining: 7.27s\n",
      "294:\tlearn: 0.0768632\ttotal: 3.04s\tremaining: 7.26s\n",
      "295:\tlearn: 0.0765378\ttotal: 3.04s\tremaining: 7.24s\n",
      "296:\tlearn: 0.0763019\ttotal: 3.05s\tremaining: 7.23s\n",
      "297:\tlearn: 0.0761870\ttotal: 3.06s\tremaining: 7.21s\n",
      "298:\tlearn: 0.0760698\ttotal: 3.07s\tremaining: 7.2s\n",
      "299:\tlearn: 0.0757732\ttotal: 3.08s\tremaining: 7.19s\n",
      "300:\tlearn: 0.0753346\ttotal: 3.09s\tremaining: 7.18s\n",
      "301:\tlearn: 0.0750264\ttotal: 3.1s\tremaining: 7.17s\n",
      "302:\tlearn: 0.0749179\ttotal: 3.11s\tremaining: 7.16s\n",
      "303:\tlearn: 0.0746335\ttotal: 3.12s\tremaining: 7.15s\n",
      "304:\tlearn: 0.0744294\ttotal: 3.13s\tremaining: 7.14s\n",
      "305:\tlearn: 0.0743192\ttotal: 3.14s\tremaining: 7.13s\n",
      "306:\tlearn: 0.0739811\ttotal: 3.16s\tremaining: 7.13s\n",
      "307:\tlearn: 0.0736699\ttotal: 3.17s\tremaining: 7.12s\n",
      "308:\tlearn: 0.0733687\ttotal: 3.18s\tremaining: 7.12s\n",
      "309:\tlearn: 0.0730306\ttotal: 3.19s\tremaining: 7.11s\n",
      "310:\tlearn: 0.0727526\ttotal: 3.2s\tremaining: 7.09s\n",
      "311:\tlearn: 0.0724641\ttotal: 3.21s\tremaining: 7.08s\n",
      "312:\tlearn: 0.0723927\ttotal: 3.22s\tremaining: 7.07s\n",
      "313:\tlearn: 0.0721339\ttotal: 3.23s\tremaining: 7.05s\n",
      "314:\tlearn: 0.0716176\ttotal: 3.24s\tremaining: 7.04s\n",
      "315:\tlearn: 0.0713191\ttotal: 3.25s\tremaining: 7.03s\n",
      "316:\tlearn: 0.0711164\ttotal: 3.26s\tremaining: 7.02s\n",
      "317:\tlearn: 0.0709504\ttotal: 3.27s\tremaining: 7.02s\n",
      "318:\tlearn: 0.0705530\ttotal: 3.28s\tremaining: 7.01s\n",
      "319:\tlearn: 0.0701755\ttotal: 3.29s\tremaining: 7s\n",
      "320:\tlearn: 0.0698601\ttotal: 3.31s\tremaining: 7s\n",
      "321:\tlearn: 0.0695979\ttotal: 3.32s\tremaining: 6.99s\n",
      "322:\tlearn: 0.0692466\ttotal: 3.33s\tremaining: 6.98s\n",
      "323:\tlearn: 0.0691810\ttotal: 3.34s\tremaining: 6.97s\n",
      "324:\tlearn: 0.0689129\ttotal: 3.35s\tremaining: 6.96s\n",
      "325:\tlearn: 0.0687237\ttotal: 3.37s\tremaining: 6.96s\n",
      "326:\tlearn: 0.0685244\ttotal: 3.38s\tremaining: 6.95s\n",
      "327:\tlearn: 0.0681985\ttotal: 3.39s\tremaining: 6.94s\n",
      "328:\tlearn: 0.0679855\ttotal: 3.4s\tremaining: 6.93s\n",
      "329:\tlearn: 0.0678813\ttotal: 3.41s\tremaining: 6.93s\n",
      "330:\tlearn: 0.0677893\ttotal: 3.42s\tremaining: 6.92s\n",
      "331:\tlearn: 0.0675773\ttotal: 3.43s\tremaining: 6.91s\n",
      "332:\tlearn: 0.0673959\ttotal: 3.44s\tremaining: 6.89s\n",
      "333:\tlearn: 0.0671591\ttotal: 3.45s\tremaining: 6.88s\n",
      "334:\tlearn: 0.0670554\ttotal: 3.46s\tremaining: 6.87s\n",
      "335:\tlearn: 0.0669418\ttotal: 3.47s\tremaining: 6.85s\n",
      "336:\tlearn: 0.0667686\ttotal: 3.48s\tremaining: 6.84s\n",
      "337:\tlearn: 0.0665793\ttotal: 3.49s\tremaining: 6.83s\n",
      "338:\tlearn: 0.0664144\ttotal: 3.5s\tremaining: 6.82s\n",
      "339:\tlearn: 0.0662528\ttotal: 3.51s\tremaining: 6.82s\n",
      "340:\tlearn: 0.0658724\ttotal: 3.52s\tremaining: 6.8s\n",
      "341:\tlearn: 0.0655264\ttotal: 3.53s\tremaining: 6.79s\n",
      "342:\tlearn: 0.0653435\ttotal: 3.54s\tremaining: 6.78s\n",
      "343:\tlearn: 0.0649966\ttotal: 3.55s\tremaining: 6.77s\n",
      "344:\tlearn: 0.0646657\ttotal: 3.56s\tremaining: 6.76s\n",
      "345:\tlearn: 0.0644817\ttotal: 3.57s\tremaining: 6.74s\n",
      "346:\tlearn: 0.0643560\ttotal: 3.58s\tremaining: 6.73s\n",
      "347:\tlearn: 0.0641936\ttotal: 3.59s\tremaining: 6.72s\n",
      "348:\tlearn: 0.0639816\ttotal: 3.6s\tremaining: 6.71s\n",
      "349:\tlearn: 0.0637661\ttotal: 3.6s\tremaining: 6.7s\n",
      "350:\tlearn: 0.0635571\ttotal: 3.61s\tremaining: 6.68s\n",
      "351:\tlearn: 0.0634129\ttotal: 3.62s\tremaining: 6.67s\n",
      "352:\tlearn: 0.0633269\ttotal: 3.63s\tremaining: 6.66s\n",
      "353:\tlearn: 0.0631345\ttotal: 3.64s\tremaining: 6.65s\n",
      "354:\tlearn: 0.0628534\ttotal: 3.65s\tremaining: 6.64s\n",
      "355:\tlearn: 0.0627629\ttotal: 3.66s\tremaining: 6.63s\n",
      "356:\tlearn: 0.0625651\ttotal: 3.67s\tremaining: 6.62s\n",
      "357:\tlearn: 0.0621907\ttotal: 3.69s\tremaining: 6.61s\n",
      "358:\tlearn: 0.0619852\ttotal: 3.7s\tremaining: 6.6s\n",
      "359:\tlearn: 0.0616378\ttotal: 3.71s\tremaining: 6.59s\n",
      "360:\tlearn: 0.0614727\ttotal: 3.72s\tremaining: 6.58s\n",
      "361:\tlearn: 0.0613760\ttotal: 3.73s\tremaining: 6.57s\n",
      "362:\tlearn: 0.0610209\ttotal: 3.73s\tremaining: 6.55s\n",
      "363:\tlearn: 0.0608256\ttotal: 3.75s\tremaining: 6.54s\n",
      "364:\tlearn: 0.0606180\ttotal: 3.75s\tremaining: 6.53s\n",
      "365:\tlearn: 0.0604913\ttotal: 3.76s\tremaining: 6.52s\n",
      "366:\tlearn: 0.0602527\ttotal: 3.77s\tremaining: 6.51s\n",
      "367:\tlearn: 0.0600081\ttotal: 3.78s\tremaining: 6.5s\n",
      "368:\tlearn: 0.0598148\ttotal: 3.79s\tremaining: 6.48s\n",
      "369:\tlearn: 0.0595611\ttotal: 3.8s\tremaining: 6.47s\n",
      "370:\tlearn: 0.0592241\ttotal: 3.81s\tremaining: 6.46s\n",
      "371:\tlearn: 0.0591131\ttotal: 3.82s\tremaining: 6.45s\n",
      "372:\tlearn: 0.0589010\ttotal: 3.83s\tremaining: 6.43s\n",
      "373:\tlearn: 0.0587559\ttotal: 3.84s\tremaining: 6.42s\n",
      "374:\tlearn: 0.0585911\ttotal: 3.85s\tremaining: 6.41s\n",
      "375:\tlearn: 0.0584570\ttotal: 3.86s\tremaining: 6.4s\n",
      "376:\tlearn: 0.0582631\ttotal: 3.87s\tremaining: 6.39s\n",
      "377:\tlearn: 0.0581232\ttotal: 3.88s\tremaining: 6.38s\n",
      "378:\tlearn: 0.0579424\ttotal: 3.89s\tremaining: 6.37s\n",
      "379:\tlearn: 0.0577814\ttotal: 3.9s\tremaining: 6.36s\n",
      "380:\tlearn: 0.0577190\ttotal: 3.9s\tremaining: 6.34s\n",
      "381:\tlearn: 0.0575343\ttotal: 3.91s\tremaining: 6.33s\n",
      "382:\tlearn: 0.0574659\ttotal: 3.92s\tremaining: 6.32s\n",
      "383:\tlearn: 0.0573381\ttotal: 3.93s\tremaining: 6.31s\n",
      "384:\tlearn: 0.0571526\ttotal: 3.94s\tremaining: 6.29s\n",
      "385:\tlearn: 0.0569628\ttotal: 3.95s\tremaining: 6.28s\n",
      "386:\tlearn: 0.0568693\ttotal: 3.96s\tremaining: 6.27s\n",
      "387:\tlearn: 0.0566291\ttotal: 3.97s\tremaining: 6.26s\n",
      "388:\tlearn: 0.0565017\ttotal: 3.98s\tremaining: 6.25s\n",
      "389:\tlearn: 0.0564001\ttotal: 3.99s\tremaining: 6.23s\n",
      "390:\tlearn: 0.0563147\ttotal: 3.99s\tremaining: 6.22s\n",
      "391:\tlearn: 0.0560997\ttotal: 4s\tremaining: 6.21s\n",
      "392:\tlearn: 0.0560508\ttotal: 4.01s\tremaining: 6.2s\n",
      "393:\tlearn: 0.0559216\ttotal: 4.02s\tremaining: 6.18s\n",
      "394:\tlearn: 0.0557649\ttotal: 4.03s\tremaining: 6.17s\n",
      "395:\tlearn: 0.0554876\ttotal: 4.04s\tremaining: 6.16s\n",
      "396:\tlearn: 0.0554353\ttotal: 4.05s\tremaining: 6.15s\n",
      "397:\tlearn: 0.0553323\ttotal: 4.06s\tremaining: 6.14s\n",
      "398:\tlearn: 0.0552131\ttotal: 4.07s\tremaining: 6.13s\n",
      "399:\tlearn: 0.0551056\ttotal: 4.08s\tremaining: 6.12s\n",
      "400:\tlearn: 0.0548807\ttotal: 4.09s\tremaining: 6.11s\n",
      "401:\tlearn: 0.0547524\ttotal: 4.1s\tremaining: 6.09s\n",
      "402:\tlearn: 0.0546231\ttotal: 4.11s\tremaining: 6.08s\n",
      "403:\tlearn: 0.0544836\ttotal: 4.12s\tremaining: 6.07s\n",
      "404:\tlearn: 0.0543820\ttotal: 4.12s\tremaining: 6.06s\n",
      "405:\tlearn: 0.0542151\ttotal: 4.13s\tremaining: 6.05s\n",
      "406:\tlearn: 0.0541253\ttotal: 4.14s\tremaining: 6.04s\n",
      "407:\tlearn: 0.0540182\ttotal: 4.15s\tremaining: 6.02s\n",
      "408:\tlearn: 0.0539289\ttotal: 4.16s\tremaining: 6.01s\n",
      "409:\tlearn: 0.0536980\ttotal: 4.17s\tremaining: 6s\n",
      "410:\tlearn: 0.0535693\ttotal: 4.18s\tremaining: 5.99s\n",
      "411:\tlearn: 0.0534338\ttotal: 4.19s\tremaining: 5.98s\n",
      "412:\tlearn: 0.0533532\ttotal: 4.2s\tremaining: 5.96s\n",
      "413:\tlearn: 0.0532796\ttotal: 4.21s\tremaining: 5.95s\n",
      "414:\tlearn: 0.0531333\ttotal: 4.21s\tremaining: 5.94s\n",
      "415:\tlearn: 0.0530219\ttotal: 4.22s\tremaining: 5.93s\n",
      "416:\tlearn: 0.0527659\ttotal: 4.23s\tremaining: 5.92s\n",
      "417:\tlearn: 0.0526114\ttotal: 4.24s\tremaining: 5.91s\n",
      "418:\tlearn: 0.0525111\ttotal: 4.26s\tremaining: 5.9s\n",
      "419:\tlearn: 0.0523895\ttotal: 4.27s\tremaining: 5.89s\n",
      "420:\tlearn: 0.0523024\ttotal: 4.28s\tremaining: 5.88s\n",
      "421:\tlearn: 0.0522398\ttotal: 4.29s\tremaining: 5.87s\n",
      "422:\tlearn: 0.0521274\ttotal: 4.3s\tremaining: 5.86s\n",
      "423:\tlearn: 0.0520034\ttotal: 4.31s\tremaining: 5.85s\n",
      "424:\tlearn: 0.0518710\ttotal: 4.32s\tremaining: 5.84s\n",
      "425:\tlearn: 0.0517179\ttotal: 4.32s\tremaining: 5.83s\n",
      "426:\tlearn: 0.0515538\ttotal: 4.33s\tremaining: 5.81s\n",
      "427:\tlearn: 0.0513851\ttotal: 4.34s\tremaining: 5.8s\n",
      "428:\tlearn: 0.0512622\ttotal: 4.35s\tremaining: 5.79s\n",
      "429:\tlearn: 0.0510652\ttotal: 4.36s\tremaining: 5.78s\n",
      "430:\tlearn: 0.0509320\ttotal: 4.37s\tremaining: 5.77s\n",
      "431:\tlearn: 0.0507886\ttotal: 4.38s\tremaining: 5.75s\n",
      "432:\tlearn: 0.0506995\ttotal: 4.39s\tremaining: 5.74s\n",
      "433:\tlearn: 0.0504968\ttotal: 4.39s\tremaining: 5.73s\n",
      "434:\tlearn: 0.0504057\ttotal: 4.4s\tremaining: 5.72s\n",
      "435:\tlearn: 0.0502802\ttotal: 4.41s\tremaining: 5.71s\n",
      "436:\tlearn: 0.0501284\ttotal: 4.44s\tremaining: 5.73s\n",
      "437:\tlearn: 0.0500214\ttotal: 4.47s\tremaining: 5.74s\n",
      "438:\tlearn: 0.0497908\ttotal: 4.49s\tremaining: 5.73s\n",
      "439:\tlearn: 0.0496518\ttotal: 4.5s\tremaining: 5.72s\n",
      "440:\tlearn: 0.0495797\ttotal: 4.51s\tremaining: 5.71s\n",
      "441:\tlearn: 0.0495028\ttotal: 4.52s\tremaining: 5.7s\n",
      "442:\tlearn: 0.0494452\ttotal: 4.53s\tremaining: 5.69s\n",
      "443:\tlearn: 0.0492825\ttotal: 4.54s\tremaining: 5.68s\n",
      "444:\tlearn: 0.0491285\ttotal: 4.54s\tremaining: 5.67s\n",
      "445:\tlearn: 0.0489393\ttotal: 4.55s\tremaining: 5.66s\n",
      "446:\tlearn: 0.0488200\ttotal: 4.56s\tremaining: 5.64s\n",
      "447:\tlearn: 0.0487161\ttotal: 4.57s\tremaining: 5.63s\n",
      "448:\tlearn: 0.0486231\ttotal: 4.58s\tremaining: 5.62s\n",
      "449:\tlearn: 0.0485587\ttotal: 4.59s\tremaining: 5.61s\n",
      "450:\tlearn: 0.0484749\ttotal: 4.6s\tremaining: 5.6s\n",
      "451:\tlearn: 0.0482686\ttotal: 4.61s\tremaining: 5.59s\n",
      "452:\tlearn: 0.0480250\ttotal: 4.62s\tremaining: 5.58s\n",
      "453:\tlearn: 0.0479849\ttotal: 4.63s\tremaining: 5.57s\n",
      "454:\tlearn: 0.0478415\ttotal: 4.64s\tremaining: 5.56s\n",
      "455:\tlearn: 0.0477070\ttotal: 4.65s\tremaining: 5.55s\n",
      "456:\tlearn: 0.0475802\ttotal: 4.66s\tremaining: 5.54s\n",
      "457:\tlearn: 0.0474757\ttotal: 4.67s\tremaining: 5.52s\n",
      "458:\tlearn: 0.0472491\ttotal: 4.68s\tremaining: 5.51s\n",
      "459:\tlearn: 0.0471674\ttotal: 4.69s\tremaining: 5.5s\n",
      "460:\tlearn: 0.0470406\ttotal: 4.7s\tremaining: 5.49s\n",
      "461:\tlearn: 0.0469544\ttotal: 4.71s\tremaining: 5.48s\n",
      "462:\tlearn: 0.0467522\ttotal: 4.71s\tremaining: 5.47s\n",
      "463:\tlearn: 0.0466614\ttotal: 4.72s\tremaining: 5.46s\n",
      "464:\tlearn: 0.0465669\ttotal: 4.73s\tremaining: 5.44s\n",
      "465:\tlearn: 0.0463820\ttotal: 4.74s\tremaining: 5.43s\n",
      "466:\tlearn: 0.0462687\ttotal: 4.75s\tremaining: 5.42s\n",
      "467:\tlearn: 0.0461664\ttotal: 4.76s\tremaining: 5.41s\n",
      "468:\tlearn: 0.0460297\ttotal: 4.77s\tremaining: 5.4s\n",
      "469:\tlearn: 0.0458110\ttotal: 4.78s\tremaining: 5.39s\n",
      "470:\tlearn: 0.0457030\ttotal: 4.79s\tremaining: 5.38s\n",
      "471:\tlearn: 0.0454864\ttotal: 4.8s\tremaining: 5.37s\n",
      "472:\tlearn: 0.0453166\ttotal: 4.81s\tremaining: 5.36s\n",
      "473:\tlearn: 0.0451977\ttotal: 4.82s\tremaining: 5.35s\n",
      "474:\tlearn: 0.0450651\ttotal: 4.83s\tremaining: 5.34s\n",
      "475:\tlearn: 0.0449682\ttotal: 4.84s\tremaining: 5.33s\n",
      "476:\tlearn: 0.0447689\ttotal: 4.85s\tremaining: 5.31s\n",
      "477:\tlearn: 0.0446244\ttotal: 4.86s\tremaining: 5.3s\n",
      "478:\tlearn: 0.0445518\ttotal: 4.86s\tremaining: 5.29s\n",
      "479:\tlearn: 0.0443862\ttotal: 4.87s\tremaining: 5.28s\n",
      "480:\tlearn: 0.0443109\ttotal: 4.88s\tremaining: 5.27s\n",
      "481:\tlearn: 0.0442279\ttotal: 4.89s\tremaining: 5.26s\n",
      "482:\tlearn: 0.0441325\ttotal: 4.9s\tremaining: 5.24s\n",
      "483:\tlearn: 0.0440172\ttotal: 4.91s\tremaining: 5.23s\n",
      "484:\tlearn: 0.0438961\ttotal: 4.92s\tremaining: 5.22s\n",
      "485:\tlearn: 0.0437491\ttotal: 4.93s\tremaining: 5.21s\n",
      "486:\tlearn: 0.0437046\ttotal: 4.93s\tremaining: 5.2s\n",
      "487:\tlearn: 0.0434650\ttotal: 4.94s\tremaining: 5.19s\n",
      "488:\tlearn: 0.0432949\ttotal: 4.95s\tremaining: 5.18s\n",
      "489:\tlearn: 0.0431793\ttotal: 4.96s\tremaining: 5.17s\n",
      "490:\tlearn: 0.0431269\ttotal: 4.97s\tremaining: 5.15s\n",
      "491:\tlearn: 0.0429149\ttotal: 4.98s\tremaining: 5.14s\n",
      "492:\tlearn: 0.0428524\ttotal: 4.99s\tremaining: 5.13s\n",
      "493:\tlearn: 0.0427334\ttotal: 5s\tremaining: 5.12s\n",
      "494:\tlearn: 0.0426277\ttotal: 5.01s\tremaining: 5.11s\n",
      "495:\tlearn: 0.0425437\ttotal: 5.02s\tremaining: 5.1s\n",
      "496:\tlearn: 0.0424424\ttotal: 5.03s\tremaining: 5.09s\n",
      "497:\tlearn: 0.0424083\ttotal: 5.04s\tremaining: 5.08s\n",
      "498:\tlearn: 0.0422223\ttotal: 5.05s\tremaining: 5.07s\n",
      "499:\tlearn: 0.0420899\ttotal: 5.06s\tremaining: 5.06s\n",
      "500:\tlearn: 0.0419936\ttotal: 5.07s\tremaining: 5.05s\n",
      "501:\tlearn: 0.0419124\ttotal: 5.08s\tremaining: 5.04s\n",
      "502:\tlearn: 0.0418010\ttotal: 5.08s\tremaining: 5.02s\n",
      "503:\tlearn: 0.0416840\ttotal: 5.09s\tremaining: 5.01s\n",
      "504:\tlearn: 0.0415805\ttotal: 5.1s\tremaining: 5s\n",
      "505:\tlearn: 0.0414695\ttotal: 5.11s\tremaining: 4.99s\n",
      "506:\tlearn: 0.0413683\ttotal: 5.12s\tremaining: 4.98s\n",
      "507:\tlearn: 0.0412078\ttotal: 5.13s\tremaining: 4.97s\n",
      "508:\tlearn: 0.0411500\ttotal: 5.14s\tremaining: 4.96s\n",
      "509:\tlearn: 0.0410823\ttotal: 5.15s\tremaining: 4.95s\n",
      "510:\tlearn: 0.0409356\ttotal: 5.16s\tremaining: 4.93s\n",
      "511:\tlearn: 0.0408844\ttotal: 5.17s\tremaining: 4.92s\n",
      "512:\tlearn: 0.0408215\ttotal: 5.18s\tremaining: 4.91s\n",
      "513:\tlearn: 0.0407177\ttotal: 5.19s\tremaining: 4.9s\n",
      "514:\tlearn: 0.0406389\ttotal: 5.2s\tremaining: 4.9s\n",
      "515:\tlearn: 0.0405564\ttotal: 5.21s\tremaining: 4.88s\n",
      "516:\tlearn: 0.0404911\ttotal: 5.22s\tremaining: 4.87s\n",
      "517:\tlearn: 0.0404571\ttotal: 5.23s\tremaining: 4.86s\n",
      "518:\tlearn: 0.0403572\ttotal: 5.24s\tremaining: 4.85s\n",
      "519:\tlearn: 0.0403007\ttotal: 5.24s\tremaining: 4.84s\n",
      "520:\tlearn: 0.0402461\ttotal: 5.25s\tremaining: 4.83s\n",
      "521:\tlearn: 0.0401143\ttotal: 5.26s\tremaining: 4.82s\n",
      "522:\tlearn: 0.0400315\ttotal: 5.27s\tremaining: 4.81s\n",
      "523:\tlearn: 0.0399112\ttotal: 5.28s\tremaining: 4.8s\n",
      "524:\tlearn: 0.0398305\ttotal: 5.29s\tremaining: 4.79s\n",
      "525:\tlearn: 0.0397874\ttotal: 5.3s\tremaining: 4.78s\n",
      "526:\tlearn: 0.0396728\ttotal: 5.31s\tremaining: 4.76s\n",
      "527:\tlearn: 0.0395976\ttotal: 5.32s\tremaining: 4.75s\n",
      "528:\tlearn: 0.0395291\ttotal: 5.33s\tremaining: 4.74s\n",
      "529:\tlearn: 0.0394583\ttotal: 5.33s\tremaining: 4.73s\n",
      "530:\tlearn: 0.0393736\ttotal: 5.34s\tremaining: 4.72s\n",
      "531:\tlearn: 0.0392856\ttotal: 5.35s\tremaining: 4.71s\n",
      "532:\tlearn: 0.0391888\ttotal: 5.36s\tremaining: 4.7s\n",
      "533:\tlearn: 0.0391008\ttotal: 5.37s\tremaining: 4.69s\n",
      "534:\tlearn: 0.0390163\ttotal: 5.38s\tremaining: 4.68s\n",
      "535:\tlearn: 0.0388360\ttotal: 5.39s\tremaining: 4.67s\n",
      "536:\tlearn: 0.0387814\ttotal: 5.4s\tremaining: 4.66s\n",
      "537:\tlearn: 0.0386987\ttotal: 5.41s\tremaining: 4.65s\n",
      "538:\tlearn: 0.0386138\ttotal: 5.42s\tremaining: 4.64s\n",
      "539:\tlearn: 0.0385522\ttotal: 5.43s\tremaining: 4.63s\n",
      "540:\tlearn: 0.0384737\ttotal: 5.44s\tremaining: 4.61s\n",
      "541:\tlearn: 0.0384056\ttotal: 5.45s\tremaining: 4.6s\n",
      "542:\tlearn: 0.0382569\ttotal: 5.46s\tremaining: 4.59s\n",
      "543:\tlearn: 0.0382200\ttotal: 5.47s\tremaining: 4.58s\n",
      "544:\tlearn: 0.0381632\ttotal: 5.48s\tremaining: 4.57s\n",
      "545:\tlearn: 0.0380983\ttotal: 5.49s\tremaining: 4.56s\n",
      "546:\tlearn: 0.0380029\ttotal: 5.5s\tremaining: 4.55s\n",
      "547:\tlearn: 0.0379207\ttotal: 5.51s\tremaining: 4.54s\n",
      "548:\tlearn: 0.0377661\ttotal: 5.51s\tremaining: 4.53s\n",
      "549:\tlearn: 0.0376969\ttotal: 5.52s\tremaining: 4.52s\n",
      "550:\tlearn: 0.0376172\ttotal: 5.53s\tremaining: 4.51s\n",
      "551:\tlearn: 0.0375535\ttotal: 5.54s\tremaining: 4.5s\n",
      "552:\tlearn: 0.0375040\ttotal: 5.55s\tremaining: 4.49s\n",
      "553:\tlearn: 0.0374429\ttotal: 5.56s\tremaining: 4.47s\n",
      "554:\tlearn: 0.0373607\ttotal: 5.57s\tremaining: 4.47s\n",
      "555:\tlearn: 0.0372129\ttotal: 5.58s\tremaining: 4.46s\n",
      "556:\tlearn: 0.0371474\ttotal: 5.59s\tremaining: 4.45s\n",
      "557:\tlearn: 0.0370364\ttotal: 5.6s\tremaining: 4.44s\n",
      "558:\tlearn: 0.0369642\ttotal: 5.61s\tremaining: 4.43s\n",
      "559:\tlearn: 0.0368972\ttotal: 5.62s\tremaining: 4.42s\n",
      "560:\tlearn: 0.0368034\ttotal: 5.63s\tremaining: 4.4s\n",
      "561:\tlearn: 0.0367504\ttotal: 5.64s\tremaining: 4.39s\n",
      "562:\tlearn: 0.0367140\ttotal: 5.65s\tremaining: 4.38s\n",
      "563:\tlearn: 0.0366416\ttotal: 5.66s\tremaining: 4.37s\n",
      "564:\tlearn: 0.0365216\ttotal: 5.66s\tremaining: 4.36s\n",
      "565:\tlearn: 0.0364232\ttotal: 5.67s\tremaining: 4.35s\n",
      "566:\tlearn: 0.0363524\ttotal: 5.68s\tremaining: 4.34s\n",
      "567:\tlearn: 0.0362980\ttotal: 5.69s\tremaining: 4.33s\n",
      "568:\tlearn: 0.0362121\ttotal: 5.7s\tremaining: 4.32s\n",
      "569:\tlearn: 0.0361527\ttotal: 5.71s\tremaining: 4.31s\n",
      "570:\tlearn: 0.0360700\ttotal: 5.72s\tremaining: 4.3s\n",
      "571:\tlearn: 0.0359751\ttotal: 5.73s\tremaining: 4.29s\n",
      "572:\tlearn: 0.0359297\ttotal: 5.74s\tremaining: 4.28s\n",
      "573:\tlearn: 0.0358315\ttotal: 5.75s\tremaining: 4.27s\n",
      "574:\tlearn: 0.0357766\ttotal: 5.76s\tremaining: 4.25s\n",
      "575:\tlearn: 0.0356951\ttotal: 5.77s\tremaining: 4.25s\n",
      "576:\tlearn: 0.0356259\ttotal: 5.78s\tremaining: 4.24s\n",
      "577:\tlearn: 0.0355595\ttotal: 5.79s\tremaining: 4.23s\n",
      "578:\tlearn: 0.0353901\ttotal: 5.8s\tremaining: 4.21s\n",
      "579:\tlearn: 0.0353331\ttotal: 5.81s\tremaining: 4.2s\n",
      "580:\tlearn: 0.0352158\ttotal: 5.82s\tremaining: 4.19s\n",
      "581:\tlearn: 0.0351344\ttotal: 5.82s\tremaining: 4.18s\n",
      "582:\tlearn: 0.0350988\ttotal: 5.83s\tremaining: 4.17s\n",
      "583:\tlearn: 0.0350312\ttotal: 5.84s\tremaining: 4.16s\n",
      "584:\tlearn: 0.0349732\ttotal: 5.85s\tremaining: 4.15s\n",
      "585:\tlearn: 0.0349090\ttotal: 5.86s\tremaining: 4.14s\n",
      "586:\tlearn: 0.0348214\ttotal: 5.87s\tremaining: 4.13s\n",
      "587:\tlearn: 0.0347746\ttotal: 5.88s\tremaining: 4.12s\n",
      "588:\tlearn: 0.0346977\ttotal: 5.88s\tremaining: 4.11s\n",
      "589:\tlearn: 0.0346129\ttotal: 5.89s\tremaining: 4.1s\n",
      "590:\tlearn: 0.0345756\ttotal: 5.9s\tremaining: 4.08s\n",
      "591:\tlearn: 0.0345290\ttotal: 5.91s\tremaining: 4.07s\n",
      "592:\tlearn: 0.0344858\ttotal: 5.92s\tremaining: 4.06s\n",
      "593:\tlearn: 0.0343860\ttotal: 5.93s\tremaining: 4.05s\n",
      "594:\tlearn: 0.0343510\ttotal: 5.94s\tremaining: 4.04s\n",
      "595:\tlearn: 0.0342555\ttotal: 5.95s\tremaining: 4.03s\n",
      "596:\tlearn: 0.0342210\ttotal: 5.96s\tremaining: 4.02s\n",
      "597:\tlearn: 0.0341556\ttotal: 5.97s\tremaining: 4.01s\n",
      "598:\tlearn: 0.0340897\ttotal: 5.98s\tremaining: 4s\n",
      "599:\tlearn: 0.0339345\ttotal: 5.99s\tremaining: 3.99s\n",
      "600:\tlearn: 0.0338590\ttotal: 6s\tremaining: 3.98s\n",
      "601:\tlearn: 0.0338229\ttotal: 6.01s\tremaining: 3.97s\n",
      "602:\tlearn: 0.0337837\ttotal: 6.01s\tremaining: 3.96s\n",
      "603:\tlearn: 0.0337338\ttotal: 6.02s\tremaining: 3.95s\n",
      "604:\tlearn: 0.0336764\ttotal: 6.03s\tremaining: 3.94s\n",
      "605:\tlearn: 0.0336053\ttotal: 6.04s\tremaining: 3.93s\n",
      "606:\tlearn: 0.0335478\ttotal: 6.05s\tremaining: 3.92s\n",
      "607:\tlearn: 0.0334865\ttotal: 6.06s\tremaining: 3.91s\n",
      "608:\tlearn: 0.0334053\ttotal: 6.07s\tremaining: 3.9s\n",
      "609:\tlearn: 0.0333862\ttotal: 6.08s\tremaining: 3.88s\n",
      "610:\tlearn: 0.0333387\ttotal: 6.08s\tremaining: 3.87s\n",
      "611:\tlearn: 0.0332596\ttotal: 6.09s\tremaining: 3.86s\n",
      "612:\tlearn: 0.0331927\ttotal: 6.1s\tremaining: 3.85s\n",
      "613:\tlearn: 0.0331350\ttotal: 6.11s\tremaining: 3.84s\n",
      "614:\tlearn: 0.0330773\ttotal: 6.12s\tremaining: 3.83s\n",
      "615:\tlearn: 0.0329679\ttotal: 6.13s\tremaining: 3.82s\n",
      "616:\tlearn: 0.0329247\ttotal: 6.14s\tremaining: 3.81s\n",
      "617:\tlearn: 0.0328403\ttotal: 6.15s\tremaining: 3.8s\n",
      "618:\tlearn: 0.0327372\ttotal: 6.16s\tremaining: 3.79s\n",
      "619:\tlearn: 0.0326953\ttotal: 6.17s\tremaining: 3.78s\n",
      "620:\tlearn: 0.0326234\ttotal: 6.18s\tremaining: 3.77s\n",
      "621:\tlearn: 0.0325637\ttotal: 6.19s\tremaining: 3.76s\n",
      "622:\tlearn: 0.0324816\ttotal: 6.2s\tremaining: 3.75s\n",
      "623:\tlearn: 0.0324255\ttotal: 6.21s\tremaining: 3.74s\n",
      "624:\tlearn: 0.0323721\ttotal: 6.22s\tremaining: 3.73s\n",
      "625:\tlearn: 0.0323266\ttotal: 6.23s\tremaining: 3.72s\n",
      "626:\tlearn: 0.0322773\ttotal: 6.24s\tremaining: 3.71s\n",
      "627:\tlearn: 0.0322135\ttotal: 6.24s\tremaining: 3.7s\n",
      "628:\tlearn: 0.0321105\ttotal: 6.25s\tremaining: 3.69s\n",
      "629:\tlearn: 0.0320689\ttotal: 6.26s\tremaining: 3.68s\n",
      "630:\tlearn: 0.0320161\ttotal: 6.27s\tremaining: 3.67s\n",
      "631:\tlearn: 0.0319673\ttotal: 6.28s\tremaining: 3.66s\n",
      "632:\tlearn: 0.0318496\ttotal: 6.29s\tremaining: 3.65s\n",
      "633:\tlearn: 0.0318086\ttotal: 6.3s\tremaining: 3.64s\n",
      "634:\tlearn: 0.0317570\ttotal: 6.31s\tremaining: 3.63s\n",
      "635:\tlearn: 0.0316766\ttotal: 6.32s\tremaining: 3.62s\n",
      "636:\tlearn: 0.0316193\ttotal: 6.33s\tremaining: 3.6s\n",
      "637:\tlearn: 0.0315665\ttotal: 6.33s\tremaining: 3.59s\n",
      "638:\tlearn: 0.0315327\ttotal: 6.34s\tremaining: 3.58s\n",
      "639:\tlearn: 0.0314620\ttotal: 6.35s\tremaining: 3.57s\n",
      "640:\tlearn: 0.0313645\ttotal: 6.37s\tremaining: 3.56s\n",
      "641:\tlearn: 0.0313349\ttotal: 6.38s\tremaining: 3.56s\n",
      "642:\tlearn: 0.0313129\ttotal: 6.38s\tremaining: 3.54s\n",
      "643:\tlearn: 0.0312649\ttotal: 6.39s\tremaining: 3.54s\n",
      "644:\tlearn: 0.0311928\ttotal: 6.4s\tremaining: 3.52s\n",
      "645:\tlearn: 0.0310793\ttotal: 6.41s\tremaining: 3.51s\n",
      "646:\tlearn: 0.0309984\ttotal: 6.42s\tremaining: 3.5s\n",
      "647:\tlearn: 0.0309533\ttotal: 6.43s\tremaining: 3.49s\n",
      "648:\tlearn: 0.0308760\ttotal: 6.44s\tremaining: 3.48s\n",
      "649:\tlearn: 0.0307742\ttotal: 6.45s\tremaining: 3.47s\n",
      "650:\tlearn: 0.0307309\ttotal: 6.46s\tremaining: 3.46s\n",
      "651:\tlearn: 0.0306747\ttotal: 6.47s\tremaining: 3.45s\n",
      "652:\tlearn: 0.0305373\ttotal: 6.48s\tremaining: 3.44s\n",
      "653:\tlearn: 0.0304947\ttotal: 6.49s\tremaining: 3.43s\n",
      "654:\tlearn: 0.0304293\ttotal: 6.49s\tremaining: 3.42s\n",
      "655:\tlearn: 0.0303655\ttotal: 6.5s\tremaining: 3.41s\n",
      "656:\tlearn: 0.0303035\ttotal: 6.51s\tremaining: 3.4s\n",
      "657:\tlearn: 0.0302038\ttotal: 6.52s\tremaining: 3.39s\n",
      "658:\tlearn: 0.0301364\ttotal: 6.53s\tremaining: 3.38s\n",
      "659:\tlearn: 0.0300528\ttotal: 6.54s\tremaining: 3.37s\n",
      "660:\tlearn: 0.0299828\ttotal: 6.55s\tremaining: 3.36s\n",
      "661:\tlearn: 0.0298396\ttotal: 6.56s\tremaining: 3.35s\n",
      "662:\tlearn: 0.0297664\ttotal: 6.57s\tremaining: 3.34s\n",
      "663:\tlearn: 0.0297096\ttotal: 6.58s\tremaining: 3.33s\n",
      "664:\tlearn: 0.0295954\ttotal: 6.59s\tremaining: 3.32s\n",
      "665:\tlearn: 0.0295340\ttotal: 6.6s\tremaining: 3.31s\n",
      "666:\tlearn: 0.0295076\ttotal: 6.61s\tremaining: 3.3s\n",
      "667:\tlearn: 0.0294542\ttotal: 6.62s\tremaining: 3.29s\n",
      "668:\tlearn: 0.0293970\ttotal: 6.63s\tremaining: 3.28s\n",
      "669:\tlearn: 0.0293562\ttotal: 6.63s\tremaining: 3.27s\n",
      "670:\tlearn: 0.0292291\ttotal: 6.64s\tremaining: 3.26s\n",
      "671:\tlearn: 0.0291924\ttotal: 6.65s\tremaining: 3.25s\n",
      "672:\tlearn: 0.0291381\ttotal: 6.66s\tremaining: 3.24s\n",
      "673:\tlearn: 0.0290932\ttotal: 6.67s\tremaining: 3.23s\n",
      "674:\tlearn: 0.0290550\ttotal: 6.68s\tremaining: 3.22s\n",
      "675:\tlearn: 0.0289929\ttotal: 6.69s\tremaining: 3.21s\n",
      "676:\tlearn: 0.0289134\ttotal: 6.7s\tremaining: 3.2s\n",
      "677:\tlearn: 0.0288688\ttotal: 6.71s\tremaining: 3.19s\n",
      "678:\tlearn: 0.0288269\ttotal: 6.72s\tremaining: 3.18s\n",
      "679:\tlearn: 0.0287788\ttotal: 6.73s\tremaining: 3.17s\n",
      "680:\tlearn: 0.0287062\ttotal: 6.74s\tremaining: 3.15s\n",
      "681:\tlearn: 0.0286654\ttotal: 6.74s\tremaining: 3.15s\n",
      "682:\tlearn: 0.0286120\ttotal: 6.75s\tremaining: 3.13s\n",
      "683:\tlearn: 0.0285716\ttotal: 6.77s\tremaining: 3.13s\n",
      "684:\tlearn: 0.0285273\ttotal: 6.78s\tremaining: 3.12s\n",
      "685:\tlearn: 0.0284927\ttotal: 6.79s\tremaining: 3.11s\n",
      "686:\tlearn: 0.0284039\ttotal: 6.79s\tremaining: 3.1s\n",
      "687:\tlearn: 0.0283564\ttotal: 6.8s\tremaining: 3.08s\n",
      "688:\tlearn: 0.0282758\ttotal: 6.81s\tremaining: 3.08s\n",
      "689:\tlearn: 0.0282566\ttotal: 6.82s\tremaining: 3.06s\n",
      "690:\tlearn: 0.0282093\ttotal: 6.83s\tremaining: 3.05s\n",
      "691:\tlearn: 0.0281914\ttotal: 6.84s\tremaining: 3.04s\n",
      "692:\tlearn: 0.0281217\ttotal: 6.85s\tremaining: 3.03s\n",
      "693:\tlearn: 0.0280862\ttotal: 6.86s\tremaining: 3.02s\n",
      "694:\tlearn: 0.0280432\ttotal: 6.87s\tremaining: 3.01s\n",
      "695:\tlearn: 0.0279981\ttotal: 6.87s\tremaining: 3s\n",
      "696:\tlearn: 0.0279666\ttotal: 6.88s\tremaining: 2.99s\n",
      "697:\tlearn: 0.0279217\ttotal: 6.89s\tremaining: 2.98s\n",
      "698:\tlearn: 0.0278734\ttotal: 6.9s\tremaining: 2.97s\n",
      "699:\tlearn: 0.0278140\ttotal: 6.91s\tremaining: 2.96s\n",
      "700:\tlearn: 0.0277827\ttotal: 6.92s\tremaining: 2.95s\n",
      "701:\tlearn: 0.0277347\ttotal: 6.93s\tremaining: 2.94s\n",
      "702:\tlearn: 0.0276792\ttotal: 6.94s\tremaining: 2.93s\n",
      "703:\tlearn: 0.0276206\ttotal: 6.95s\tremaining: 2.92s\n",
      "704:\tlearn: 0.0275660\ttotal: 6.96s\tremaining: 2.91s\n",
      "705:\tlearn: 0.0275269\ttotal: 6.97s\tremaining: 2.9s\n",
      "706:\tlearn: 0.0274944\ttotal: 6.98s\tremaining: 2.89s\n",
      "707:\tlearn: 0.0274740\ttotal: 6.99s\tremaining: 2.88s\n",
      "708:\tlearn: 0.0274436\ttotal: 7s\tremaining: 2.87s\n",
      "709:\tlearn: 0.0273987\ttotal: 7s\tremaining: 2.86s\n",
      "710:\tlearn: 0.0273015\ttotal: 7.01s\tremaining: 2.85s\n",
      "711:\tlearn: 0.0272368\ttotal: 7.02s\tremaining: 2.84s\n",
      "712:\tlearn: 0.0271266\ttotal: 7.03s\tremaining: 2.83s\n",
      "713:\tlearn: 0.0270792\ttotal: 7.04s\tremaining: 2.82s\n",
      "714:\tlearn: 0.0270161\ttotal: 7.05s\tremaining: 2.81s\n",
      "715:\tlearn: 0.0269556\ttotal: 7.06s\tremaining: 2.8s\n",
      "716:\tlearn: 0.0269172\ttotal: 7.07s\tremaining: 2.79s\n",
      "717:\tlearn: 0.0268792\ttotal: 7.08s\tremaining: 2.78s\n",
      "718:\tlearn: 0.0268194\ttotal: 7.09s\tremaining: 2.77s\n",
      "719:\tlearn: 0.0267822\ttotal: 7.09s\tremaining: 2.76s\n",
      "720:\tlearn: 0.0267370\ttotal: 7.1s\tremaining: 2.75s\n",
      "721:\tlearn: 0.0266922\ttotal: 7.11s\tremaining: 2.74s\n",
      "722:\tlearn: 0.0266430\ttotal: 7.12s\tremaining: 2.73s\n",
      "723:\tlearn: 0.0265926\ttotal: 7.13s\tremaining: 2.72s\n",
      "724:\tlearn: 0.0265063\ttotal: 7.14s\tremaining: 2.71s\n",
      "725:\tlearn: 0.0264639\ttotal: 7.15s\tremaining: 2.7s\n",
      "726:\tlearn: 0.0264469\ttotal: 7.16s\tremaining: 2.69s\n",
      "727:\tlearn: 0.0264095\ttotal: 7.17s\tremaining: 2.68s\n",
      "728:\tlearn: 0.0263718\ttotal: 7.18s\tremaining: 2.67s\n",
      "729:\tlearn: 0.0263377\ttotal: 7.19s\tremaining: 2.66s\n",
      "730:\tlearn: 0.0262793\ttotal: 7.2s\tremaining: 2.65s\n",
      "731:\tlearn: 0.0262330\ttotal: 7.21s\tremaining: 2.64s\n",
      "732:\tlearn: 0.0261898\ttotal: 7.22s\tremaining: 2.63s\n",
      "733:\tlearn: 0.0261603\ttotal: 7.23s\tremaining: 2.62s\n",
      "734:\tlearn: 0.0260873\ttotal: 7.24s\tremaining: 2.61s\n",
      "735:\tlearn: 0.0260429\ttotal: 7.25s\tremaining: 2.6s\n",
      "736:\tlearn: 0.0260104\ttotal: 7.25s\tremaining: 2.59s\n",
      "737:\tlearn: 0.0259649\ttotal: 7.26s\tremaining: 2.58s\n",
      "738:\tlearn: 0.0259405\ttotal: 7.27s\tremaining: 2.57s\n",
      "739:\tlearn: 0.0258548\ttotal: 7.28s\tremaining: 2.56s\n",
      "740:\tlearn: 0.0258122\ttotal: 7.29s\tremaining: 2.55s\n",
      "741:\tlearn: 0.0257619\ttotal: 7.3s\tremaining: 2.54s\n",
      "742:\tlearn: 0.0256686\ttotal: 7.31s\tremaining: 2.53s\n",
      "743:\tlearn: 0.0256074\ttotal: 7.32s\tremaining: 2.52s\n",
      "744:\tlearn: 0.0255554\ttotal: 7.33s\tremaining: 2.51s\n",
      "745:\tlearn: 0.0255055\ttotal: 7.34s\tremaining: 2.5s\n",
      "746:\tlearn: 0.0254667\ttotal: 7.35s\tremaining: 2.49s\n",
      "747:\tlearn: 0.0254284\ttotal: 7.36s\tremaining: 2.48s\n",
      "748:\tlearn: 0.0253806\ttotal: 7.37s\tremaining: 2.47s\n",
      "749:\tlearn: 0.0253435\ttotal: 7.38s\tremaining: 2.46s\n",
      "750:\tlearn: 0.0253221\ttotal: 7.38s\tremaining: 2.45s\n",
      "751:\tlearn: 0.0252832\ttotal: 7.39s\tremaining: 2.44s\n",
      "752:\tlearn: 0.0252561\ttotal: 7.4s\tremaining: 2.43s\n",
      "753:\tlearn: 0.0251929\ttotal: 7.41s\tremaining: 2.42s\n",
      "754:\tlearn: 0.0251760\ttotal: 7.42s\tremaining: 2.41s\n",
      "755:\tlearn: 0.0251109\ttotal: 7.43s\tremaining: 2.4s\n",
      "756:\tlearn: 0.0250713\ttotal: 7.44s\tremaining: 2.39s\n",
      "757:\tlearn: 0.0250279\ttotal: 7.45s\tremaining: 2.38s\n",
      "758:\tlearn: 0.0249861\ttotal: 7.46s\tremaining: 2.37s\n",
      "759:\tlearn: 0.0249459\ttotal: 7.47s\tremaining: 2.36s\n",
      "760:\tlearn: 0.0248825\ttotal: 7.48s\tremaining: 2.35s\n",
      "761:\tlearn: 0.0248673\ttotal: 7.49s\tremaining: 2.34s\n",
      "762:\tlearn: 0.0248388\ttotal: 7.49s\tremaining: 2.33s\n",
      "763:\tlearn: 0.0247835\ttotal: 7.5s\tremaining: 2.32s\n",
      "764:\tlearn: 0.0247611\ttotal: 7.51s\tremaining: 2.31s\n",
      "765:\tlearn: 0.0247386\ttotal: 7.52s\tremaining: 2.3s\n",
      "766:\tlearn: 0.0247095\ttotal: 7.53s\tremaining: 2.29s\n",
      "767:\tlearn: 0.0246368\ttotal: 7.54s\tremaining: 2.28s\n",
      "768:\tlearn: 0.0246040\ttotal: 7.55s\tremaining: 2.27s\n",
      "769:\tlearn: 0.0245395\ttotal: 7.56s\tremaining: 2.26s\n",
      "770:\tlearn: 0.0244955\ttotal: 7.57s\tremaining: 2.25s\n",
      "771:\tlearn: 0.0244579\ttotal: 7.58s\tremaining: 2.24s\n",
      "772:\tlearn: 0.0244107\ttotal: 7.59s\tremaining: 2.23s\n",
      "773:\tlearn: 0.0243236\ttotal: 7.6s\tremaining: 2.22s\n",
      "774:\tlearn: 0.0242892\ttotal: 7.61s\tremaining: 2.21s\n",
      "775:\tlearn: 0.0242637\ttotal: 7.62s\tremaining: 2.2s\n",
      "776:\tlearn: 0.0242205\ttotal: 7.63s\tremaining: 2.19s\n",
      "777:\tlearn: 0.0241976\ttotal: 7.63s\tremaining: 2.18s\n",
      "778:\tlearn: 0.0241607\ttotal: 7.64s\tremaining: 2.17s\n",
      "779:\tlearn: 0.0241249\ttotal: 7.65s\tremaining: 2.16s\n",
      "780:\tlearn: 0.0241058\ttotal: 7.66s\tremaining: 2.15s\n",
      "781:\tlearn: 0.0240348\ttotal: 7.67s\tremaining: 2.14s\n",
      "782:\tlearn: 0.0240075\ttotal: 7.68s\tremaining: 2.13s\n",
      "783:\tlearn: 0.0239818\ttotal: 7.69s\tremaining: 2.12s\n",
      "784:\tlearn: 0.0239658\ttotal: 7.7s\tremaining: 2.11s\n",
      "785:\tlearn: 0.0239441\ttotal: 7.71s\tremaining: 2.1s\n",
      "786:\tlearn: 0.0239050\ttotal: 7.72s\tremaining: 2.09s\n",
      "787:\tlearn: 0.0238628\ttotal: 7.73s\tremaining: 2.08s\n",
      "788:\tlearn: 0.0238165\ttotal: 7.74s\tremaining: 2.07s\n",
      "789:\tlearn: 0.0237862\ttotal: 7.75s\tremaining: 2.06s\n",
      "790:\tlearn: 0.0237715\ttotal: 7.76s\tremaining: 2.05s\n",
      "791:\tlearn: 0.0237383\ttotal: 7.77s\tremaining: 2.04s\n",
      "792:\tlearn: 0.0237051\ttotal: 7.78s\tremaining: 2.03s\n",
      "793:\tlearn: 0.0236693\ttotal: 7.79s\tremaining: 2.02s\n",
      "794:\tlearn: 0.0236274\ttotal: 7.79s\tremaining: 2.01s\n",
      "795:\tlearn: 0.0236010\ttotal: 7.8s\tremaining: 2s\n",
      "796:\tlearn: 0.0235728\ttotal: 7.81s\tremaining: 1.99s\n",
      "797:\tlearn: 0.0235264\ttotal: 7.82s\tremaining: 1.98s\n",
      "798:\tlearn: 0.0234841\ttotal: 7.83s\tremaining: 1.97s\n",
      "799:\tlearn: 0.0234362\ttotal: 7.84s\tremaining: 1.96s\n",
      "800:\tlearn: 0.0233981\ttotal: 7.85s\tremaining: 1.95s\n",
      "801:\tlearn: 0.0233602\ttotal: 7.86s\tremaining: 1.94s\n",
      "802:\tlearn: 0.0233376\ttotal: 7.87s\tremaining: 1.93s\n",
      "803:\tlearn: 0.0233268\ttotal: 7.87s\tremaining: 1.92s\n",
      "804:\tlearn: 0.0232952\ttotal: 7.88s\tremaining: 1.91s\n",
      "805:\tlearn: 0.0232640\ttotal: 7.89s\tremaining: 1.9s\n",
      "806:\tlearn: 0.0232412\ttotal: 7.9s\tremaining: 1.89s\n",
      "807:\tlearn: 0.0232016\ttotal: 7.91s\tremaining: 1.88s\n",
      "808:\tlearn: 0.0231522\ttotal: 7.92s\tremaining: 1.87s\n",
      "809:\tlearn: 0.0231233\ttotal: 7.93s\tremaining: 1.86s\n",
      "810:\tlearn: 0.0230933\ttotal: 7.94s\tremaining: 1.85s\n",
      "811:\tlearn: 0.0230768\ttotal: 7.95s\tremaining: 1.84s\n",
      "812:\tlearn: 0.0230251\ttotal: 7.96s\tremaining: 1.83s\n",
      "813:\tlearn: 0.0229642\ttotal: 7.97s\tremaining: 1.82s\n",
      "814:\tlearn: 0.0229446\ttotal: 7.98s\tremaining: 1.81s\n",
      "815:\tlearn: 0.0229159\ttotal: 7.99s\tremaining: 1.8s\n",
      "816:\tlearn: 0.0228956\ttotal: 8s\tremaining: 1.79s\n",
      "817:\tlearn: 0.0228713\ttotal: 8.01s\tremaining: 1.78s\n",
      "818:\tlearn: 0.0228532\ttotal: 8.01s\tremaining: 1.77s\n",
      "819:\tlearn: 0.0228438\ttotal: 8.02s\tremaining: 1.76s\n",
      "820:\tlearn: 0.0228116\ttotal: 8.03s\tremaining: 1.75s\n",
      "821:\tlearn: 0.0227756\ttotal: 8.04s\tremaining: 1.74s\n",
      "822:\tlearn: 0.0227451\ttotal: 8.05s\tremaining: 1.73s\n",
      "823:\tlearn: 0.0227102\ttotal: 8.06s\tremaining: 1.72s\n",
      "824:\tlearn: 0.0226603\ttotal: 8.07s\tremaining: 1.71s\n",
      "825:\tlearn: 0.0226471\ttotal: 8.08s\tremaining: 1.7s\n",
      "826:\tlearn: 0.0226158\ttotal: 8.09s\tremaining: 1.69s\n",
      "827:\tlearn: 0.0225841\ttotal: 8.09s\tremaining: 1.68s\n",
      "828:\tlearn: 0.0225258\ttotal: 8.1s\tremaining: 1.67s\n",
      "829:\tlearn: 0.0224810\ttotal: 8.11s\tremaining: 1.66s\n",
      "830:\tlearn: 0.0224179\ttotal: 8.12s\tremaining: 1.65s\n",
      "831:\tlearn: 0.0223920\ttotal: 8.13s\tremaining: 1.64s\n",
      "832:\tlearn: 0.0223529\ttotal: 8.14s\tremaining: 1.63s\n",
      "833:\tlearn: 0.0223383\ttotal: 8.15s\tremaining: 1.62s\n",
      "834:\tlearn: 0.0222779\ttotal: 8.16s\tremaining: 1.61s\n",
      "835:\tlearn: 0.0222653\ttotal: 8.17s\tremaining: 1.6s\n",
      "836:\tlearn: 0.0222351\ttotal: 8.18s\tremaining: 1.59s\n",
      "837:\tlearn: 0.0221663\ttotal: 8.19s\tremaining: 1.58s\n",
      "838:\tlearn: 0.0221303\ttotal: 8.2s\tremaining: 1.57s\n",
      "839:\tlearn: 0.0220969\ttotal: 8.21s\tremaining: 1.56s\n",
      "840:\tlearn: 0.0220740\ttotal: 8.22s\tremaining: 1.55s\n",
      "841:\tlearn: 0.0220345\ttotal: 8.22s\tremaining: 1.54s\n",
      "842:\tlearn: 0.0220156\ttotal: 8.23s\tremaining: 1.53s\n",
      "843:\tlearn: 0.0219721\ttotal: 8.24s\tremaining: 1.52s\n",
      "844:\tlearn: 0.0219618\ttotal: 8.25s\tremaining: 1.51s\n",
      "845:\tlearn: 0.0219403\ttotal: 8.26s\tremaining: 1.5s\n",
      "846:\tlearn: 0.0219037\ttotal: 8.27s\tremaining: 1.49s\n",
      "847:\tlearn: 0.0218895\ttotal: 8.28s\tremaining: 1.48s\n",
      "848:\tlearn: 0.0218555\ttotal: 8.29s\tremaining: 1.47s\n",
      "849:\tlearn: 0.0218178\ttotal: 8.3s\tremaining: 1.46s\n",
      "850:\tlearn: 0.0218085\ttotal: 8.31s\tremaining: 1.45s\n",
      "851:\tlearn: 0.0217630\ttotal: 8.31s\tremaining: 1.44s\n",
      "852:\tlearn: 0.0216985\ttotal: 8.32s\tremaining: 1.43s\n",
      "853:\tlearn: 0.0216668\ttotal: 8.33s\tremaining: 1.42s\n",
      "854:\tlearn: 0.0216222\ttotal: 8.34s\tremaining: 1.42s\n",
      "855:\tlearn: 0.0215801\ttotal: 8.36s\tremaining: 1.41s\n",
      "856:\tlearn: 0.0215541\ttotal: 8.37s\tremaining: 1.4s\n",
      "857:\tlearn: 0.0215142\ttotal: 8.38s\tremaining: 1.39s\n",
      "858:\tlearn: 0.0214716\ttotal: 8.38s\tremaining: 1.38s\n",
      "859:\tlearn: 0.0214395\ttotal: 8.39s\tremaining: 1.37s\n",
      "860:\tlearn: 0.0213919\ttotal: 8.4s\tremaining: 1.36s\n",
      "861:\tlearn: 0.0213678\ttotal: 8.41s\tremaining: 1.35s\n",
      "862:\tlearn: 0.0213493\ttotal: 8.42s\tremaining: 1.34s\n",
      "863:\tlearn: 0.0213020\ttotal: 8.43s\tremaining: 1.33s\n",
      "864:\tlearn: 0.0212823\ttotal: 8.44s\tremaining: 1.32s\n",
      "865:\tlearn: 0.0212368\ttotal: 8.45s\tremaining: 1.31s\n",
      "866:\tlearn: 0.0212250\ttotal: 8.46s\tremaining: 1.3s\n",
      "867:\tlearn: 0.0212172\ttotal: 8.46s\tremaining: 1.29s\n",
      "868:\tlearn: 0.0211977\ttotal: 8.47s\tremaining: 1.28s\n",
      "869:\tlearn: 0.0211481\ttotal: 8.48s\tremaining: 1.27s\n",
      "870:\tlearn: 0.0211285\ttotal: 8.49s\tremaining: 1.26s\n",
      "871:\tlearn: 0.0210928\ttotal: 8.5s\tremaining: 1.25s\n",
      "872:\tlearn: 0.0210789\ttotal: 8.51s\tremaining: 1.24s\n",
      "873:\tlearn: 0.0210505\ttotal: 8.52s\tremaining: 1.23s\n",
      "874:\tlearn: 0.0210319\ttotal: 8.53s\tremaining: 1.22s\n",
      "875:\tlearn: 0.0209698\ttotal: 8.54s\tremaining: 1.21s\n",
      "876:\tlearn: 0.0209489\ttotal: 8.55s\tremaining: 1.2s\n",
      "877:\tlearn: 0.0209299\ttotal: 8.56s\tremaining: 1.19s\n",
      "878:\tlearn: 0.0208982\ttotal: 8.57s\tremaining: 1.18s\n",
      "879:\tlearn: 0.0208709\ttotal: 8.58s\tremaining: 1.17s\n",
      "880:\tlearn: 0.0208525\ttotal: 8.59s\tremaining: 1.16s\n",
      "881:\tlearn: 0.0208378\ttotal: 8.59s\tremaining: 1.15s\n",
      "882:\tlearn: 0.0207426\ttotal: 8.6s\tremaining: 1.14s\n",
      "883:\tlearn: 0.0207166\ttotal: 8.61s\tremaining: 1.13s\n",
      "884:\tlearn: 0.0206833\ttotal: 8.62s\tremaining: 1.12s\n",
      "885:\tlearn: 0.0206508\ttotal: 8.63s\tremaining: 1.11s\n",
      "886:\tlearn: 0.0206091\ttotal: 8.64s\tremaining: 1.1s\n",
      "887:\tlearn: 0.0205604\ttotal: 8.65s\tremaining: 1.09s\n",
      "888:\tlearn: 0.0205426\ttotal: 8.66s\tremaining: 1.08s\n",
      "889:\tlearn: 0.0205198\ttotal: 8.67s\tremaining: 1.07s\n",
      "890:\tlearn: 0.0204874\ttotal: 8.68s\tremaining: 1.06s\n",
      "891:\tlearn: 0.0204715\ttotal: 8.69s\tremaining: 1.05s\n",
      "892:\tlearn: 0.0204214\ttotal: 8.7s\tremaining: 1.04s\n",
      "893:\tlearn: 0.0203769\ttotal: 8.7s\tremaining: 1.03s\n",
      "894:\tlearn: 0.0203519\ttotal: 8.71s\tremaining: 1.02s\n",
      "895:\tlearn: 0.0203178\ttotal: 8.72s\tremaining: 1.01s\n",
      "896:\tlearn: 0.0202949\ttotal: 8.73s\tremaining: 1s\n",
      "897:\tlearn: 0.0202826\ttotal: 8.74s\tremaining: 993ms\n",
      "898:\tlearn: 0.0202268\ttotal: 8.75s\tremaining: 983ms\n",
      "899:\tlearn: 0.0201605\ttotal: 8.76s\tremaining: 974ms\n",
      "900:\tlearn: 0.0201451\ttotal: 8.77s\tremaining: 964ms\n",
      "901:\tlearn: 0.0201047\ttotal: 8.78s\tremaining: 954ms\n",
      "902:\tlearn: 0.0200716\ttotal: 8.79s\tremaining: 944ms\n",
      "903:\tlearn: 0.0200068\ttotal: 8.8s\tremaining: 934ms\n",
      "904:\tlearn: 0.0199617\ttotal: 8.81s\tremaining: 924ms\n",
      "905:\tlearn: 0.0199178\ttotal: 8.81s\tremaining: 915ms\n",
      "906:\tlearn: 0.0198876\ttotal: 8.82s\tremaining: 905ms\n",
      "907:\tlearn: 0.0198726\ttotal: 8.83s\tremaining: 895ms\n",
      "908:\tlearn: 0.0198526\ttotal: 8.84s\tremaining: 885ms\n",
      "909:\tlearn: 0.0198084\ttotal: 8.85s\tremaining: 875ms\n",
      "910:\tlearn: 0.0197788\ttotal: 8.86s\tremaining: 866ms\n",
      "911:\tlearn: 0.0197457\ttotal: 8.87s\tremaining: 856ms\n",
      "912:\tlearn: 0.0197059\ttotal: 8.88s\tremaining: 846ms\n",
      "913:\tlearn: 0.0196851\ttotal: 8.89s\tremaining: 836ms\n",
      "914:\tlearn: 0.0196679\ttotal: 8.89s\tremaining: 826ms\n",
      "915:\tlearn: 0.0196568\ttotal: 8.9s\tremaining: 817ms\n",
      "916:\tlearn: 0.0196029\ttotal: 8.91s\tremaining: 807ms\n",
      "917:\tlearn: 0.0195853\ttotal: 8.92s\tremaining: 797ms\n",
      "918:\tlearn: 0.0195517\ttotal: 8.93s\tremaining: 787ms\n",
      "919:\tlearn: 0.0195333\ttotal: 8.95s\tremaining: 778ms\n",
      "920:\tlearn: 0.0194899\ttotal: 8.95s\tremaining: 768ms\n",
      "921:\tlearn: 0.0194705\ttotal: 8.96s\tremaining: 758ms\n",
      "922:\tlearn: 0.0194419\ttotal: 8.97s\tremaining: 749ms\n",
      "923:\tlearn: 0.0194276\ttotal: 8.98s\tremaining: 739ms\n",
      "924:\tlearn: 0.0194180\ttotal: 8.99s\tremaining: 729ms\n",
      "925:\tlearn: 0.0194009\ttotal: 9s\tremaining: 719ms\n",
      "926:\tlearn: 0.0193741\ttotal: 9.01s\tremaining: 709ms\n",
      "927:\tlearn: 0.0193459\ttotal: 9.02s\tremaining: 700ms\n",
      "928:\tlearn: 0.0193197\ttotal: 9.03s\tremaining: 690ms\n",
      "929:\tlearn: 0.0192916\ttotal: 9.04s\tremaining: 680ms\n",
      "930:\tlearn: 0.0192620\ttotal: 9.04s\tremaining: 670ms\n",
      "931:\tlearn: 0.0192344\ttotal: 9.05s\tremaining: 661ms\n",
      "932:\tlearn: 0.0192210\ttotal: 9.06s\tremaining: 651ms\n",
      "933:\tlearn: 0.0191968\ttotal: 9.07s\tremaining: 641ms\n",
      "934:\tlearn: 0.0191732\ttotal: 9.08s\tremaining: 631ms\n",
      "935:\tlearn: 0.0191383\ttotal: 9.09s\tremaining: 622ms\n",
      "936:\tlearn: 0.0191172\ttotal: 9.1s\tremaining: 612ms\n",
      "937:\tlearn: 0.0191021\ttotal: 9.11s\tremaining: 602ms\n",
      "938:\tlearn: 0.0190742\ttotal: 9.12s\tremaining: 592ms\n",
      "939:\tlearn: 0.0190423\ttotal: 9.13s\tremaining: 583ms\n",
      "940:\tlearn: 0.0190152\ttotal: 9.14s\tremaining: 573ms\n",
      "941:\tlearn: 0.0189982\ttotal: 9.15s\tremaining: 563ms\n",
      "942:\tlearn: 0.0189769\ttotal: 9.16s\tremaining: 554ms\n",
      "943:\tlearn: 0.0189529\ttotal: 9.17s\tremaining: 544ms\n",
      "944:\tlearn: 0.0189409\ttotal: 9.18s\tremaining: 534ms\n",
      "945:\tlearn: 0.0189107\ttotal: 9.19s\tremaining: 524ms\n",
      "946:\tlearn: 0.0188794\ttotal: 9.19s\tremaining: 515ms\n",
      "947:\tlearn: 0.0188611\ttotal: 9.2s\tremaining: 505ms\n",
      "948:\tlearn: 0.0188566\ttotal: 9.21s\tremaining: 495ms\n",
      "949:\tlearn: 0.0188385\ttotal: 9.22s\tremaining: 485ms\n",
      "950:\tlearn: 0.0188217\ttotal: 9.23s\tremaining: 476ms\n",
      "951:\tlearn: 0.0187787\ttotal: 9.24s\tremaining: 466ms\n",
      "952:\tlearn: 0.0187493\ttotal: 9.25s\tremaining: 456ms\n",
      "953:\tlearn: 0.0187061\ttotal: 9.26s\tremaining: 446ms\n",
      "954:\tlearn: 0.0186721\ttotal: 9.27s\tremaining: 437ms\n",
      "955:\tlearn: 0.0186504\ttotal: 9.28s\tremaining: 427ms\n",
      "956:\tlearn: 0.0186239\ttotal: 9.29s\tremaining: 417ms\n",
      "957:\tlearn: 0.0186108\ttotal: 9.29s\tremaining: 408ms\n",
      "958:\tlearn: 0.0185833\ttotal: 9.3s\tremaining: 398ms\n",
      "959:\tlearn: 0.0185752\ttotal: 9.31s\tremaining: 388ms\n",
      "960:\tlearn: 0.0185476\ttotal: 9.33s\tremaining: 379ms\n",
      "961:\tlearn: 0.0185296\ttotal: 9.34s\tremaining: 369ms\n",
      "962:\tlearn: 0.0185027\ttotal: 9.35s\tremaining: 359ms\n",
      "963:\tlearn: 0.0184879\ttotal: 9.35s\tremaining: 349ms\n",
      "964:\tlearn: 0.0184621\ttotal: 9.36s\tremaining: 340ms\n",
      "965:\tlearn: 0.0184448\ttotal: 9.37s\tremaining: 330ms\n",
      "966:\tlearn: 0.0183968\ttotal: 9.38s\tremaining: 320ms\n",
      "967:\tlearn: 0.0183654\ttotal: 9.39s\tremaining: 310ms\n",
      "968:\tlearn: 0.0183471\ttotal: 9.4s\tremaining: 301ms\n",
      "969:\tlearn: 0.0183317\ttotal: 9.41s\tremaining: 291ms\n",
      "970:\tlearn: 0.0183047\ttotal: 9.41s\tremaining: 281ms\n",
      "971:\tlearn: 0.0182713\ttotal: 9.42s\tremaining: 271ms\n",
      "972:\tlearn: 0.0182555\ttotal: 9.43s\tremaining: 262ms\n",
      "973:\tlearn: 0.0182219\ttotal: 9.44s\tremaining: 252ms\n",
      "974:\tlearn: 0.0181957\ttotal: 9.45s\tremaining: 242ms\n",
      "975:\tlearn: 0.0181682\ttotal: 9.46s\tremaining: 233ms\n",
      "976:\tlearn: 0.0181430\ttotal: 9.47s\tremaining: 223ms\n",
      "977:\tlearn: 0.0181102\ttotal: 9.48s\tremaining: 213ms\n",
      "978:\tlearn: 0.0180882\ttotal: 9.49s\tremaining: 204ms\n",
      "979:\tlearn: 0.0180644\ttotal: 9.5s\tremaining: 194ms\n",
      "980:\tlearn: 0.0180267\ttotal: 9.51s\tremaining: 184ms\n",
      "981:\tlearn: 0.0180045\ttotal: 9.52s\tremaining: 174ms\n",
      "982:\tlearn: 0.0179684\ttotal: 9.53s\tremaining: 165ms\n",
      "983:\tlearn: 0.0179240\ttotal: 9.54s\tremaining: 155ms\n",
      "984:\tlearn: 0.0179075\ttotal: 9.55s\tremaining: 145ms\n",
      "985:\tlearn: 0.0178673\ttotal: 9.56s\tremaining: 136ms\n",
      "986:\tlearn: 0.0178291\ttotal: 9.57s\tremaining: 126ms\n",
      "987:\tlearn: 0.0178033\ttotal: 9.58s\tremaining: 116ms\n",
      "988:\tlearn: 0.0177739\ttotal: 9.59s\tremaining: 107ms\n",
      "989:\tlearn: 0.0177414\ttotal: 9.6s\tremaining: 96.9ms\n",
      "990:\tlearn: 0.0177203\ttotal: 9.6s\tremaining: 87.2ms\n",
      "991:\tlearn: 0.0176939\ttotal: 9.61s\tremaining: 77.5ms\n",
      "992:\tlearn: 0.0176779\ttotal: 9.62s\tremaining: 67.8ms\n",
      "993:\tlearn: 0.0176485\ttotal: 9.63s\tremaining: 58.1ms\n",
      "994:\tlearn: 0.0176265\ttotal: 9.64s\tremaining: 48.4ms\n",
      "995:\tlearn: 0.0175993\ttotal: 9.65s\tremaining: 38.8ms\n",
      "996:\tlearn: 0.0175884\ttotal: 9.66s\tremaining: 29.1ms\n",
      "997:\tlearn: 0.0175534\ttotal: 9.67s\tremaining: 19.4ms\n",
      "998:\tlearn: 0.0175327\ttotal: 9.68s\tremaining: 9.69ms\n",
      "999:\tlearn: 0.0175050\ttotal: 9.69s\tremaining: 0us\n"
     ]
    }
   ],
   "source": [
    "M9=CatBoostClassifier()\n",
    "M9.fit(X_train,y_train)\n",
    "P9=M9.predict(X_test)"
   ]
  },
  {
   "cell_type": "code",
   "execution_count": 58,
   "id": "6bcb8219",
   "metadata": {},
   "outputs": [
    {
     "name": "stdout",
     "output_type": "stream",
     "text": [
      "classification Report: \n",
      "               precision    recall  f1-score   support\n",
      "\n",
      "           0       0.96      0.95      0.95       151\n",
      "           1       0.87      0.95      0.91       146\n",
      "           2       0.91      0.85      0.88       148\n",
      "           3       0.94      0.94      0.94       155\n",
      "\n",
      "    accuracy                           0.92       600\n",
      "   macro avg       0.92      0.92      0.92       600\n",
      "weighted avg       0.92      0.92      0.92       600\n",
      "\n",
      "\n",
      "\n",
      "Confusion Matrix: \n",
      " [[143   8   0   0]\n",
      " [  6 138   2   0]\n",
      " [  0  12 126  10]\n",
      " [  0   0  10 145]]\n",
      "\n",
      "\n",
      "ACCURACY: 0.92\n",
      "\n",
      "\n",
      "Roc Value: 0.9944636336138535\n"
     ]
    }
   ],
   "source": [
    "print('classification Report:','\\n',classification_report(y_test,P9))\n",
    "print('\\n')\n",
    "print('Confusion Matrix:','\\n',confusion_matrix(y_test,P9))\n",
    "print('\\n')\n",
    "print('ACCURACY:',accuracy_score(y_test,P9))\n",
    "print('\\n')\n",
    "print('Roc Value:',roc_auc_score(y_test,M9.predict_proba(X_test),multi_class='ovr'))"
   ]
  },
  {
   "cell_type": "markdown",
   "id": "3524fedd",
   "metadata": {},
   "source": [
    "### Light GBM"
   ]
  },
  {
   "cell_type": "code",
   "execution_count": 59,
   "id": "07c68a49",
   "metadata": {},
   "outputs": [],
   "source": [
    "from lightgbm import LGBMClassifier"
   ]
  },
  {
   "cell_type": "code",
   "execution_count": 60,
   "id": "8435552f",
   "metadata": {},
   "outputs": [
    {
     "name": "stdout",
     "output_type": "stream",
     "text": [
      "classification Report: \n",
      "               precision    recall  f1-score   support\n",
      "\n",
      "           0       0.95      0.93      0.94       151\n",
      "           1       0.84      0.91      0.88       146\n",
      "           2       0.87      0.82      0.85       148\n",
      "           3       0.93      0.92      0.92       155\n",
      "\n",
      "    accuracy                           0.90       600\n",
      "   macro avg       0.90      0.90      0.90       600\n",
      "weighted avg       0.90      0.90      0.90       600\n",
      "\n",
      "\n",
      "\n",
      "Confusion Matrix: \n",
      " [[141  10   0   0]\n",
      " [  8 133   5   0]\n",
      " [  0  15 122  11]\n",
      " [  0   0  13 142]]\n",
      "\n",
      "\n",
      "ACCURACY: 0.8966666666666666\n",
      "\n",
      "\n",
      "Roc Value: 0.9876771050555494\n"
     ]
    }
   ],
   "source": [
    "M10=LGBMClassifier()\n",
    "M10.fit(X_train,y_train)\n",
    "P10=M10.predict(X_test)\n",
    "print('classification Report:','\\n',classification_report(y_test,P10))\n",
    "print('\\n')\n",
    "print('Confusion Matrix:','\\n',confusion_matrix(y_test,P10))\n",
    "print('\\n')\n",
    "print('ACCURACY:',accuracy_score(y_test,P10))\n",
    "print('\\n')\n",
    "print('Roc Value:',roc_auc_score(y_test,M10.predict_proba(X_test),multi_class='ovr'))"
   ]
  },
  {
   "cell_type": "markdown",
   "id": "660c5867",
   "metadata": {},
   "source": [
    "### Bagging"
   ]
  },
  {
   "cell_type": "code",
   "execution_count": 61,
   "id": "507703ad",
   "metadata": {},
   "outputs": [],
   "source": [
    "from sklearn.ensemble import BaggingClassifier"
   ]
  },
  {
   "cell_type": "code",
   "execution_count": 63,
   "id": "6de71646",
   "metadata": {},
   "outputs": [
    {
     "name": "stdout",
     "output_type": "stream",
     "text": [
      "classification Report: \n",
      "               precision    recall  f1-score   support\n",
      "\n",
      "           0       0.95      0.93      0.94       151\n",
      "           1       0.85      0.92      0.89       146\n",
      "           2       0.89      0.85      0.87       148\n",
      "           3       0.94      0.92      0.93       155\n",
      "\n",
      "    accuracy                           0.91       600\n",
      "   macro avg       0.91      0.91      0.91       600\n",
      "weighted avg       0.91      0.91      0.91       600\n",
      "\n",
      "\n",
      "\n",
      "Confusion Matrix: \n",
      " [[140  11   0   0]\n",
      " [  8 135   3   0]\n",
      " [  0  13 126   9]\n",
      " [  0   0  12 143]]\n",
      "\n",
      "\n",
      "ACCURACY: 0.9066666666666666\n",
      "\n",
      "\n",
      "Roc Value: 0.9890784814774075\n"
     ]
    }
   ],
   "source": [
    "M11=BaggingClassifier(base_estimator=MLPClassifier())\n",
    "M11.fit(X_train,y_train)\n",
    "P11=M11.predict(X_test)\n",
    "print('classification Report:','\\n',classification_report(y_test,P11))\n",
    "print('\\n')\n",
    "print('Confusion Matrix:','\\n',confusion_matrix(y_test,P11))\n",
    "print('\\n')\n",
    "print('ACCURACY:',accuracy_score(y_test,P11))\n",
    "print('\\n')\n",
    "print('Roc Value:',roc_auc_score(y_test,M11.predict_proba(X_test),multi_class='ovr'))"
   ]
  },
  {
   "cell_type": "markdown",
   "id": "e9f64f1a",
   "metadata": {},
   "source": [
    "## All at one Place"
   ]
  },
  {
   "cell_type": "code",
   "execution_count": 64,
   "id": "dafc6505",
   "metadata": {},
   "outputs": [],
   "source": [
    "Name=['Random Forest Classifier','Decision Tree','Naive Bayes classifier', 'KNN', \n",
    "      'GBBoosting','Histogram Boosting Classifier','XGB Boosting','Light GBM',\n",
    "      'CAT Boosting','Neural_Network','Bagging_classifier']\n",
    "clfs= [RandomForestClassifier(),DecisionTreeClassifier(),GaussianNB(),KNeighborsClassifier(n_neighbors=44),\n",
    "      GradientBoostingClassifier(n_estimators=100, learning_rate=1.0, max_depth=1),\n",
    "       HistGradientBoostingClassifier(),XGBClassifier(),LGBMClassifier(),MLPClassifier(),\n",
    "       CatBoostClassifier(),BaggingClassifier(base_estimator=MLPClassifier())]"
   ]
  },
  {
   "cell_type": "code",
   "execution_count": 65,
   "id": "4e8e5cf3",
   "metadata": {
    "collapsed": true
   },
   "outputs": [
    {
     "name": "stdout",
     "output_type": "stream",
     "text": [
      "Learning rate set to 0.080496\n",
      "0:\tlearn: 1.2687358\ttotal: 19.4ms\tremaining: 19.3s\n",
      "1:\tlearn: 1.1782528\ttotal: 33.8ms\tremaining: 16.9s\n",
      "2:\tlearn: 1.1082493\ttotal: 45.1ms\tremaining: 15s\n",
      "3:\tlearn: 1.0461180\ttotal: 58.9ms\tremaining: 14.7s\n",
      "4:\tlearn: 0.9885161\ttotal: 71.6ms\tremaining: 14.2s\n",
      "5:\tlearn: 0.9280125\ttotal: 86.5ms\tremaining: 14.3s\n",
      "6:\tlearn: 0.8879560\ttotal: 102ms\tremaining: 14.4s\n",
      "7:\tlearn: 0.8475734\ttotal: 117ms\tremaining: 14.5s\n",
      "8:\tlearn: 0.8062035\ttotal: 131ms\tremaining: 14.5s\n",
      "9:\tlearn: 0.7767707\ttotal: 143ms\tremaining: 14.2s\n",
      "10:\tlearn: 0.7429684\ttotal: 153ms\tremaining: 13.8s\n",
      "11:\tlearn: 0.7160753\ttotal: 166ms\tremaining: 13.6s\n",
      "12:\tlearn: 0.6880342\ttotal: 180ms\tremaining: 13.7s\n",
      "13:\tlearn: 0.6566234\ttotal: 196ms\tremaining: 13.8s\n",
      "14:\tlearn: 0.6311161\ttotal: 208ms\tremaining: 13.7s\n",
      "15:\tlearn: 0.6078354\ttotal: 219ms\tremaining: 13.5s\n",
      "16:\tlearn: 0.5895613\ttotal: 231ms\tremaining: 13.4s\n",
      "17:\tlearn: 0.5716345\ttotal: 248ms\tremaining: 13.5s\n",
      "18:\tlearn: 0.5555930\ttotal: 263ms\tremaining: 13.6s\n",
      "19:\tlearn: 0.5413950\ttotal: 277ms\tremaining: 13.5s\n",
      "20:\tlearn: 0.5256944\ttotal: 291ms\tremaining: 13.6s\n",
      "21:\tlearn: 0.5131561\ttotal: 301ms\tremaining: 13.4s\n",
      "22:\tlearn: 0.4980344\ttotal: 313ms\tremaining: 13.3s\n",
      "23:\tlearn: 0.4832384\ttotal: 326ms\tremaining: 13.3s\n",
      "24:\tlearn: 0.4729563\ttotal: 340ms\tremaining: 13.3s\n",
      "25:\tlearn: 0.4629865\ttotal: 353ms\tremaining: 13.2s\n",
      "26:\tlearn: 0.4504366\ttotal: 366ms\tremaining: 13.2s\n",
      "27:\tlearn: 0.4442920\ttotal: 377ms\tremaining: 13.1s\n",
      "28:\tlearn: 0.4375210\ttotal: 394ms\tremaining: 13.2s\n",
      "29:\tlearn: 0.4305164\ttotal: 408ms\tremaining: 13.2s\n",
      "30:\tlearn: 0.4212010\ttotal: 425ms\tremaining: 13.3s\n",
      "31:\tlearn: 0.4129932\ttotal: 439ms\tremaining: 13.3s\n",
      "32:\tlearn: 0.4041987\ttotal: 455ms\tremaining: 13.3s\n",
      "33:\tlearn: 0.3986308\ttotal: 469ms\tremaining: 13.3s\n",
      "34:\tlearn: 0.3925007\ttotal: 481ms\tremaining: 13.3s\n",
      "35:\tlearn: 0.3824371\ttotal: 492ms\tremaining: 13.2s\n",
      "36:\tlearn: 0.3750425\ttotal: 506ms\tremaining: 13.2s\n",
      "37:\tlearn: 0.3674168\ttotal: 521ms\tremaining: 13.2s\n",
      "38:\tlearn: 0.3627665\ttotal: 536ms\tremaining: 13.2s\n",
      "39:\tlearn: 0.3571027\ttotal: 552ms\tremaining: 13.2s\n",
      "40:\tlearn: 0.3525102\ttotal: 563ms\tremaining: 13.2s\n",
      "41:\tlearn: 0.3469309\ttotal: 575ms\tremaining: 13.1s\n",
      "42:\tlearn: 0.3402603\ttotal: 585ms\tremaining: 13s\n",
      "43:\tlearn: 0.3366143\ttotal: 595ms\tremaining: 12.9s\n",
      "44:\tlearn: 0.3334485\ttotal: 605ms\tremaining: 12.8s\n",
      "45:\tlearn: 0.3295156\ttotal: 618ms\tremaining: 12.8s\n",
      "46:\tlearn: 0.3232919\ttotal: 629ms\tremaining: 12.8s\n",
      "47:\tlearn: 0.3182733\ttotal: 638ms\tremaining: 12.7s\n",
      "48:\tlearn: 0.3142068\ttotal: 648ms\tremaining: 12.6s\n",
      "49:\tlearn: 0.3093041\ttotal: 657ms\tremaining: 12.5s\n",
      "50:\tlearn: 0.3042148\ttotal: 667ms\tremaining: 12.4s\n",
      "51:\tlearn: 0.3001861\ttotal: 676ms\tremaining: 12.3s\n",
      "52:\tlearn: 0.2977847\ttotal: 685ms\tremaining: 12.2s\n",
      "53:\tlearn: 0.2941342\ttotal: 694ms\tremaining: 12.2s\n",
      "54:\tlearn: 0.2915463\ttotal: 703ms\tremaining: 12.1s\n",
      "55:\tlearn: 0.2877077\ttotal: 715ms\tremaining: 12s\n",
      "56:\tlearn: 0.2845792\ttotal: 729ms\tremaining: 12.1s\n",
      "57:\tlearn: 0.2800931\ttotal: 742ms\tremaining: 12.1s\n",
      "58:\tlearn: 0.2763139\ttotal: 752ms\tremaining: 12s\n",
      "59:\tlearn: 0.2739432\ttotal: 764ms\tremaining: 12s\n",
      "60:\tlearn: 0.2714756\ttotal: 781ms\tremaining: 12s\n",
      "61:\tlearn: 0.2687898\ttotal: 797ms\tremaining: 12.1s\n",
      "62:\tlearn: 0.2663662\ttotal: 811ms\tremaining: 12.1s\n",
      "63:\tlearn: 0.2633496\ttotal: 825ms\tremaining: 12.1s\n",
      "64:\tlearn: 0.2610566\ttotal: 837ms\tremaining: 12s\n",
      "65:\tlearn: 0.2585414\ttotal: 846ms\tremaining: 12s\n",
      "66:\tlearn: 0.2565832\ttotal: 861ms\tremaining: 12s\n",
      "67:\tlearn: 0.2551289\ttotal: 874ms\tremaining: 12s\n",
      "68:\tlearn: 0.2507755\ttotal: 886ms\tremaining: 11.9s\n",
      "69:\tlearn: 0.2481581\ttotal: 896ms\tremaining: 11.9s\n",
      "70:\tlearn: 0.2465471\ttotal: 909ms\tremaining: 11.9s\n",
      "71:\tlearn: 0.2446203\ttotal: 923ms\tremaining: 11.9s\n",
      "72:\tlearn: 0.2433544\ttotal: 936ms\tremaining: 11.9s\n",
      "73:\tlearn: 0.2417223\ttotal: 948ms\tremaining: 11.9s\n",
      "74:\tlearn: 0.2403020\ttotal: 960ms\tremaining: 11.8s\n",
      "75:\tlearn: 0.2376773\ttotal: 975ms\tremaining: 11.8s\n",
      "76:\tlearn: 0.2357073\ttotal: 989ms\tremaining: 11.9s\n",
      "77:\tlearn: 0.2342426\ttotal: 1s\tremaining: 11.9s\n",
      "78:\tlearn: 0.2328234\ttotal: 1.01s\tremaining: 11.8s\n",
      "79:\tlearn: 0.2314856\ttotal: 1.02s\tremaining: 11.8s\n",
      "80:\tlearn: 0.2304906\ttotal: 1.04s\tremaining: 11.8s\n",
      "81:\tlearn: 0.2290637\ttotal: 1.05s\tremaining: 11.8s\n",
      "82:\tlearn: 0.2269441\ttotal: 1.06s\tremaining: 11.7s\n",
      "83:\tlearn: 0.2258437\ttotal: 1.07s\tremaining: 11.7s\n",
      "84:\tlearn: 0.2239932\ttotal: 1.09s\tremaining: 11.7s\n",
      "85:\tlearn: 0.2218611\ttotal: 1.1s\tremaining: 11.7s\n",
      "86:\tlearn: 0.2205217\ttotal: 1.12s\tremaining: 11.7s\n",
      "87:\tlearn: 0.2190299\ttotal: 1.13s\tremaining: 11.7s\n",
      "88:\tlearn: 0.2172785\ttotal: 1.14s\tremaining: 11.7s\n",
      "89:\tlearn: 0.2155172\ttotal: 1.16s\tremaining: 11.7s\n",
      "90:\tlearn: 0.2134321\ttotal: 1.17s\tremaining: 11.7s\n",
      "91:\tlearn: 0.2102354\ttotal: 1.18s\tremaining: 11.7s\n",
      "92:\tlearn: 0.2086986\ttotal: 1.19s\tremaining: 11.6s\n",
      "93:\tlearn: 0.2065640\ttotal: 1.2s\tremaining: 11.6s\n",
      "94:\tlearn: 0.2058165\ttotal: 1.21s\tremaining: 11.5s\n",
      "95:\tlearn: 0.2043261\ttotal: 1.22s\tremaining: 11.5s\n",
      "96:\tlearn: 0.2033556\ttotal: 1.23s\tremaining: 11.5s\n",
      "97:\tlearn: 0.2021362\ttotal: 1.25s\tremaining: 11.5s\n",
      "98:\tlearn: 0.2007455\ttotal: 1.26s\tremaining: 11.4s\n",
      "99:\tlearn: 0.1988421\ttotal: 1.27s\tremaining: 11.4s\n",
      "100:\tlearn: 0.1975726\ttotal: 1.28s\tremaining: 11.4s\n",
      "101:\tlearn: 0.1955307\ttotal: 1.3s\tremaining: 11.4s\n",
      "102:\tlearn: 0.1947761\ttotal: 1.31s\tremaining: 11.4s\n",
      "103:\tlearn: 0.1928725\ttotal: 1.33s\tremaining: 11.4s\n",
      "104:\tlearn: 0.1912437\ttotal: 1.34s\tremaining: 11.4s\n",
      "105:\tlearn: 0.1900985\ttotal: 1.35s\tremaining: 11.4s\n",
      "106:\tlearn: 0.1882955\ttotal: 1.36s\tremaining: 11.4s\n",
      "107:\tlearn: 0.1862423\ttotal: 1.38s\tremaining: 11.4s\n",
      "108:\tlearn: 0.1853052\ttotal: 1.39s\tremaining: 11.4s\n",
      "109:\tlearn: 0.1828929\ttotal: 1.41s\tremaining: 11.4s\n",
      "110:\tlearn: 0.1812540\ttotal: 1.43s\tremaining: 11.4s\n",
      "111:\tlearn: 0.1789160\ttotal: 1.44s\tremaining: 11.4s\n",
      "112:\tlearn: 0.1776598\ttotal: 1.46s\tremaining: 11.4s\n",
      "113:\tlearn: 0.1757525\ttotal: 1.47s\tremaining: 11.4s\n",
      "114:\tlearn: 0.1755428\ttotal: 1.48s\tremaining: 11.4s\n",
      "115:\tlearn: 0.1739785\ttotal: 1.49s\tremaining: 11.4s\n",
      "116:\tlearn: 0.1733388\ttotal: 1.51s\tremaining: 11.4s\n",
      "117:\tlearn: 0.1717015\ttotal: 1.52s\tremaining: 11.4s\n",
      "118:\tlearn: 0.1704010\ttotal: 1.53s\tremaining: 11.4s\n",
      "119:\tlearn: 0.1692501\ttotal: 1.55s\tremaining: 11.4s\n",
      "120:\tlearn: 0.1679684\ttotal: 1.56s\tremaining: 11.3s\n",
      "121:\tlearn: 0.1672043\ttotal: 1.57s\tremaining: 11.3s\n",
      "122:\tlearn: 0.1657507\ttotal: 1.59s\tremaining: 11.3s\n",
      "123:\tlearn: 0.1653216\ttotal: 1.6s\tremaining: 11.3s\n",
      "124:\tlearn: 0.1642906\ttotal: 1.61s\tremaining: 11.3s\n",
      "125:\tlearn: 0.1638020\ttotal: 1.62s\tremaining: 11.3s\n",
      "126:\tlearn: 0.1633454\ttotal: 1.63s\tremaining: 11.2s\n",
      "127:\tlearn: 0.1618495\ttotal: 1.64s\tremaining: 11.2s\n",
      "128:\tlearn: 0.1606268\ttotal: 1.65s\tremaining: 11.1s\n",
      "129:\tlearn: 0.1596819\ttotal: 1.66s\tremaining: 11.1s\n",
      "130:\tlearn: 0.1584251\ttotal: 1.67s\tremaining: 11.1s\n",
      "131:\tlearn: 0.1569873\ttotal: 1.68s\tremaining: 11s\n",
      "132:\tlearn: 0.1565435\ttotal: 1.69s\tremaining: 11s\n",
      "133:\tlearn: 0.1556669\ttotal: 1.7s\tremaining: 11s\n",
      "134:\tlearn: 0.1550244\ttotal: 1.71s\tremaining: 10.9s\n",
      "135:\tlearn: 0.1539665\ttotal: 1.71s\tremaining: 10.9s\n",
      "136:\tlearn: 0.1534198\ttotal: 1.72s\tremaining: 10.9s\n",
      "137:\tlearn: 0.1523789\ttotal: 1.73s\tremaining: 10.8s\n",
      "138:\tlearn: 0.1517703\ttotal: 1.74s\tremaining: 10.8s\n",
      "139:\tlearn: 0.1511751\ttotal: 1.75s\tremaining: 10.8s\n",
      "140:\tlearn: 0.1499424\ttotal: 1.76s\tremaining: 10.7s\n",
      "141:\tlearn: 0.1492588\ttotal: 1.77s\tremaining: 10.7s\n",
      "142:\tlearn: 0.1488709\ttotal: 1.78s\tremaining: 10.7s\n",
      "143:\tlearn: 0.1481381\ttotal: 1.79s\tremaining: 10.6s\n",
      "144:\tlearn: 0.1472086\ttotal: 1.8s\tremaining: 10.6s\n",
      "145:\tlearn: 0.1464783\ttotal: 1.81s\tremaining: 10.6s\n",
      "146:\tlearn: 0.1456642\ttotal: 1.81s\tremaining: 10.5s\n",
      "147:\tlearn: 0.1442254\ttotal: 1.82s\tremaining: 10.5s\n",
      "148:\tlearn: 0.1433902\ttotal: 1.83s\tremaining: 10.5s\n",
      "149:\tlearn: 0.1422900\ttotal: 1.84s\tremaining: 10.4s\n",
      "150:\tlearn: 0.1410720\ttotal: 1.85s\tremaining: 10.4s\n",
      "151:\tlearn: 0.1403133\ttotal: 1.86s\tremaining: 10.4s\n",
      "152:\tlearn: 0.1396892\ttotal: 1.87s\tremaining: 10.4s\n",
      "153:\tlearn: 0.1390422\ttotal: 1.88s\tremaining: 10.3s\n",
      "154:\tlearn: 0.1385712\ttotal: 1.89s\tremaining: 10.3s\n",
      "155:\tlearn: 0.1382056\ttotal: 1.9s\tremaining: 10.3s\n",
      "156:\tlearn: 0.1378693\ttotal: 1.91s\tremaining: 10.3s\n",
      "157:\tlearn: 0.1364192\ttotal: 1.92s\tremaining: 10.3s\n",
      "158:\tlearn: 0.1357064\ttotal: 1.93s\tremaining: 10.2s\n",
      "159:\tlearn: 0.1349489\ttotal: 1.94s\tremaining: 10.2s\n",
      "160:\tlearn: 0.1338516\ttotal: 1.95s\tremaining: 10.2s\n",
      "161:\tlearn: 0.1323583\ttotal: 1.96s\tremaining: 10.1s\n",
      "162:\tlearn: 0.1312280\ttotal: 1.97s\tremaining: 10.1s\n",
      "163:\tlearn: 0.1301835\ttotal: 1.98s\tremaining: 10.1s\n",
      "164:\tlearn: 0.1293114\ttotal: 1.99s\tremaining: 10.1s\n",
      "165:\tlearn: 0.1280178\ttotal: 2s\tremaining: 10s\n",
      "166:\tlearn: 0.1274231\ttotal: 2.01s\tremaining: 10s\n",
      "167:\tlearn: 0.1268928\ttotal: 2.02s\tremaining: 9.99s\n",
      "168:\tlearn: 0.1261336\ttotal: 2.02s\tremaining: 9.96s\n",
      "169:\tlearn: 0.1255219\ttotal: 2.03s\tremaining: 9.93s\n",
      "170:\tlearn: 0.1249770\ttotal: 2.04s\tremaining: 9.9s\n",
      "171:\tlearn: 0.1243764\ttotal: 2.05s\tremaining: 9.88s\n",
      "172:\tlearn: 0.1238435\ttotal: 2.06s\tremaining: 9.85s\n",
      "173:\tlearn: 0.1232321\ttotal: 2.07s\tremaining: 9.82s\n",
      "174:\tlearn: 0.1227476\ttotal: 2.08s\tremaining: 9.8s\n",
      "175:\tlearn: 0.1224459\ttotal: 2.09s\tremaining: 9.77s\n",
      "176:\tlearn: 0.1220542\ttotal: 2.1s\tremaining: 9.75s\n",
      "177:\tlearn: 0.1214395\ttotal: 2.1s\tremaining: 9.72s\n",
      "178:\tlearn: 0.1207470\ttotal: 2.12s\tremaining: 9.7s\n",
      "179:\tlearn: 0.1204843\ttotal: 2.12s\tremaining: 9.68s\n",
      "180:\tlearn: 0.1199204\ttotal: 2.13s\tremaining: 9.65s\n",
      "181:\tlearn: 0.1193016\ttotal: 2.14s\tremaining: 9.63s\n",
      "182:\tlearn: 0.1188022\ttotal: 2.15s\tremaining: 9.6s\n",
      "183:\tlearn: 0.1183504\ttotal: 2.16s\tremaining: 9.58s\n",
      "184:\tlearn: 0.1178247\ttotal: 2.17s\tremaining: 9.55s\n",
      "185:\tlearn: 0.1167531\ttotal: 2.18s\tremaining: 9.53s\n",
      "186:\tlearn: 0.1159406\ttotal: 2.19s\tremaining: 9.51s\n",
      "187:\tlearn: 0.1148955\ttotal: 2.2s\tremaining: 9.5s\n",
      "188:\tlearn: 0.1140508\ttotal: 2.21s\tremaining: 9.48s\n",
      "189:\tlearn: 0.1135080\ttotal: 2.22s\tremaining: 9.46s\n",
      "190:\tlearn: 0.1128984\ttotal: 2.23s\tremaining: 9.43s\n",
      "191:\tlearn: 0.1121335\ttotal: 2.23s\tremaining: 9.41s\n",
      "192:\tlearn: 0.1117104\ttotal: 2.25s\tremaining: 9.39s\n",
      "193:\tlearn: 0.1111619\ttotal: 2.25s\tremaining: 9.36s\n",
      "194:\tlearn: 0.1106207\ttotal: 2.26s\tremaining: 9.34s\n",
      "195:\tlearn: 0.1103041\ttotal: 2.27s\tremaining: 9.32s\n",
      "196:\tlearn: 0.1096579\ttotal: 2.28s\tremaining: 9.3s\n",
      "197:\tlearn: 0.1094586\ttotal: 2.29s\tremaining: 9.28s\n",
      "198:\tlearn: 0.1091514\ttotal: 2.3s\tremaining: 9.27s\n",
      "199:\tlearn: 0.1090293\ttotal: 2.31s\tremaining: 9.25s\n",
      "200:\tlearn: 0.1085053\ttotal: 2.32s\tremaining: 9.23s\n",
      "201:\tlearn: 0.1079068\ttotal: 2.33s\tremaining: 9.21s\n",
      "202:\tlearn: 0.1078338\ttotal: 2.34s\tremaining: 9.2s\n",
      "203:\tlearn: 0.1069355\ttotal: 2.35s\tremaining: 9.17s\n",
      "204:\tlearn: 0.1066359\ttotal: 2.36s\tremaining: 9.15s\n",
      "205:\tlearn: 0.1061097\ttotal: 2.37s\tremaining: 9.13s\n",
      "206:\tlearn: 0.1056351\ttotal: 2.38s\tremaining: 9.11s\n",
      "207:\tlearn: 0.1047502\ttotal: 2.39s\tremaining: 9.09s\n",
      "208:\tlearn: 0.1044284\ttotal: 2.4s\tremaining: 9.07s\n",
      "209:\tlearn: 0.1042376\ttotal: 2.41s\tremaining: 9.05s\n",
      "210:\tlearn: 0.1037634\ttotal: 2.42s\tremaining: 9.04s\n",
      "211:\tlearn: 0.1034449\ttotal: 2.43s\tremaining: 9.03s\n",
      "212:\tlearn: 0.1030679\ttotal: 2.44s\tremaining: 9.01s\n",
      "213:\tlearn: 0.1026899\ttotal: 2.45s\tremaining: 8.99s\n",
      "214:\tlearn: 0.1022752\ttotal: 2.46s\tremaining: 8.97s\n",
      "215:\tlearn: 0.1017806\ttotal: 2.47s\tremaining: 8.95s\n",
      "216:\tlearn: 0.1014727\ttotal: 2.48s\tremaining: 8.94s\n",
      "217:\tlearn: 0.1008916\ttotal: 2.49s\tremaining: 8.93s\n",
      "218:\tlearn: 0.1005754\ttotal: 2.5s\tremaining: 8.91s\n",
      "219:\tlearn: 0.1002680\ttotal: 2.51s\tremaining: 8.89s\n",
      "220:\tlearn: 0.0998712\ttotal: 2.52s\tremaining: 8.88s\n",
      "221:\tlearn: 0.0995130\ttotal: 2.53s\tremaining: 8.86s\n",
      "222:\tlearn: 0.0989469\ttotal: 2.54s\tremaining: 8.84s\n",
      "223:\tlearn: 0.0985430\ttotal: 2.55s\tremaining: 8.82s\n",
      "224:\tlearn: 0.0982039\ttotal: 2.56s\tremaining: 8.82s\n",
      "225:\tlearn: 0.0977904\ttotal: 2.57s\tremaining: 8.81s\n",
      "226:\tlearn: 0.0972957\ttotal: 2.58s\tremaining: 8.8s\n",
      "227:\tlearn: 0.0969805\ttotal: 2.6s\tremaining: 8.79s\n",
      "228:\tlearn: 0.0962118\ttotal: 2.61s\tremaining: 8.79s\n",
      "229:\tlearn: 0.0958728\ttotal: 2.63s\tremaining: 8.79s\n",
      "230:\tlearn: 0.0950443\ttotal: 2.64s\tremaining: 8.79s\n",
      "231:\tlearn: 0.0945934\ttotal: 2.65s\tremaining: 8.78s\n",
      "232:\tlearn: 0.0940636\ttotal: 2.66s\tremaining: 8.76s\n",
      "233:\tlearn: 0.0937471\ttotal: 2.68s\tremaining: 8.76s\n",
      "234:\tlearn: 0.0935118\ttotal: 2.69s\tremaining: 8.76s\n",
      "235:\tlearn: 0.0933437\ttotal: 2.71s\tremaining: 8.76s\n",
      "236:\tlearn: 0.0931461\ttotal: 2.71s\tremaining: 8.74s\n",
      "237:\tlearn: 0.0927866\ttotal: 2.73s\tremaining: 8.72s\n",
      "238:\tlearn: 0.0923696\ttotal: 2.73s\tremaining: 8.71s\n",
      "239:\tlearn: 0.0921127\ttotal: 2.75s\tremaining: 8.69s\n",
      "240:\tlearn: 0.0918255\ttotal: 2.75s\tremaining: 8.67s\n",
      "241:\tlearn: 0.0912439\ttotal: 2.76s\tremaining: 8.65s\n",
      "242:\tlearn: 0.0908663\ttotal: 2.77s\tremaining: 8.63s\n",
      "243:\tlearn: 0.0907220\ttotal: 2.79s\tremaining: 8.63s\n",
      "244:\tlearn: 0.0905311\ttotal: 2.8s\tremaining: 8.62s\n",
      "245:\tlearn: 0.0903151\ttotal: 2.81s\tremaining: 8.6s\n",
      "246:\tlearn: 0.0900190\ttotal: 2.82s\tremaining: 8.6s\n",
      "247:\tlearn: 0.0898258\ttotal: 2.83s\tremaining: 8.6s\n",
      "248:\tlearn: 0.0895212\ttotal: 2.85s\tremaining: 8.59s\n",
      "249:\tlearn: 0.0891048\ttotal: 2.86s\tremaining: 8.57s\n",
      "250:\tlearn: 0.0887522\ttotal: 2.87s\tremaining: 8.57s\n",
      "251:\tlearn: 0.0883660\ttotal: 2.89s\tremaining: 8.57s\n",
      "252:\tlearn: 0.0880156\ttotal: 2.9s\tremaining: 8.56s\n",
      "253:\tlearn: 0.0878088\ttotal: 2.92s\tremaining: 8.56s\n",
      "254:\tlearn: 0.0875044\ttotal: 2.93s\tremaining: 8.55s\n",
      "255:\tlearn: 0.0870683\ttotal: 2.94s\tremaining: 8.54s\n",
      "256:\tlearn: 0.0868062\ttotal: 2.95s\tremaining: 8.53s\n",
      "257:\tlearn: 0.0865642\ttotal: 2.96s\tremaining: 8.53s\n",
      "258:\tlearn: 0.0863610\ttotal: 2.97s\tremaining: 8.51s\n",
      "259:\tlearn: 0.0861217\ttotal: 2.98s\tremaining: 8.49s\n",
      "260:\tlearn: 0.0856565\ttotal: 2.99s\tremaining: 8.48s\n",
      "261:\tlearn: 0.0852736\ttotal: 3s\tremaining: 8.46s\n",
      "262:\tlearn: 0.0846997\ttotal: 3.01s\tremaining: 8.44s\n",
      "263:\tlearn: 0.0845057\ttotal: 3.02s\tremaining: 8.43s\n",
      "264:\tlearn: 0.0843215\ttotal: 3.03s\tremaining: 8.41s\n",
      "265:\tlearn: 0.0840714\ttotal: 3.04s\tremaining: 8.4s\n",
      "266:\tlearn: 0.0838709\ttotal: 3.05s\tremaining: 8.38s\n",
      "267:\tlearn: 0.0835426\ttotal: 3.06s\tremaining: 8.37s\n",
      "268:\tlearn: 0.0833251\ttotal: 3.08s\tremaining: 8.37s\n",
      "269:\tlearn: 0.0830105\ttotal: 3.09s\tremaining: 8.37s\n",
      "270:\tlearn: 0.0826504\ttotal: 3.11s\tremaining: 8.36s\n",
      "271:\tlearn: 0.0822926\ttotal: 3.12s\tremaining: 8.35s\n",
      "272:\tlearn: 0.0820999\ttotal: 3.13s\tremaining: 8.34s\n",
      "273:\tlearn: 0.0818487\ttotal: 3.15s\tremaining: 8.33s\n",
      "274:\tlearn: 0.0815859\ttotal: 3.16s\tremaining: 8.33s\n",
      "275:\tlearn: 0.0814391\ttotal: 3.17s\tremaining: 8.33s\n",
      "276:\tlearn: 0.0812827\ttotal: 3.19s\tremaining: 8.32s\n",
      "277:\tlearn: 0.0811114\ttotal: 3.2s\tremaining: 8.31s\n",
      "278:\tlearn: 0.0808493\ttotal: 3.21s\tremaining: 8.29s\n",
      "279:\tlearn: 0.0805232\ttotal: 3.22s\tremaining: 8.28s\n",
      "280:\tlearn: 0.0802378\ttotal: 3.23s\tremaining: 8.26s\n",
      "281:\tlearn: 0.0799109\ttotal: 3.24s\tremaining: 8.25s\n",
      "282:\tlearn: 0.0795633\ttotal: 3.25s\tremaining: 8.23s\n",
      "283:\tlearn: 0.0793844\ttotal: 3.26s\tremaining: 8.21s\n",
      "284:\tlearn: 0.0789695\ttotal: 3.27s\tremaining: 8.2s\n",
      "285:\tlearn: 0.0788256\ttotal: 3.28s\tremaining: 8.2s\n",
      "286:\tlearn: 0.0786276\ttotal: 3.29s\tremaining: 8.18s\n",
      "287:\tlearn: 0.0782908\ttotal: 3.31s\tremaining: 8.18s\n",
      "288:\tlearn: 0.0780798\ttotal: 3.32s\tremaining: 8.17s\n",
      "289:\tlearn: 0.0778356\ttotal: 3.34s\tremaining: 8.17s\n",
      "290:\tlearn: 0.0777283\ttotal: 3.35s\tremaining: 8.15s\n",
      "291:\tlearn: 0.0775107\ttotal: 3.36s\tremaining: 8.14s\n",
      "292:\tlearn: 0.0773821\ttotal: 3.37s\tremaining: 8.14s\n",
      "293:\tlearn: 0.0771151\ttotal: 3.39s\tremaining: 8.13s\n",
      "294:\tlearn: 0.0768632\ttotal: 3.4s\tremaining: 8.13s\n",
      "295:\tlearn: 0.0765378\ttotal: 3.41s\tremaining: 8.11s\n",
      "296:\tlearn: 0.0763019\ttotal: 3.42s\tremaining: 8.1s\n",
      "297:\tlearn: 0.0761870\ttotal: 3.44s\tremaining: 8.1s\n",
      "298:\tlearn: 0.0760698\ttotal: 3.45s\tremaining: 8.09s\n",
      "299:\tlearn: 0.0757732\ttotal: 3.46s\tremaining: 8.07s\n",
      "300:\tlearn: 0.0753346\ttotal: 3.47s\tremaining: 8.06s\n",
      "301:\tlearn: 0.0750264\ttotal: 3.48s\tremaining: 8.04s\n",
      "302:\tlearn: 0.0749179\ttotal: 3.49s\tremaining: 8.02s\n",
      "303:\tlearn: 0.0746335\ttotal: 3.5s\tremaining: 8.01s\n",
      "304:\tlearn: 0.0744294\ttotal: 3.5s\tremaining: 7.99s\n",
      "305:\tlearn: 0.0743192\ttotal: 3.51s\tremaining: 7.97s\n",
      "306:\tlearn: 0.0739811\ttotal: 3.52s\tremaining: 7.96s\n",
      "307:\tlearn: 0.0736699\ttotal: 3.53s\tremaining: 7.94s\n",
      "308:\tlearn: 0.0733687\ttotal: 3.54s\tremaining: 7.92s\n",
      "309:\tlearn: 0.0730306\ttotal: 3.55s\tremaining: 7.91s\n",
      "310:\tlearn: 0.0727526\ttotal: 3.56s\tremaining: 7.89s\n",
      "311:\tlearn: 0.0724641\ttotal: 3.57s\tremaining: 7.87s\n",
      "312:\tlearn: 0.0723927\ttotal: 3.58s\tremaining: 7.86s\n",
      "313:\tlearn: 0.0721339\ttotal: 3.59s\tremaining: 7.84s\n",
      "314:\tlearn: 0.0716176\ttotal: 3.6s\tremaining: 7.82s\n",
      "315:\tlearn: 0.0713191\ttotal: 3.61s\tremaining: 7.81s\n",
      "316:\tlearn: 0.0711164\ttotal: 3.62s\tremaining: 7.79s\n",
      "317:\tlearn: 0.0709504\ttotal: 3.62s\tremaining: 7.77s\n",
      "318:\tlearn: 0.0705530\ttotal: 3.63s\tremaining: 7.76s\n",
      "319:\tlearn: 0.0701755\ttotal: 3.64s\tremaining: 7.74s\n",
      "320:\tlearn: 0.0698601\ttotal: 3.65s\tremaining: 7.72s\n",
      "321:\tlearn: 0.0695979\ttotal: 3.66s\tremaining: 7.71s\n",
      "322:\tlearn: 0.0692466\ttotal: 3.67s\tremaining: 7.69s\n",
      "323:\tlearn: 0.0691810\ttotal: 3.68s\tremaining: 7.68s\n",
      "324:\tlearn: 0.0689129\ttotal: 3.69s\tremaining: 7.67s\n",
      "325:\tlearn: 0.0687237\ttotal: 3.71s\tremaining: 7.67s\n",
      "326:\tlearn: 0.0685244\ttotal: 3.72s\tremaining: 7.66s\n",
      "327:\tlearn: 0.0681985\ttotal: 3.74s\tremaining: 7.66s\n",
      "328:\tlearn: 0.0679855\ttotal: 3.75s\tremaining: 7.64s\n",
      "329:\tlearn: 0.0678813\ttotal: 3.76s\tremaining: 7.63s\n",
      "330:\tlearn: 0.0677893\ttotal: 3.77s\tremaining: 7.63s\n",
      "331:\tlearn: 0.0675773\ttotal: 3.79s\tremaining: 7.62s\n",
      "332:\tlearn: 0.0673959\ttotal: 3.8s\tremaining: 7.6s\n",
      "333:\tlearn: 0.0671591\ttotal: 3.81s\tremaining: 7.6s\n",
      "334:\tlearn: 0.0670554\ttotal: 3.82s\tremaining: 7.59s\n",
      "335:\tlearn: 0.0669418\ttotal: 3.84s\tremaining: 7.58s\n",
      "336:\tlearn: 0.0667686\ttotal: 3.85s\tremaining: 7.57s\n",
      "337:\tlearn: 0.0665793\ttotal: 3.86s\tremaining: 7.56s\n",
      "338:\tlearn: 0.0664144\ttotal: 3.87s\tremaining: 7.55s\n",
      "339:\tlearn: 0.0662528\ttotal: 3.88s\tremaining: 7.54s\n",
      "340:\tlearn: 0.0658724\ttotal: 3.89s\tremaining: 7.52s\n",
      "341:\tlearn: 0.0655264\ttotal: 3.9s\tremaining: 7.51s\n",
      "342:\tlearn: 0.0653435\ttotal: 3.91s\tremaining: 7.49s\n",
      "343:\tlearn: 0.0649966\ttotal: 3.92s\tremaining: 7.48s\n",
      "344:\tlearn: 0.0646657\ttotal: 3.93s\tremaining: 7.47s\n",
      "345:\tlearn: 0.0644817\ttotal: 3.94s\tremaining: 7.45s\n",
      "346:\tlearn: 0.0643560\ttotal: 3.96s\tremaining: 7.44s\n",
      "347:\tlearn: 0.0641936\ttotal: 3.97s\tremaining: 7.44s\n",
      "348:\tlearn: 0.0639816\ttotal: 3.98s\tremaining: 7.43s\n",
      "349:\tlearn: 0.0637661\ttotal: 4s\tremaining: 7.42s\n",
      "350:\tlearn: 0.0635571\ttotal: 4.01s\tremaining: 7.41s\n",
      "351:\tlearn: 0.0634129\ttotal: 4.02s\tremaining: 7.4s\n",
      "352:\tlearn: 0.0633269\ttotal: 4.03s\tremaining: 7.39s\n",
      "353:\tlearn: 0.0631345\ttotal: 4.04s\tremaining: 7.38s\n",
      "354:\tlearn: 0.0628534\ttotal: 4.06s\tremaining: 7.37s\n",
      "355:\tlearn: 0.0627629\ttotal: 4.07s\tremaining: 7.36s\n",
      "356:\tlearn: 0.0625651\ttotal: 4.08s\tremaining: 7.35s\n",
      "357:\tlearn: 0.0621907\ttotal: 4.09s\tremaining: 7.34s\n",
      "358:\tlearn: 0.0619852\ttotal: 4.1s\tremaining: 7.33s\n",
      "359:\tlearn: 0.0616378\ttotal: 4.12s\tremaining: 7.32s\n",
      "360:\tlearn: 0.0614727\ttotal: 4.13s\tremaining: 7.31s\n",
      "361:\tlearn: 0.0613760\ttotal: 4.14s\tremaining: 7.3s\n",
      "362:\tlearn: 0.0610209\ttotal: 4.15s\tremaining: 7.29s\n",
      "363:\tlearn: 0.0608256\ttotal: 4.16s\tremaining: 7.27s\n",
      "364:\tlearn: 0.0606180\ttotal: 4.17s\tremaining: 7.26s\n",
      "365:\tlearn: 0.0604913\ttotal: 4.18s\tremaining: 7.24s\n",
      "366:\tlearn: 0.0602527\ttotal: 4.19s\tremaining: 7.23s\n",
      "367:\tlearn: 0.0600081\ttotal: 4.2s\tremaining: 7.21s\n",
      "368:\tlearn: 0.0598148\ttotal: 4.21s\tremaining: 7.2s\n",
      "369:\tlearn: 0.0595611\ttotal: 4.22s\tremaining: 7.18s\n",
      "370:\tlearn: 0.0592241\ttotal: 4.23s\tremaining: 7.17s\n",
      "371:\tlearn: 0.0591131\ttotal: 4.24s\tremaining: 7.15s\n",
      "372:\tlearn: 0.0589010\ttotal: 4.24s\tremaining: 7.13s\n",
      "373:\tlearn: 0.0587559\ttotal: 4.25s\tremaining: 7.12s\n",
      "374:\tlearn: 0.0585911\ttotal: 4.26s\tremaining: 7.11s\n",
      "375:\tlearn: 0.0584570\ttotal: 4.27s\tremaining: 7.09s\n",
      "376:\tlearn: 0.0582631\ttotal: 4.28s\tremaining: 7.08s\n",
      "377:\tlearn: 0.0581232\ttotal: 4.29s\tremaining: 7.06s\n",
      "378:\tlearn: 0.0579424\ttotal: 4.3s\tremaining: 7.05s\n",
      "379:\tlearn: 0.0577814\ttotal: 4.31s\tremaining: 7.03s\n",
      "380:\tlearn: 0.0577190\ttotal: 4.32s\tremaining: 7.02s\n",
      "381:\tlearn: 0.0575343\ttotal: 4.33s\tremaining: 7s\n",
      "382:\tlearn: 0.0574659\ttotal: 4.34s\tremaining: 6.99s\n",
      "383:\tlearn: 0.0573381\ttotal: 4.34s\tremaining: 6.97s\n",
      "384:\tlearn: 0.0571526\ttotal: 4.35s\tremaining: 6.96s\n",
      "385:\tlearn: 0.0569628\ttotal: 4.37s\tremaining: 6.95s\n",
      "386:\tlearn: 0.0568693\ttotal: 4.38s\tremaining: 6.94s\n",
      "387:\tlearn: 0.0566291\ttotal: 4.39s\tremaining: 6.93s\n",
      "388:\tlearn: 0.0565017\ttotal: 4.41s\tremaining: 6.92s\n",
      "389:\tlearn: 0.0564001\ttotal: 4.42s\tremaining: 6.92s\n",
      "390:\tlearn: 0.0563147\ttotal: 4.43s\tremaining: 6.91s\n",
      "391:\tlearn: 0.0560997\ttotal: 4.44s\tremaining: 6.89s\n",
      "392:\tlearn: 0.0560508\ttotal: 4.46s\tremaining: 6.88s\n",
      "393:\tlearn: 0.0559216\ttotal: 4.47s\tremaining: 6.88s\n",
      "394:\tlearn: 0.0557649\ttotal: 4.49s\tremaining: 6.87s\n",
      "395:\tlearn: 0.0554876\ttotal: 4.5s\tremaining: 6.86s\n",
      "396:\tlearn: 0.0554353\ttotal: 4.51s\tremaining: 6.84s\n",
      "397:\tlearn: 0.0553323\ttotal: 4.52s\tremaining: 6.84s\n",
      "398:\tlearn: 0.0552131\ttotal: 4.53s\tremaining: 6.83s\n",
      "399:\tlearn: 0.0551056\ttotal: 4.54s\tremaining: 6.81s\n",
      "400:\tlearn: 0.0548807\ttotal: 4.55s\tremaining: 6.8s\n",
      "401:\tlearn: 0.0547524\ttotal: 4.56s\tremaining: 6.79s\n",
      "402:\tlearn: 0.0546231\ttotal: 4.57s\tremaining: 6.78s\n",
      "403:\tlearn: 0.0544836\ttotal: 4.58s\tremaining: 6.76s\n",
      "404:\tlearn: 0.0543820\ttotal: 4.59s\tremaining: 6.75s\n",
      "405:\tlearn: 0.0542151\ttotal: 4.6s\tremaining: 6.73s\n",
      "406:\tlearn: 0.0541253\ttotal: 4.61s\tremaining: 6.72s\n",
      "407:\tlearn: 0.0540182\ttotal: 4.62s\tremaining: 6.7s\n",
      "408:\tlearn: 0.0539289\ttotal: 4.63s\tremaining: 6.69s\n",
      "409:\tlearn: 0.0536980\ttotal: 4.64s\tremaining: 6.67s\n",
      "410:\tlearn: 0.0535693\ttotal: 4.65s\tremaining: 6.66s\n",
      "411:\tlearn: 0.0534338\ttotal: 4.66s\tremaining: 6.65s\n",
      "412:\tlearn: 0.0533532\ttotal: 4.67s\tremaining: 6.63s\n",
      "413:\tlearn: 0.0532796\ttotal: 4.67s\tremaining: 6.62s\n",
      "414:\tlearn: 0.0531333\ttotal: 4.68s\tremaining: 6.6s\n",
      "415:\tlearn: 0.0530219\ttotal: 4.69s\tremaining: 6.59s\n",
      "416:\tlearn: 0.0527659\ttotal: 4.7s\tremaining: 6.57s\n",
      "417:\tlearn: 0.0526114\ttotal: 4.71s\tremaining: 6.56s\n",
      "418:\tlearn: 0.0525111\ttotal: 4.72s\tremaining: 6.54s\n",
      "419:\tlearn: 0.0523895\ttotal: 4.73s\tremaining: 6.53s\n",
      "420:\tlearn: 0.0523024\ttotal: 4.74s\tremaining: 6.52s\n",
      "421:\tlearn: 0.0522398\ttotal: 4.75s\tremaining: 6.5s\n",
      "422:\tlearn: 0.0521274\ttotal: 4.75s\tremaining: 6.49s\n",
      "423:\tlearn: 0.0520034\ttotal: 4.76s\tremaining: 6.47s\n",
      "424:\tlearn: 0.0518710\ttotal: 4.77s\tremaining: 6.46s\n",
      "425:\tlearn: 0.0517179\ttotal: 4.78s\tremaining: 6.44s\n",
      "426:\tlearn: 0.0515538\ttotal: 4.79s\tremaining: 6.43s\n",
      "427:\tlearn: 0.0513851\ttotal: 4.8s\tremaining: 6.42s\n",
      "428:\tlearn: 0.0512622\ttotal: 4.81s\tremaining: 6.4s\n",
      "429:\tlearn: 0.0510652\ttotal: 4.82s\tremaining: 6.39s\n",
      "430:\tlearn: 0.0509320\ttotal: 4.83s\tremaining: 6.37s\n",
      "431:\tlearn: 0.0507886\ttotal: 4.84s\tremaining: 6.36s\n",
      "432:\tlearn: 0.0506995\ttotal: 4.84s\tremaining: 6.34s\n",
      "433:\tlearn: 0.0504968\ttotal: 4.85s\tremaining: 6.33s\n",
      "434:\tlearn: 0.0504057\ttotal: 4.86s\tremaining: 6.32s\n",
      "435:\tlearn: 0.0502802\ttotal: 4.87s\tremaining: 6.3s\n",
      "436:\tlearn: 0.0501284\ttotal: 4.88s\tremaining: 6.29s\n",
      "437:\tlearn: 0.0500214\ttotal: 4.89s\tremaining: 6.28s\n",
      "438:\tlearn: 0.0497908\ttotal: 4.9s\tremaining: 6.26s\n",
      "439:\tlearn: 0.0496518\ttotal: 4.91s\tremaining: 6.25s\n",
      "440:\tlearn: 0.0495797\ttotal: 4.92s\tremaining: 6.23s\n",
      "441:\tlearn: 0.0495028\ttotal: 4.93s\tremaining: 6.22s\n",
      "442:\tlearn: 0.0494452\ttotal: 4.93s\tremaining: 6.21s\n",
      "443:\tlearn: 0.0492825\ttotal: 4.94s\tremaining: 6.19s\n",
      "444:\tlearn: 0.0491285\ttotal: 4.95s\tremaining: 6.18s\n",
      "445:\tlearn: 0.0489393\ttotal: 4.96s\tremaining: 6.16s\n",
      "446:\tlearn: 0.0488200\ttotal: 4.97s\tremaining: 6.15s\n",
      "447:\tlearn: 0.0487161\ttotal: 4.98s\tremaining: 6.14s\n",
      "448:\tlearn: 0.0486231\ttotal: 4.99s\tremaining: 6.12s\n",
      "449:\tlearn: 0.0485587\ttotal: 5s\tremaining: 6.11s\n",
      "450:\tlearn: 0.0484749\ttotal: 5.01s\tremaining: 6.09s\n",
      "451:\tlearn: 0.0482686\ttotal: 5.02s\tremaining: 6.08s\n",
      "452:\tlearn: 0.0480250\ttotal: 5.02s\tremaining: 6.07s\n",
      "453:\tlearn: 0.0479849\ttotal: 5.03s\tremaining: 6.05s\n",
      "454:\tlearn: 0.0478415\ttotal: 5.04s\tremaining: 6.04s\n",
      "455:\tlearn: 0.0477070\ttotal: 5.05s\tremaining: 6.03s\n",
      "456:\tlearn: 0.0475802\ttotal: 5.06s\tremaining: 6.01s\n",
      "457:\tlearn: 0.0474757\ttotal: 5.07s\tremaining: 6s\n",
      "458:\tlearn: 0.0472491\ttotal: 5.08s\tremaining: 5.99s\n",
      "459:\tlearn: 0.0471674\ttotal: 5.09s\tremaining: 5.98s\n",
      "460:\tlearn: 0.0470406\ttotal: 5.1s\tremaining: 5.96s\n",
      "461:\tlearn: 0.0469544\ttotal: 5.11s\tremaining: 5.95s\n",
      "462:\tlearn: 0.0467522\ttotal: 5.12s\tremaining: 5.94s\n",
      "463:\tlearn: 0.0466614\ttotal: 5.13s\tremaining: 5.93s\n",
      "464:\tlearn: 0.0465669\ttotal: 5.14s\tremaining: 5.92s\n",
      "465:\tlearn: 0.0463820\ttotal: 5.15s\tremaining: 5.9s\n",
      "466:\tlearn: 0.0462687\ttotal: 5.16s\tremaining: 5.89s\n",
      "467:\tlearn: 0.0461664\ttotal: 5.17s\tremaining: 5.88s\n",
      "468:\tlearn: 0.0460297\ttotal: 5.18s\tremaining: 5.87s\n",
      "469:\tlearn: 0.0458110\ttotal: 5.19s\tremaining: 5.85s\n",
      "470:\tlearn: 0.0457030\ttotal: 5.2s\tremaining: 5.84s\n",
      "471:\tlearn: 0.0454864\ttotal: 5.21s\tremaining: 5.83s\n",
      "472:\tlearn: 0.0453166\ttotal: 5.22s\tremaining: 5.82s\n",
      "473:\tlearn: 0.0451977\ttotal: 5.23s\tremaining: 5.8s\n",
      "474:\tlearn: 0.0450651\ttotal: 5.24s\tremaining: 5.79s\n",
      "475:\tlearn: 0.0449682\ttotal: 5.25s\tremaining: 5.78s\n",
      "476:\tlearn: 0.0447689\ttotal: 5.26s\tremaining: 5.76s\n",
      "477:\tlearn: 0.0446244\ttotal: 5.27s\tremaining: 5.75s\n",
      "478:\tlearn: 0.0445518\ttotal: 5.28s\tremaining: 5.74s\n",
      "479:\tlearn: 0.0443862\ttotal: 5.29s\tremaining: 5.73s\n",
      "480:\tlearn: 0.0443109\ttotal: 5.3s\tremaining: 5.71s\n",
      "481:\tlearn: 0.0442279\ttotal: 5.31s\tremaining: 5.7s\n",
      "482:\tlearn: 0.0441325\ttotal: 5.32s\tremaining: 5.69s\n",
      "483:\tlearn: 0.0440172\ttotal: 5.33s\tremaining: 5.68s\n",
      "484:\tlearn: 0.0438961\ttotal: 5.34s\tremaining: 5.67s\n",
      "485:\tlearn: 0.0437491\ttotal: 5.35s\tremaining: 5.66s\n",
      "486:\tlearn: 0.0437046\ttotal: 5.36s\tremaining: 5.64s\n",
      "487:\tlearn: 0.0434650\ttotal: 5.37s\tremaining: 5.63s\n",
      "488:\tlearn: 0.0432949\ttotal: 5.38s\tremaining: 5.62s\n",
      "489:\tlearn: 0.0431793\ttotal: 5.39s\tremaining: 5.61s\n",
      "490:\tlearn: 0.0431269\ttotal: 5.4s\tremaining: 5.59s\n",
      "491:\tlearn: 0.0429149\ttotal: 5.41s\tremaining: 5.59s\n",
      "492:\tlearn: 0.0428524\ttotal: 5.42s\tremaining: 5.58s\n",
      "493:\tlearn: 0.0427334\ttotal: 5.43s\tremaining: 5.56s\n",
      "494:\tlearn: 0.0426277\ttotal: 5.44s\tremaining: 5.55s\n",
      "495:\tlearn: 0.0425437\ttotal: 5.45s\tremaining: 5.54s\n",
      "496:\tlearn: 0.0424424\ttotal: 5.46s\tremaining: 5.53s\n",
      "497:\tlearn: 0.0424083\ttotal: 5.47s\tremaining: 5.52s\n",
      "498:\tlearn: 0.0422223\ttotal: 5.49s\tremaining: 5.51s\n",
      "499:\tlearn: 0.0420899\ttotal: 5.5s\tremaining: 5.5s\n",
      "500:\tlearn: 0.0419936\ttotal: 5.51s\tremaining: 5.49s\n",
      "501:\tlearn: 0.0419124\ttotal: 5.52s\tremaining: 5.48s\n",
      "502:\tlearn: 0.0418010\ttotal: 5.53s\tremaining: 5.47s\n",
      "503:\tlearn: 0.0416840\ttotal: 5.54s\tremaining: 5.45s\n",
      "504:\tlearn: 0.0415805\ttotal: 5.55s\tremaining: 5.44s\n",
      "505:\tlearn: 0.0414695\ttotal: 5.56s\tremaining: 5.43s\n",
      "506:\tlearn: 0.0413683\ttotal: 5.57s\tremaining: 5.42s\n",
      "507:\tlearn: 0.0412078\ttotal: 5.59s\tremaining: 5.41s\n",
      "508:\tlearn: 0.0411500\ttotal: 5.6s\tremaining: 5.4s\n",
      "509:\tlearn: 0.0410823\ttotal: 5.61s\tremaining: 5.39s\n",
      "510:\tlearn: 0.0409356\ttotal: 5.62s\tremaining: 5.38s\n",
      "511:\tlearn: 0.0408844\ttotal: 5.63s\tremaining: 5.36s\n",
      "512:\tlearn: 0.0408215\ttotal: 5.64s\tremaining: 5.35s\n",
      "513:\tlearn: 0.0407177\ttotal: 5.65s\tremaining: 5.34s\n",
      "514:\tlearn: 0.0406389\ttotal: 5.66s\tremaining: 5.33s\n",
      "515:\tlearn: 0.0405564\ttotal: 5.67s\tremaining: 5.32s\n",
      "516:\tlearn: 0.0404911\ttotal: 5.68s\tremaining: 5.3s\n",
      "517:\tlearn: 0.0404571\ttotal: 5.69s\tremaining: 5.29s\n",
      "518:\tlearn: 0.0403572\ttotal: 5.7s\tremaining: 5.28s\n",
      "519:\tlearn: 0.0403007\ttotal: 5.75s\tremaining: 5.3s\n",
      "520:\tlearn: 0.0402461\ttotal: 5.76s\tremaining: 5.29s\n",
      "521:\tlearn: 0.0401143\ttotal: 5.77s\tremaining: 5.29s\n",
      "522:\tlearn: 0.0400315\ttotal: 5.79s\tremaining: 5.28s\n",
      "523:\tlearn: 0.0399112\ttotal: 5.8s\tremaining: 5.27s\n",
      "524:\tlearn: 0.0398305\ttotal: 5.81s\tremaining: 5.26s\n",
      "525:\tlearn: 0.0397874\ttotal: 5.83s\tremaining: 5.25s\n",
      "526:\tlearn: 0.0396728\ttotal: 5.83s\tremaining: 5.24s\n",
      "527:\tlearn: 0.0395976\ttotal: 5.84s\tremaining: 5.22s\n",
      "528:\tlearn: 0.0395291\ttotal: 5.86s\tremaining: 5.21s\n",
      "529:\tlearn: 0.0394583\ttotal: 5.87s\tremaining: 5.2s\n",
      "530:\tlearn: 0.0393736\ttotal: 5.88s\tremaining: 5.19s\n",
      "531:\tlearn: 0.0392856\ttotal: 5.88s\tremaining: 5.18s\n",
      "532:\tlearn: 0.0391888\ttotal: 5.9s\tremaining: 5.17s\n",
      "533:\tlearn: 0.0391008\ttotal: 5.91s\tremaining: 5.16s\n",
      "534:\tlearn: 0.0390163\ttotal: 5.92s\tremaining: 5.15s\n",
      "535:\tlearn: 0.0388360\ttotal: 5.93s\tremaining: 5.14s\n",
      "536:\tlearn: 0.0387814\ttotal: 5.95s\tremaining: 5.13s\n",
      "537:\tlearn: 0.0386987\ttotal: 5.96s\tremaining: 5.12s\n",
      "538:\tlearn: 0.0386138\ttotal: 5.97s\tremaining: 5.1s\n",
      "539:\tlearn: 0.0385522\ttotal: 5.98s\tremaining: 5.09s\n",
      "540:\tlearn: 0.0384737\ttotal: 5.99s\tremaining: 5.08s\n",
      "541:\tlearn: 0.0384056\ttotal: 6s\tremaining: 5.07s\n",
      "542:\tlearn: 0.0382569\ttotal: 6.01s\tremaining: 5.06s\n",
      "543:\tlearn: 0.0382200\ttotal: 6.02s\tremaining: 5.05s\n",
      "544:\tlearn: 0.0381632\ttotal: 6.03s\tremaining: 5.03s\n",
      "545:\tlearn: 0.0380983\ttotal: 6.04s\tremaining: 5.02s\n",
      "546:\tlearn: 0.0380029\ttotal: 6.05s\tremaining: 5.01s\n",
      "547:\tlearn: 0.0379207\ttotal: 6.06s\tremaining: 5s\n",
      "548:\tlearn: 0.0377661\ttotal: 6.07s\tremaining: 4.99s\n",
      "549:\tlearn: 0.0376969\ttotal: 6.08s\tremaining: 4.98s\n",
      "550:\tlearn: 0.0376172\ttotal: 6.1s\tremaining: 4.97s\n",
      "551:\tlearn: 0.0375535\ttotal: 6.11s\tremaining: 4.96s\n",
      "552:\tlearn: 0.0375040\ttotal: 6.12s\tremaining: 4.95s\n",
      "553:\tlearn: 0.0374429\ttotal: 6.13s\tremaining: 4.93s\n",
      "554:\tlearn: 0.0373607\ttotal: 6.14s\tremaining: 4.92s\n",
      "555:\tlearn: 0.0372129\ttotal: 6.15s\tremaining: 4.91s\n",
      "556:\tlearn: 0.0371474\ttotal: 6.16s\tremaining: 4.9s\n",
      "557:\tlearn: 0.0370364\ttotal: 6.17s\tremaining: 4.88s\n",
      "558:\tlearn: 0.0369642\ttotal: 6.18s\tremaining: 4.87s\n",
      "559:\tlearn: 0.0368972\ttotal: 6.19s\tremaining: 4.86s\n",
      "560:\tlearn: 0.0368034\ttotal: 6.2s\tremaining: 4.85s\n",
      "561:\tlearn: 0.0367504\ttotal: 6.21s\tremaining: 4.84s\n",
      "562:\tlearn: 0.0367140\ttotal: 6.21s\tremaining: 4.82s\n",
      "563:\tlearn: 0.0366416\ttotal: 6.22s\tremaining: 4.81s\n",
      "564:\tlearn: 0.0365216\ttotal: 6.23s\tremaining: 4.8s\n",
      "565:\tlearn: 0.0364232\ttotal: 6.24s\tremaining: 4.79s\n",
      "566:\tlearn: 0.0363524\ttotal: 6.25s\tremaining: 4.77s\n",
      "567:\tlearn: 0.0362980\ttotal: 6.26s\tremaining: 4.76s\n",
      "568:\tlearn: 0.0362121\ttotal: 6.27s\tremaining: 4.75s\n",
      "569:\tlearn: 0.0361527\ttotal: 6.28s\tremaining: 4.74s\n",
      "570:\tlearn: 0.0360700\ttotal: 6.29s\tremaining: 4.73s\n",
      "571:\tlearn: 0.0359751\ttotal: 6.3s\tremaining: 4.72s\n",
      "572:\tlearn: 0.0359297\ttotal: 6.32s\tremaining: 4.71s\n",
      "573:\tlearn: 0.0358315\ttotal: 6.33s\tremaining: 4.7s\n",
      "574:\tlearn: 0.0357766\ttotal: 6.34s\tremaining: 4.69s\n",
      "575:\tlearn: 0.0356951\ttotal: 6.36s\tremaining: 4.68s\n",
      "576:\tlearn: 0.0356259\ttotal: 6.37s\tremaining: 4.67s\n",
      "577:\tlearn: 0.0355595\ttotal: 6.38s\tremaining: 4.66s\n",
      "578:\tlearn: 0.0353901\ttotal: 6.39s\tremaining: 4.65s\n",
      "579:\tlearn: 0.0353331\ttotal: 6.41s\tremaining: 4.64s\n",
      "580:\tlearn: 0.0352158\ttotal: 6.42s\tremaining: 4.63s\n",
      "581:\tlearn: 0.0351344\ttotal: 6.43s\tremaining: 4.62s\n",
      "582:\tlearn: 0.0350988\ttotal: 6.44s\tremaining: 4.61s\n",
      "583:\tlearn: 0.0350312\ttotal: 6.46s\tremaining: 4.6s\n",
      "584:\tlearn: 0.0349732\ttotal: 6.47s\tremaining: 4.59s\n",
      "585:\tlearn: 0.0349090\ttotal: 6.48s\tremaining: 4.58s\n",
      "586:\tlearn: 0.0348214\ttotal: 6.5s\tremaining: 4.57s\n",
      "587:\tlearn: 0.0347746\ttotal: 6.51s\tremaining: 4.56s\n",
      "588:\tlearn: 0.0346977\ttotal: 6.52s\tremaining: 4.55s\n",
      "589:\tlearn: 0.0346129\ttotal: 6.53s\tremaining: 4.54s\n",
      "590:\tlearn: 0.0345756\ttotal: 6.54s\tremaining: 4.53s\n",
      "591:\tlearn: 0.0345290\ttotal: 6.55s\tremaining: 4.52s\n",
      "592:\tlearn: 0.0344858\ttotal: 6.56s\tremaining: 4.5s\n",
      "593:\tlearn: 0.0343860\ttotal: 6.57s\tremaining: 4.49s\n",
      "594:\tlearn: 0.0343510\ttotal: 6.58s\tremaining: 4.48s\n",
      "595:\tlearn: 0.0342555\ttotal: 6.59s\tremaining: 4.47s\n",
      "596:\tlearn: 0.0342210\ttotal: 6.6s\tremaining: 4.46s\n",
      "597:\tlearn: 0.0341556\ttotal: 6.61s\tremaining: 4.44s\n",
      "598:\tlearn: 0.0340897\ttotal: 6.62s\tremaining: 4.43s\n",
      "599:\tlearn: 0.0339345\ttotal: 6.63s\tremaining: 4.42s\n",
      "600:\tlearn: 0.0338590\ttotal: 6.64s\tremaining: 4.41s\n",
      "601:\tlearn: 0.0338229\ttotal: 6.65s\tremaining: 4.4s\n",
      "602:\tlearn: 0.0337837\ttotal: 6.66s\tremaining: 4.38s\n",
      "603:\tlearn: 0.0337338\ttotal: 6.67s\tremaining: 4.37s\n",
      "604:\tlearn: 0.0336764\ttotal: 6.68s\tremaining: 4.36s\n",
      "605:\tlearn: 0.0336053\ttotal: 6.69s\tremaining: 4.35s\n",
      "606:\tlearn: 0.0335478\ttotal: 6.7s\tremaining: 4.34s\n",
      "607:\tlearn: 0.0334865\ttotal: 6.71s\tremaining: 4.33s\n",
      "608:\tlearn: 0.0334053\ttotal: 6.72s\tremaining: 4.32s\n",
      "609:\tlearn: 0.0333862\ttotal: 6.73s\tremaining: 4.3s\n",
      "610:\tlearn: 0.0333387\ttotal: 6.74s\tremaining: 4.29s\n",
      "611:\tlearn: 0.0332596\ttotal: 6.75s\tremaining: 4.28s\n",
      "612:\tlearn: 0.0331927\ttotal: 6.76s\tremaining: 4.27s\n",
      "613:\tlearn: 0.0331350\ttotal: 6.77s\tremaining: 4.25s\n",
      "614:\tlearn: 0.0330773\ttotal: 6.78s\tremaining: 4.24s\n",
      "615:\tlearn: 0.0329679\ttotal: 6.79s\tremaining: 4.23s\n",
      "616:\tlearn: 0.0329247\ttotal: 6.8s\tremaining: 4.22s\n",
      "617:\tlearn: 0.0328403\ttotal: 6.81s\tremaining: 4.21s\n",
      "618:\tlearn: 0.0327372\ttotal: 6.82s\tremaining: 4.2s\n",
      "619:\tlearn: 0.0326953\ttotal: 6.83s\tremaining: 4.18s\n",
      "620:\tlearn: 0.0326234\ttotal: 6.83s\tremaining: 4.17s\n",
      "621:\tlearn: 0.0325637\ttotal: 6.85s\tremaining: 4.16s\n",
      "622:\tlearn: 0.0324816\ttotal: 6.86s\tremaining: 4.15s\n",
      "623:\tlearn: 0.0324255\ttotal: 6.87s\tremaining: 4.14s\n",
      "624:\tlearn: 0.0323721\ttotal: 6.88s\tremaining: 4.13s\n",
      "625:\tlearn: 0.0323266\ttotal: 6.89s\tremaining: 4.12s\n",
      "626:\tlearn: 0.0322773\ttotal: 6.9s\tremaining: 4.11s\n",
      "627:\tlearn: 0.0322135\ttotal: 6.91s\tremaining: 4.09s\n",
      "628:\tlearn: 0.0321105\ttotal: 6.92s\tremaining: 4.08s\n",
      "629:\tlearn: 0.0320689\ttotal: 6.93s\tremaining: 4.07s\n",
      "630:\tlearn: 0.0320161\ttotal: 6.94s\tremaining: 4.06s\n",
      "631:\tlearn: 0.0319673\ttotal: 6.95s\tremaining: 4.05s\n",
      "632:\tlearn: 0.0318496\ttotal: 6.96s\tremaining: 4.04s\n",
      "633:\tlearn: 0.0318086\ttotal: 6.97s\tremaining: 4.02s\n",
      "634:\tlearn: 0.0317570\ttotal: 6.98s\tremaining: 4.01s\n",
      "635:\tlearn: 0.0316766\ttotal: 6.99s\tremaining: 4s\n",
      "636:\tlearn: 0.0316193\ttotal: 7s\tremaining: 3.99s\n",
      "637:\tlearn: 0.0315665\ttotal: 7.01s\tremaining: 3.98s\n",
      "638:\tlearn: 0.0315327\ttotal: 7.02s\tremaining: 3.96s\n",
      "639:\tlearn: 0.0314620\ttotal: 7.03s\tremaining: 3.95s\n",
      "640:\tlearn: 0.0313645\ttotal: 7.04s\tremaining: 3.94s\n",
      "641:\tlearn: 0.0313349\ttotal: 7.05s\tremaining: 3.93s\n",
      "642:\tlearn: 0.0313129\ttotal: 7.06s\tremaining: 3.92s\n",
      "643:\tlearn: 0.0312649\ttotal: 7.07s\tremaining: 3.91s\n",
      "644:\tlearn: 0.0311928\ttotal: 7.08s\tremaining: 3.9s\n",
      "645:\tlearn: 0.0310793\ttotal: 7.09s\tremaining: 3.89s\n",
      "646:\tlearn: 0.0309984\ttotal: 7.1s\tremaining: 3.87s\n",
      "647:\tlearn: 0.0309533\ttotal: 7.11s\tremaining: 3.86s\n",
      "648:\tlearn: 0.0308760\ttotal: 7.12s\tremaining: 3.85s\n",
      "649:\tlearn: 0.0307742\ttotal: 7.13s\tremaining: 3.84s\n",
      "650:\tlearn: 0.0307309\ttotal: 7.14s\tremaining: 3.83s\n",
      "651:\tlearn: 0.0306747\ttotal: 7.15s\tremaining: 3.81s\n",
      "652:\tlearn: 0.0305373\ttotal: 7.16s\tremaining: 3.8s\n",
      "653:\tlearn: 0.0304947\ttotal: 7.17s\tremaining: 3.79s\n",
      "654:\tlearn: 0.0304293\ttotal: 7.18s\tremaining: 3.78s\n",
      "655:\tlearn: 0.0303655\ttotal: 7.19s\tremaining: 3.77s\n",
      "656:\tlearn: 0.0303035\ttotal: 7.2s\tremaining: 3.76s\n",
      "657:\tlearn: 0.0302038\ttotal: 7.21s\tremaining: 3.75s\n",
      "658:\tlearn: 0.0301364\ttotal: 7.22s\tremaining: 3.73s\n",
      "659:\tlearn: 0.0300528\ttotal: 7.22s\tremaining: 3.72s\n",
      "660:\tlearn: 0.0299828\ttotal: 7.24s\tremaining: 3.71s\n",
      "661:\tlearn: 0.0298396\ttotal: 7.25s\tremaining: 3.7s\n",
      "662:\tlearn: 0.0297664\ttotal: 7.26s\tremaining: 3.69s\n",
      "663:\tlearn: 0.0297096\ttotal: 7.27s\tremaining: 3.68s\n",
      "664:\tlearn: 0.0295954\ttotal: 7.28s\tremaining: 3.67s\n",
      "665:\tlearn: 0.0295340\ttotal: 7.29s\tremaining: 3.66s\n",
      "666:\tlearn: 0.0295076\ttotal: 7.3s\tremaining: 3.64s\n",
      "667:\tlearn: 0.0294542\ttotal: 7.31s\tremaining: 3.63s\n",
      "668:\tlearn: 0.0293970\ttotal: 7.32s\tremaining: 3.62s\n",
      "669:\tlearn: 0.0293562\ttotal: 7.33s\tremaining: 3.61s\n",
      "670:\tlearn: 0.0292291\ttotal: 7.34s\tremaining: 3.6s\n",
      "671:\tlearn: 0.0291924\ttotal: 7.35s\tremaining: 3.58s\n",
      "672:\tlearn: 0.0291381\ttotal: 7.36s\tremaining: 3.57s\n",
      "673:\tlearn: 0.0290932\ttotal: 7.36s\tremaining: 3.56s\n",
      "674:\tlearn: 0.0290550\ttotal: 7.37s\tremaining: 3.55s\n",
      "675:\tlearn: 0.0289929\ttotal: 7.38s\tremaining: 3.54s\n",
      "676:\tlearn: 0.0289134\ttotal: 7.39s\tremaining: 3.53s\n",
      "677:\tlearn: 0.0288688\ttotal: 7.4s\tremaining: 3.51s\n",
      "678:\tlearn: 0.0288269\ttotal: 7.41s\tremaining: 3.5s\n",
      "679:\tlearn: 0.0287788\ttotal: 7.42s\tremaining: 3.49s\n",
      "680:\tlearn: 0.0287062\ttotal: 7.43s\tremaining: 3.48s\n",
      "681:\tlearn: 0.0286654\ttotal: 7.44s\tremaining: 3.47s\n",
      "682:\tlearn: 0.0286120\ttotal: 7.45s\tremaining: 3.46s\n",
      "683:\tlearn: 0.0285716\ttotal: 7.46s\tremaining: 3.45s\n",
      "684:\tlearn: 0.0285273\ttotal: 7.47s\tremaining: 3.44s\n",
      "685:\tlearn: 0.0284927\ttotal: 7.48s\tremaining: 3.42s\n",
      "686:\tlearn: 0.0284039\ttotal: 7.49s\tremaining: 3.41s\n",
      "687:\tlearn: 0.0283564\ttotal: 7.5s\tremaining: 3.4s\n",
      "688:\tlearn: 0.0282758\ttotal: 7.51s\tremaining: 3.39s\n",
      "689:\tlearn: 0.0282566\ttotal: 7.51s\tremaining: 3.38s\n",
      "690:\tlearn: 0.0282093\ttotal: 7.52s\tremaining: 3.36s\n",
      "691:\tlearn: 0.0281914\ttotal: 7.53s\tremaining: 3.35s\n",
      "692:\tlearn: 0.0281217\ttotal: 7.54s\tremaining: 3.34s\n",
      "693:\tlearn: 0.0280862\ttotal: 7.55s\tremaining: 3.33s\n",
      "694:\tlearn: 0.0280432\ttotal: 7.56s\tremaining: 3.32s\n",
      "695:\tlearn: 0.0279981\ttotal: 7.57s\tremaining: 3.31s\n",
      "696:\tlearn: 0.0279666\ttotal: 7.58s\tremaining: 3.29s\n",
      "697:\tlearn: 0.0279217\ttotal: 7.59s\tremaining: 3.28s\n",
      "698:\tlearn: 0.0278734\ttotal: 7.6s\tremaining: 3.27s\n",
      "699:\tlearn: 0.0278140\ttotal: 7.6s\tremaining: 3.26s\n",
      "700:\tlearn: 0.0277827\ttotal: 7.61s\tremaining: 3.25s\n",
      "701:\tlearn: 0.0277347\ttotal: 7.62s\tremaining: 3.23s\n",
      "702:\tlearn: 0.0276792\ttotal: 7.63s\tremaining: 3.22s\n",
      "703:\tlearn: 0.0276206\ttotal: 7.64s\tremaining: 3.21s\n",
      "704:\tlearn: 0.0275660\ttotal: 7.65s\tremaining: 3.2s\n",
      "705:\tlearn: 0.0275269\ttotal: 7.66s\tremaining: 3.19s\n",
      "706:\tlearn: 0.0274944\ttotal: 7.67s\tremaining: 3.18s\n",
      "707:\tlearn: 0.0274740\ttotal: 7.68s\tremaining: 3.17s\n",
      "708:\tlearn: 0.0274436\ttotal: 7.69s\tremaining: 3.16s\n",
      "709:\tlearn: 0.0273987\ttotal: 7.7s\tremaining: 3.14s\n",
      "710:\tlearn: 0.0273015\ttotal: 7.71s\tremaining: 3.13s\n",
      "711:\tlearn: 0.0272368\ttotal: 7.71s\tremaining: 3.12s\n",
      "712:\tlearn: 0.0271266\ttotal: 7.72s\tremaining: 3.11s\n",
      "713:\tlearn: 0.0270792\ttotal: 7.73s\tremaining: 3.1s\n",
      "714:\tlearn: 0.0270161\ttotal: 7.74s\tremaining: 3.09s\n",
      "715:\tlearn: 0.0269556\ttotal: 7.75s\tremaining: 3.07s\n",
      "716:\tlearn: 0.0269172\ttotal: 7.76s\tremaining: 3.06s\n",
      "717:\tlearn: 0.0268792\ttotal: 7.77s\tremaining: 3.05s\n",
      "718:\tlearn: 0.0268194\ttotal: 7.78s\tremaining: 3.04s\n",
      "719:\tlearn: 0.0267822\ttotal: 7.79s\tremaining: 3.03s\n",
      "720:\tlearn: 0.0267370\ttotal: 7.8s\tremaining: 3.02s\n",
      "721:\tlearn: 0.0266922\ttotal: 7.81s\tremaining: 3.01s\n",
      "722:\tlearn: 0.0266430\ttotal: 7.82s\tremaining: 3s\n",
      "723:\tlearn: 0.0265926\ttotal: 7.83s\tremaining: 2.98s\n",
      "724:\tlearn: 0.0265063\ttotal: 7.84s\tremaining: 2.97s\n",
      "725:\tlearn: 0.0264639\ttotal: 7.85s\tremaining: 2.96s\n",
      "726:\tlearn: 0.0264469\ttotal: 7.86s\tremaining: 2.95s\n",
      "727:\tlearn: 0.0264095\ttotal: 7.87s\tremaining: 2.94s\n",
      "728:\tlearn: 0.0263718\ttotal: 7.88s\tremaining: 2.93s\n",
      "729:\tlearn: 0.0263377\ttotal: 7.89s\tremaining: 2.92s\n",
      "730:\tlearn: 0.0262793\ttotal: 7.91s\tremaining: 2.91s\n",
      "731:\tlearn: 0.0262330\ttotal: 7.92s\tremaining: 2.9s\n",
      "732:\tlearn: 0.0261898\ttotal: 7.93s\tremaining: 2.89s\n",
      "733:\tlearn: 0.0261603\ttotal: 7.95s\tremaining: 2.88s\n",
      "734:\tlearn: 0.0260873\ttotal: 7.96s\tremaining: 2.87s\n",
      "735:\tlearn: 0.0260429\ttotal: 7.97s\tremaining: 2.86s\n",
      "736:\tlearn: 0.0260104\ttotal: 7.99s\tremaining: 2.85s\n",
      "737:\tlearn: 0.0259649\ttotal: 8s\tremaining: 2.84s\n",
      "738:\tlearn: 0.0259405\ttotal: 8.02s\tremaining: 2.83s\n",
      "739:\tlearn: 0.0258548\ttotal: 8.04s\tremaining: 2.82s\n",
      "740:\tlearn: 0.0258122\ttotal: 8.05s\tremaining: 2.81s\n",
      "741:\tlearn: 0.0257619\ttotal: 8.07s\tremaining: 2.81s\n",
      "742:\tlearn: 0.0256686\ttotal: 8.08s\tremaining: 2.79s\n",
      "743:\tlearn: 0.0256074\ttotal: 8.09s\tremaining: 2.78s\n",
      "744:\tlearn: 0.0255554\ttotal: 8.1s\tremaining: 2.77s\n",
      "745:\tlearn: 0.0255055\ttotal: 8.12s\tremaining: 2.76s\n",
      "746:\tlearn: 0.0254667\ttotal: 8.13s\tremaining: 2.75s\n",
      "747:\tlearn: 0.0254284\ttotal: 8.14s\tremaining: 2.74s\n",
      "748:\tlearn: 0.0253806\ttotal: 8.15s\tremaining: 2.73s\n",
      "749:\tlearn: 0.0253435\ttotal: 8.16s\tremaining: 2.72s\n",
      "750:\tlearn: 0.0253221\ttotal: 8.17s\tremaining: 2.71s\n",
      "751:\tlearn: 0.0252832\ttotal: 8.18s\tremaining: 2.7s\n",
      "752:\tlearn: 0.0252561\ttotal: 8.19s\tremaining: 2.69s\n",
      "753:\tlearn: 0.0251929\ttotal: 8.2s\tremaining: 2.67s\n",
      "754:\tlearn: 0.0251760\ttotal: 8.21s\tremaining: 2.66s\n",
      "755:\tlearn: 0.0251109\ttotal: 8.22s\tremaining: 2.65s\n",
      "756:\tlearn: 0.0250713\ttotal: 8.23s\tremaining: 2.64s\n",
      "757:\tlearn: 0.0250279\ttotal: 8.24s\tremaining: 2.63s\n",
      "758:\tlearn: 0.0249861\ttotal: 8.25s\tremaining: 2.62s\n",
      "759:\tlearn: 0.0249459\ttotal: 8.26s\tremaining: 2.61s\n",
      "760:\tlearn: 0.0248825\ttotal: 8.27s\tremaining: 2.6s\n",
      "761:\tlearn: 0.0248673\ttotal: 8.28s\tremaining: 2.58s\n",
      "762:\tlearn: 0.0248388\ttotal: 8.29s\tremaining: 2.57s\n",
      "763:\tlearn: 0.0247835\ttotal: 8.3s\tremaining: 2.56s\n",
      "764:\tlearn: 0.0247611\ttotal: 8.3s\tremaining: 2.55s\n",
      "765:\tlearn: 0.0247386\ttotal: 8.31s\tremaining: 2.54s\n",
      "766:\tlearn: 0.0247095\ttotal: 8.32s\tremaining: 2.53s\n",
      "767:\tlearn: 0.0246368\ttotal: 8.33s\tremaining: 2.52s\n",
      "768:\tlearn: 0.0246040\ttotal: 8.34s\tremaining: 2.5s\n",
      "769:\tlearn: 0.0245395\ttotal: 8.35s\tremaining: 2.49s\n",
      "770:\tlearn: 0.0244955\ttotal: 8.36s\tremaining: 2.48s\n",
      "771:\tlearn: 0.0244579\ttotal: 8.37s\tremaining: 2.47s\n",
      "772:\tlearn: 0.0244107\ttotal: 8.38s\tremaining: 2.46s\n",
      "773:\tlearn: 0.0243236\ttotal: 8.39s\tremaining: 2.45s\n",
      "774:\tlearn: 0.0242892\ttotal: 8.4s\tremaining: 2.44s\n",
      "775:\tlearn: 0.0242637\ttotal: 8.41s\tremaining: 2.43s\n",
      "776:\tlearn: 0.0242205\ttotal: 8.46s\tremaining: 2.43s\n",
      "777:\tlearn: 0.0241976\ttotal: 8.46s\tremaining: 2.42s\n",
      "778:\tlearn: 0.0241607\ttotal: 8.47s\tremaining: 2.4s\n",
      "779:\tlearn: 0.0241249\ttotal: 8.48s\tremaining: 2.39s\n",
      "780:\tlearn: 0.0241058\ttotal: 8.49s\tremaining: 2.38s\n",
      "781:\tlearn: 0.0240348\ttotal: 8.5s\tremaining: 2.37s\n",
      "782:\tlearn: 0.0240075\ttotal: 8.51s\tremaining: 2.36s\n",
      "783:\tlearn: 0.0239818\ttotal: 8.52s\tremaining: 2.35s\n",
      "784:\tlearn: 0.0239658\ttotal: 8.53s\tremaining: 2.34s\n",
      "785:\tlearn: 0.0239441\ttotal: 8.54s\tremaining: 2.33s\n",
      "786:\tlearn: 0.0239050\ttotal: 8.55s\tremaining: 2.31s\n",
      "787:\tlearn: 0.0238628\ttotal: 8.56s\tremaining: 2.3s\n",
      "788:\tlearn: 0.0238165\ttotal: 8.57s\tremaining: 2.29s\n",
      "789:\tlearn: 0.0237862\ttotal: 8.58s\tremaining: 2.28s\n",
      "790:\tlearn: 0.0237715\ttotal: 8.59s\tremaining: 2.27s\n",
      "791:\tlearn: 0.0237383\ttotal: 8.6s\tremaining: 2.26s\n",
      "792:\tlearn: 0.0237051\ttotal: 8.61s\tremaining: 2.25s\n",
      "793:\tlearn: 0.0236693\ttotal: 8.62s\tremaining: 2.24s\n",
      "794:\tlearn: 0.0236274\ttotal: 8.63s\tremaining: 2.23s\n",
      "795:\tlearn: 0.0236010\ttotal: 8.64s\tremaining: 2.21s\n",
      "796:\tlearn: 0.0235728\ttotal: 8.65s\tremaining: 2.2s\n",
      "797:\tlearn: 0.0235264\ttotal: 8.66s\tremaining: 2.19s\n",
      "798:\tlearn: 0.0234841\ttotal: 8.67s\tremaining: 2.18s\n",
      "799:\tlearn: 0.0234362\ttotal: 8.68s\tremaining: 2.17s\n",
      "800:\tlearn: 0.0233981\ttotal: 8.69s\tremaining: 2.16s\n",
      "801:\tlearn: 0.0233602\ttotal: 8.7s\tremaining: 2.15s\n",
      "802:\tlearn: 0.0233376\ttotal: 8.71s\tremaining: 2.13s\n",
      "803:\tlearn: 0.0233268\ttotal: 8.71s\tremaining: 2.12s\n",
      "804:\tlearn: 0.0232952\ttotal: 8.72s\tremaining: 2.11s\n",
      "805:\tlearn: 0.0232640\ttotal: 8.73s\tremaining: 2.1s\n",
      "806:\tlearn: 0.0232412\ttotal: 8.74s\tremaining: 2.09s\n",
      "807:\tlearn: 0.0232016\ttotal: 8.75s\tremaining: 2.08s\n",
      "808:\tlearn: 0.0231522\ttotal: 8.76s\tremaining: 2.07s\n",
      "809:\tlearn: 0.0231233\ttotal: 8.77s\tremaining: 2.06s\n",
      "810:\tlearn: 0.0230933\ttotal: 8.78s\tremaining: 2.04s\n",
      "811:\tlearn: 0.0230768\ttotal: 8.79s\tremaining: 2.03s\n",
      "812:\tlearn: 0.0230251\ttotal: 8.8s\tremaining: 2.02s\n",
      "813:\tlearn: 0.0229642\ttotal: 8.81s\tremaining: 2.01s\n",
      "814:\tlearn: 0.0229446\ttotal: 8.82s\tremaining: 2s\n",
      "815:\tlearn: 0.0229159\ttotal: 8.83s\tremaining: 1.99s\n",
      "816:\tlearn: 0.0228956\ttotal: 8.84s\tremaining: 1.98s\n",
      "817:\tlearn: 0.0228713\ttotal: 8.85s\tremaining: 1.97s\n",
      "818:\tlearn: 0.0228532\ttotal: 8.86s\tremaining: 1.96s\n",
      "819:\tlearn: 0.0228438\ttotal: 8.87s\tremaining: 1.95s\n",
      "820:\tlearn: 0.0228116\ttotal: 8.88s\tremaining: 1.94s\n",
      "821:\tlearn: 0.0227756\ttotal: 8.89s\tremaining: 1.93s\n",
      "822:\tlearn: 0.0227451\ttotal: 8.91s\tremaining: 1.92s\n",
      "823:\tlearn: 0.0227102\ttotal: 8.92s\tremaining: 1.9s\n",
      "824:\tlearn: 0.0226603\ttotal: 8.93s\tremaining: 1.89s\n",
      "825:\tlearn: 0.0226471\ttotal: 8.94s\tremaining: 1.88s\n",
      "826:\tlearn: 0.0226158\ttotal: 8.96s\tremaining: 1.87s\n",
      "827:\tlearn: 0.0225841\ttotal: 8.96s\tremaining: 1.86s\n",
      "828:\tlearn: 0.0225258\ttotal: 8.98s\tremaining: 1.85s\n",
      "829:\tlearn: 0.0224810\ttotal: 8.99s\tremaining: 1.84s\n",
      "830:\tlearn: 0.0224179\ttotal: 9s\tremaining: 1.83s\n",
      "831:\tlearn: 0.0223920\ttotal: 9.02s\tremaining: 1.82s\n",
      "832:\tlearn: 0.0223529\ttotal: 9.03s\tremaining: 1.81s\n",
      "833:\tlearn: 0.0223383\ttotal: 9.04s\tremaining: 1.8s\n",
      "834:\tlearn: 0.0222779\ttotal: 9.05s\tremaining: 1.79s\n",
      "835:\tlearn: 0.0222653\ttotal: 9.06s\tremaining: 1.78s\n",
      "836:\tlearn: 0.0222351\ttotal: 9.07s\tremaining: 1.76s\n",
      "837:\tlearn: 0.0221663\ttotal: 9.08s\tremaining: 1.75s\n",
      "838:\tlearn: 0.0221303\ttotal: 9.09s\tremaining: 1.74s\n",
      "839:\tlearn: 0.0220969\ttotal: 9.1s\tremaining: 1.73s\n",
      "840:\tlearn: 0.0220740\ttotal: 9.1s\tremaining: 1.72s\n",
      "841:\tlearn: 0.0220345\ttotal: 9.11s\tremaining: 1.71s\n",
      "842:\tlearn: 0.0220156\ttotal: 9.12s\tremaining: 1.7s\n",
      "843:\tlearn: 0.0219721\ttotal: 9.13s\tremaining: 1.69s\n",
      "844:\tlearn: 0.0219618\ttotal: 9.14s\tremaining: 1.68s\n",
      "845:\tlearn: 0.0219403\ttotal: 9.15s\tremaining: 1.67s\n",
      "846:\tlearn: 0.0219037\ttotal: 9.16s\tremaining: 1.66s\n",
      "847:\tlearn: 0.0218895\ttotal: 9.17s\tremaining: 1.64s\n",
      "848:\tlearn: 0.0218555\ttotal: 9.18s\tremaining: 1.63s\n",
      "849:\tlearn: 0.0218178\ttotal: 9.19s\tremaining: 1.62s\n",
      "850:\tlearn: 0.0218085\ttotal: 9.2s\tremaining: 1.61s\n",
      "851:\tlearn: 0.0217630\ttotal: 9.21s\tremaining: 1.6s\n",
      "852:\tlearn: 0.0216985\ttotal: 9.22s\tremaining: 1.59s\n",
      "853:\tlearn: 0.0216668\ttotal: 9.23s\tremaining: 1.58s\n",
      "854:\tlearn: 0.0216222\ttotal: 9.24s\tremaining: 1.57s\n",
      "855:\tlearn: 0.0215801\ttotal: 9.25s\tremaining: 1.56s\n",
      "856:\tlearn: 0.0215541\ttotal: 9.26s\tremaining: 1.54s\n",
      "857:\tlearn: 0.0215142\ttotal: 9.27s\tremaining: 1.53s\n",
      "858:\tlearn: 0.0214716\ttotal: 9.28s\tremaining: 1.52s\n",
      "859:\tlearn: 0.0214395\ttotal: 9.29s\tremaining: 1.51s\n",
      "860:\tlearn: 0.0213919\ttotal: 9.3s\tremaining: 1.5s\n",
      "861:\tlearn: 0.0213678\ttotal: 9.31s\tremaining: 1.49s\n",
      "862:\tlearn: 0.0213493\ttotal: 9.32s\tremaining: 1.48s\n",
      "863:\tlearn: 0.0213020\ttotal: 9.33s\tremaining: 1.47s\n",
      "864:\tlearn: 0.0212823\ttotal: 9.34s\tremaining: 1.46s\n",
      "865:\tlearn: 0.0212368\ttotal: 9.35s\tremaining: 1.45s\n",
      "866:\tlearn: 0.0212250\ttotal: 9.36s\tremaining: 1.44s\n",
      "867:\tlearn: 0.0212172\ttotal: 9.37s\tremaining: 1.42s\n",
      "868:\tlearn: 0.0211977\ttotal: 9.38s\tremaining: 1.41s\n",
      "869:\tlearn: 0.0211481\ttotal: 9.39s\tremaining: 1.4s\n",
      "870:\tlearn: 0.0211285\ttotal: 9.4s\tremaining: 1.39s\n",
      "871:\tlearn: 0.0210928\ttotal: 9.41s\tremaining: 1.38s\n",
      "872:\tlearn: 0.0210789\ttotal: 9.42s\tremaining: 1.37s\n",
      "873:\tlearn: 0.0210505\ttotal: 9.43s\tremaining: 1.36s\n",
      "874:\tlearn: 0.0210319\ttotal: 9.44s\tremaining: 1.35s\n",
      "875:\tlearn: 0.0209698\ttotal: 9.45s\tremaining: 1.34s\n",
      "876:\tlearn: 0.0209489\ttotal: 9.46s\tremaining: 1.33s\n",
      "877:\tlearn: 0.0209299\ttotal: 9.47s\tremaining: 1.32s\n",
      "878:\tlearn: 0.0208982\ttotal: 9.48s\tremaining: 1.3s\n",
      "879:\tlearn: 0.0208709\ttotal: 9.49s\tremaining: 1.29s\n",
      "880:\tlearn: 0.0208525\ttotal: 9.5s\tremaining: 1.28s\n",
      "881:\tlearn: 0.0208378\ttotal: 9.51s\tremaining: 1.27s\n",
      "882:\tlearn: 0.0207426\ttotal: 9.52s\tremaining: 1.26s\n",
      "883:\tlearn: 0.0207166\ttotal: 9.53s\tremaining: 1.25s\n",
      "884:\tlearn: 0.0206833\ttotal: 9.54s\tremaining: 1.24s\n",
      "885:\tlearn: 0.0206508\ttotal: 9.54s\tremaining: 1.23s\n",
      "886:\tlearn: 0.0206091\ttotal: 9.55s\tremaining: 1.22s\n",
      "887:\tlearn: 0.0205604\ttotal: 9.56s\tremaining: 1.21s\n",
      "888:\tlearn: 0.0205426\ttotal: 9.57s\tremaining: 1.2s\n",
      "889:\tlearn: 0.0205198\ttotal: 9.58s\tremaining: 1.18s\n",
      "890:\tlearn: 0.0204874\ttotal: 9.59s\tremaining: 1.17s\n",
      "891:\tlearn: 0.0204715\ttotal: 9.6s\tremaining: 1.16s\n",
      "892:\tlearn: 0.0204214\ttotal: 9.61s\tremaining: 1.15s\n",
      "893:\tlearn: 0.0203769\ttotal: 9.62s\tremaining: 1.14s\n",
      "894:\tlearn: 0.0203519\ttotal: 9.63s\tremaining: 1.13s\n",
      "895:\tlearn: 0.0203178\ttotal: 9.64s\tremaining: 1.12s\n",
      "896:\tlearn: 0.0202949\ttotal: 9.65s\tremaining: 1.11s\n",
      "897:\tlearn: 0.0202826\ttotal: 9.66s\tremaining: 1.1s\n",
      "898:\tlearn: 0.0202268\ttotal: 9.67s\tremaining: 1.09s\n",
      "899:\tlearn: 0.0201605\ttotal: 9.68s\tremaining: 1.07s\n",
      "900:\tlearn: 0.0201451\ttotal: 9.69s\tremaining: 1.06s\n",
      "901:\tlearn: 0.0201047\ttotal: 9.7s\tremaining: 1.05s\n",
      "902:\tlearn: 0.0200716\ttotal: 9.71s\tremaining: 1.04s\n",
      "903:\tlearn: 0.0200068\ttotal: 9.72s\tremaining: 1.03s\n",
      "904:\tlearn: 0.0199617\ttotal: 9.73s\tremaining: 1.02s\n",
      "905:\tlearn: 0.0199178\ttotal: 9.74s\tremaining: 1.01s\n",
      "906:\tlearn: 0.0198876\ttotal: 9.75s\tremaining: 1000ms\n",
      "907:\tlearn: 0.0198726\ttotal: 9.76s\tremaining: 989ms\n",
      "908:\tlearn: 0.0198526\ttotal: 9.77s\tremaining: 978ms\n",
      "909:\tlearn: 0.0198084\ttotal: 9.78s\tremaining: 967ms\n",
      "910:\tlearn: 0.0197788\ttotal: 9.78s\tremaining: 956ms\n",
      "911:\tlearn: 0.0197457\ttotal: 9.79s\tremaining: 945ms\n",
      "912:\tlearn: 0.0197059\ttotal: 9.8s\tremaining: 934ms\n",
      "913:\tlearn: 0.0196851\ttotal: 9.82s\tremaining: 924ms\n",
      "914:\tlearn: 0.0196679\ttotal: 9.83s\tremaining: 913ms\n",
      "915:\tlearn: 0.0196568\ttotal: 9.84s\tremaining: 902ms\n",
      "916:\tlearn: 0.0196029\ttotal: 9.85s\tremaining: 891ms\n",
      "917:\tlearn: 0.0195853\ttotal: 9.85s\tremaining: 880ms\n",
      "918:\tlearn: 0.0195517\ttotal: 9.86s\tremaining: 869ms\n",
      "919:\tlearn: 0.0195333\ttotal: 9.87s\tremaining: 859ms\n",
      "920:\tlearn: 0.0194899\ttotal: 9.88s\tremaining: 848ms\n",
      "921:\tlearn: 0.0194705\ttotal: 9.89s\tremaining: 837ms\n",
      "922:\tlearn: 0.0194419\ttotal: 9.9s\tremaining: 826ms\n",
      "923:\tlearn: 0.0194276\ttotal: 9.91s\tremaining: 815ms\n",
      "924:\tlearn: 0.0194180\ttotal: 9.92s\tremaining: 804ms\n",
      "925:\tlearn: 0.0194009\ttotal: 9.93s\tremaining: 793ms\n",
      "926:\tlearn: 0.0193741\ttotal: 9.94s\tremaining: 783ms\n",
      "927:\tlearn: 0.0193459\ttotal: 9.95s\tremaining: 772ms\n",
      "928:\tlearn: 0.0193197\ttotal: 9.96s\tremaining: 761ms\n",
      "929:\tlearn: 0.0192916\ttotal: 9.97s\tremaining: 750ms\n",
      "930:\tlearn: 0.0192620\ttotal: 9.98s\tremaining: 740ms\n",
      "931:\tlearn: 0.0192344\ttotal: 9.99s\tremaining: 729ms\n",
      "932:\tlearn: 0.0192210\ttotal: 10s\tremaining: 718ms\n",
      "933:\tlearn: 0.0191968\ttotal: 10s\tremaining: 707ms\n",
      "934:\tlearn: 0.0191732\ttotal: 10s\tremaining: 697ms\n",
      "935:\tlearn: 0.0191383\ttotal: 10s\tremaining: 686ms\n",
      "936:\tlearn: 0.0191172\ttotal: 10s\tremaining: 675ms\n",
      "937:\tlearn: 0.0191021\ttotal: 10.1s\tremaining: 664ms\n",
      "938:\tlearn: 0.0190742\ttotal: 10.1s\tremaining: 654ms\n",
      "939:\tlearn: 0.0190423\ttotal: 10.1s\tremaining: 643ms\n",
      "940:\tlearn: 0.0190152\ttotal: 10.1s\tremaining: 632ms\n",
      "941:\tlearn: 0.0189982\ttotal: 10.1s\tremaining: 621ms\n",
      "942:\tlearn: 0.0189769\ttotal: 10.1s\tremaining: 611ms\n",
      "943:\tlearn: 0.0189529\ttotal: 10.1s\tremaining: 600ms\n",
      "944:\tlearn: 0.0189409\ttotal: 10.1s\tremaining: 589ms\n",
      "945:\tlearn: 0.0189107\ttotal: 10.1s\tremaining: 578ms\n",
      "946:\tlearn: 0.0188794\ttotal: 10.1s\tremaining: 567ms\n",
      "947:\tlearn: 0.0188611\ttotal: 10.1s\tremaining: 557ms\n",
      "948:\tlearn: 0.0188566\ttotal: 10.2s\tremaining: 546ms\n",
      "949:\tlearn: 0.0188385\ttotal: 10.2s\tremaining: 536ms\n",
      "950:\tlearn: 0.0188217\ttotal: 10.2s\tremaining: 525ms\n",
      "951:\tlearn: 0.0187787\ttotal: 10.2s\tremaining: 514ms\n",
      "952:\tlearn: 0.0187493\ttotal: 10.2s\tremaining: 504ms\n",
      "953:\tlearn: 0.0187061\ttotal: 10.2s\tremaining: 493ms\n",
      "954:\tlearn: 0.0186721\ttotal: 10.2s\tremaining: 482ms\n",
      "955:\tlearn: 0.0186504\ttotal: 10.2s\tremaining: 471ms\n",
      "956:\tlearn: 0.0186239\ttotal: 10.3s\tremaining: 461ms\n",
      "957:\tlearn: 0.0186108\ttotal: 10.3s\tremaining: 450ms\n",
      "958:\tlearn: 0.0185833\ttotal: 10.3s\tremaining: 439ms\n",
      "959:\tlearn: 0.0185752\ttotal: 10.3s\tremaining: 428ms\n",
      "960:\tlearn: 0.0185476\ttotal: 10.3s\tremaining: 417ms\n",
      "961:\tlearn: 0.0185296\ttotal: 10.3s\tremaining: 407ms\n",
      "962:\tlearn: 0.0185027\ttotal: 10.3s\tremaining: 396ms\n",
      "963:\tlearn: 0.0184879\ttotal: 10.3s\tremaining: 385ms\n",
      "964:\tlearn: 0.0184621\ttotal: 10.3s\tremaining: 374ms\n",
      "965:\tlearn: 0.0184448\ttotal: 10.3s\tremaining: 364ms\n",
      "966:\tlearn: 0.0183968\ttotal: 10.3s\tremaining: 353ms\n",
      "967:\tlearn: 0.0183654\ttotal: 10.3s\tremaining: 342ms\n",
      "968:\tlearn: 0.0183471\ttotal: 10.4s\tremaining: 331ms\n",
      "969:\tlearn: 0.0183317\ttotal: 10.4s\tremaining: 321ms\n",
      "970:\tlearn: 0.0183047\ttotal: 10.4s\tremaining: 310ms\n",
      "971:\tlearn: 0.0182713\ttotal: 10.4s\tremaining: 299ms\n",
      "972:\tlearn: 0.0182555\ttotal: 10.4s\tremaining: 289ms\n",
      "973:\tlearn: 0.0182219\ttotal: 10.4s\tremaining: 278ms\n",
      "974:\tlearn: 0.0181957\ttotal: 10.4s\tremaining: 267ms\n",
      "975:\tlearn: 0.0181682\ttotal: 10.4s\tremaining: 256ms\n",
      "976:\tlearn: 0.0181430\ttotal: 10.4s\tremaining: 246ms\n",
      "977:\tlearn: 0.0181102\ttotal: 10.4s\tremaining: 235ms\n",
      "978:\tlearn: 0.0180882\ttotal: 10.5s\tremaining: 224ms\n",
      "979:\tlearn: 0.0180644\ttotal: 10.5s\tremaining: 214ms\n",
      "980:\tlearn: 0.0180267\ttotal: 10.5s\tremaining: 203ms\n",
      "981:\tlearn: 0.0180045\ttotal: 10.5s\tremaining: 192ms\n",
      "982:\tlearn: 0.0179684\ttotal: 10.5s\tremaining: 181ms\n",
      "983:\tlearn: 0.0179240\ttotal: 10.5s\tremaining: 171ms\n",
      "984:\tlearn: 0.0179075\ttotal: 10.5s\tremaining: 160ms\n",
      "985:\tlearn: 0.0178673\ttotal: 10.5s\tremaining: 149ms\n",
      "986:\tlearn: 0.0178291\ttotal: 10.5s\tremaining: 139ms\n",
      "987:\tlearn: 0.0178033\ttotal: 10.5s\tremaining: 128ms\n",
      "988:\tlearn: 0.0177739\ttotal: 10.5s\tremaining: 117ms\n",
      "989:\tlearn: 0.0177414\ttotal: 10.6s\tremaining: 107ms\n",
      "990:\tlearn: 0.0177203\ttotal: 10.6s\tremaining: 96ms\n",
      "991:\tlearn: 0.0176939\ttotal: 10.6s\tremaining: 85.3ms\n",
      "992:\tlearn: 0.0176779\ttotal: 10.6s\tremaining: 74.6ms\n",
      "993:\tlearn: 0.0176485\ttotal: 10.6s\tremaining: 64ms\n",
      "994:\tlearn: 0.0176265\ttotal: 10.6s\tremaining: 53.3ms\n",
      "995:\tlearn: 0.0175993\ttotal: 10.6s\tremaining: 42.6ms\n",
      "996:\tlearn: 0.0175884\ttotal: 10.6s\tremaining: 32ms\n",
      "997:\tlearn: 0.0175534\ttotal: 10.6s\tremaining: 21.3ms\n",
      "998:\tlearn: 0.0175327\ttotal: 10.6s\tremaining: 10.7ms\n",
      "999:\tlearn: 0.0175050\ttotal: 10.7s\tremaining: 0us\n"
     ]
    }
   ],
   "source": [
    "results=[]\n",
    "\n",
    "for i in clfs:\n",
    "    i.fit(X_train,y_train)\n",
    "    score=roc_auc_score(y_test,i.predict_proba(X_test),multi_class='ovr')\n",
    "    results.append(score)\n",
    "    \n",
    "Score=pd.DataFrame(data=results,index=Name)\n",
    "Score.columns=['Accuracy']"
   ]
  },
  {
   "cell_type": "code",
   "execution_count": 66,
   "id": "c11514b7",
   "metadata": {},
   "outputs": [
    {
     "data": {
      "text/html": [
       "<div>\n",
       "<style scoped>\n",
       "    .dataframe tbody tr th:only-of-type {\n",
       "        vertical-align: middle;\n",
       "    }\n",
       "\n",
       "    .dataframe tbody tr th {\n",
       "        vertical-align: top;\n",
       "    }\n",
       "\n",
       "    .dataframe thead th {\n",
       "        text-align: right;\n",
       "    }\n",
       "</style>\n",
       "<table border=\"1\" class=\"dataframe\">\n",
       "  <thead>\n",
       "    <tr style=\"text-align: right;\">\n",
       "      <th></th>\n",
       "      <th>Accuracy</th>\n",
       "    </tr>\n",
       "  </thead>\n",
       "  <tbody>\n",
       "    <tr>\n",
       "      <th>Neural_Network</th>\n",
       "      <td>0.994464</td>\n",
       "    </tr>\n",
       "    <tr>\n",
       "      <th>Bagging_classifier</th>\n",
       "      <td>0.990519</td>\n",
       "    </tr>\n",
       "    <tr>\n",
       "      <th>CAT Boosting</th>\n",
       "      <td>0.990213</td>\n",
       "    </tr>\n",
       "    <tr>\n",
       "      <th>GBBoosting</th>\n",
       "      <td>0.989229</td>\n",
       "    </tr>\n",
       "    <tr>\n",
       "      <th>XGB Boosting</th>\n",
       "      <td>0.988522</td>\n",
       "    </tr>\n",
       "    <tr>\n",
       "      <th>Light GBM</th>\n",
       "      <td>0.987677</td>\n",
       "    </tr>\n",
       "    <tr>\n",
       "      <th>Histogram Boosting Classifier</th>\n",
       "      <td>0.987358</td>\n",
       "    </tr>\n",
       "    <tr>\n",
       "      <th>Random Forest Classifier</th>\n",
       "      <td>0.979032</td>\n",
       "    </tr>\n",
       "    <tr>\n",
       "      <th>Naive Bayes classifier</th>\n",
       "      <td>0.950927</td>\n",
       "    </tr>\n",
       "    <tr>\n",
       "      <th>Decision Tree</th>\n",
       "      <td>0.880778</td>\n",
       "    </tr>\n",
       "    <tr>\n",
       "      <th>KNN</th>\n",
       "      <td>0.828327</td>\n",
       "    </tr>\n",
       "  </tbody>\n",
       "</table>\n",
       "</div>"
      ],
      "text/plain": [
       "                               Accuracy\n",
       "Neural_Network                 0.994464\n",
       "Bagging_classifier             0.990519\n",
       "CAT Boosting                   0.990213\n",
       "GBBoosting                     0.989229\n",
       "XGB Boosting                   0.988522\n",
       "Light GBM                      0.987677\n",
       "Histogram Boosting Classifier  0.987358\n",
       "Random Forest Classifier       0.979032\n",
       "Naive Bayes classifier         0.950927\n",
       "Decision Tree                  0.880778\n",
       "KNN                            0.828327"
      ]
     },
     "execution_count": 66,
     "metadata": {},
     "output_type": "execute_result"
    }
   ],
   "source": [
    "Score.sort_values(by='Accuracy',ascending=False)"
   ]
  }
 ],
 "metadata": {
  "kernelspec": {
   "display_name": "Python 3 (ipykernel)",
   "language": "python",
   "name": "python3"
  },
  "language_info": {
   "codemirror_mode": {
    "name": "ipython",
    "version": 3
   },
   "file_extension": ".py",
   "mimetype": "text/x-python",
   "name": "python",
   "nbconvert_exporter": "python",
   "pygments_lexer": "ipython3",
   "version": "3.9.12"
  }
 },
 "nbformat": 4,
 "nbformat_minor": 5
}
